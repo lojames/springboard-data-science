{
 "cells": [
  {
   "cell_type": "markdown",
   "id": "7615aa83",
   "metadata": {},
   "source": [
    "# Relational Databases"
   ]
  },
  {
   "cell_type": "markdown",
   "id": "3d9a3eab",
   "metadata": {},
   "source": [
    "Databases store data.  Information is stored in **tables**.  Tables have rows and columns.\n",
    "\n",
    "A **relational database** defines relations between tables in the database."
   ]
  },
  {
   "cell_type": "markdown",
   "id": "4cb02e25",
   "metadata": {},
   "source": [
    "## SQL\n",
    "SQL or **Structed Query Language** is a programming language for creating, querying and updating, relational databses.\n",
    "\n",
    "## Tables\n",
    "Rows are also known as **records**.\n",
    "Columns are also known as **fields**.  The column headers are called **attributes**.\n",
    "\n",
    "#### Table Naming Conventions:\n",
    "* are lowercase\n",
    "* have no spaces (use underscores)\n",
    "\n",
    "#### Field Naming Conventions\n",
    "* attributes are lowercase\n",
    "* attributes have no spaces (use underscores)\n",
    "* are singular\n",
    "* are unique - no 2 attributes in a table should have the same name\n",
    "* are not the same as the table name\n",
    "\n",
    "All tables should have a **key**, which is a field which is a unique identifier for each record in the table."
   ]
  },
  {
   "cell_type": "markdown",
   "id": "3b031cbe",
   "metadata": {},
   "source": [
    "## SQL Data Types\n",
    "Each field must have a data type.\n",
    "\n",
    "#### Varchar\n",
    "Strings of varying length (up to a specified length).\n",
    "\n",
    "#### Int\n",
    "Whole numbers from -2 billion to 2 billion.\n",
    "\n",
    "#### Numeric\n",
    "Floats which have up to 38 digits.\n",
    "\n",
    "## Schemas\n",
    "An blueprint of the database.  A schema includes general table information (such as table name, attributes, and data types) and also specifies relationships among the various tables."
   ]
  },
  {
   "cell_type": "markdown",
   "id": "b5f0ce6a",
   "metadata": {},
   "source": [
    "## Queries\n",
    "\n",
    "#### Select\n",
    "Specifies which fields should be selected.\n",
    "\n",
    "#### From\n",
    "Specifies which table.\n",
    "\n",
    "#### Examples:\n",
    "```\n",
    "SELECT name\n",
    "FROM patrons;\n",
    "```\n",
    "\n",
    "```\n",
    "SELECT name, card_num, total_fine\n",
    "FROM patrons;\n",
    "```\n",
    "\n",
    "```\n",
    "SELECT *\n",
    "FROM patrons;\n",
    "```\n",
    "\n",
    "#### Result Set\n",
    "The results from a query."
   ]
  },
  {
   "cell_type": "markdown",
   "id": "a4b372db",
   "metadata": {},
   "source": [
    "#### Aliasing\n",
    "Use aliasing to rename columns in the result set.\n",
    "```\n",
    "SELECT name AS first_name, year_hired\n",
    "FROM employees;\n",
    "```\n",
    "\n",
    "#### Distinct\n",
    "Return a list of unique  values of a specified column.\n",
    "```\n",
    "SELECT DISTINCT year_hired\n",
    "FROM employees;\n",
    "```\n",
    "When using distinct on multiple fields, it will return all unique combinations of the values.\n",
    "```\n",
    "SELECT DISTINCT dept_id, year_hired\n",
    "FROM employees;\n",
    "```\n",
    "\n",
    "## Views\n",
    "A view is a virtual table that is the result of a saved select statement.  These are generally not stored in the database.  The query code is stored.\n",
    "```\n",
    "CREATE VIEW employee_hire_years AS\n",
    "SELECT id, name, year_hired\n",
    "FROM employees;\n",
    "```\n",
    "\n",
    "We can now query the view directly as follows:\n",
    "```\n",
    "SELECT id, name\n",
    "FROM employee_hire_years\n",
    "```"
   ]
  },
  {
   "cell_type": "markdown",
   "id": "8dd36429",
   "metadata": {},
   "source": [
    "## SQL Flavors\n",
    "* PostgresSQL\n",
    "* T-SQL for Microsoft SQL Server\n",
    "\n",
    "#### PostgresSQL Example:\n",
    "```\n",
    "SELECT *\n",
    "FROM employees\n",
    "LIMIT 2;\n",
    "```\n",
    "\n",
    "#### SQL Server Example\n",
    "```\n",
    "SELECT TOP(2) *\n",
    "FROM employees;\n",
    "```"
   ]
  },
  {
   "cell_type": "code",
   "execution_count": null,
   "id": "fb30ddb5",
   "metadata": {},
   "outputs": [],
   "source": []
  }
 ],
 "metadata": {
  "kernelspec": {
   "display_name": "Python 3 (ipykernel)",
   "language": "python",
   "name": "python3"
  },
  "language_info": {
   "codemirror_mode": {
    "name": "ipython",
    "version": 3
   },
   "file_extension": ".py",
   "mimetype": "text/x-python",
   "name": "python",
   "nbconvert_exporter": "python",
   "pygments_lexer": "ipython3",
   "version": "3.9.13"
  }
 },
 "nbformat": 4,
 "nbformat_minor": 5
}
