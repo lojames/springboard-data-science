{
 "cells": [
  {
   "cell_type": "markdown",
   "id": "4249c45b",
   "metadata": {},
   "source": [
    "## INNER JOIN\n",
    "Returns a table that includes only records with matching keys in both tables.  All columns are returned.\n",
    "\n",
    "When selecting columns, columns that have the same name must be specified as below or an error is returned.\n",
    "\n",
    "```\n",
    "SELECT p1.country, p1.continent, prime_minister, president\n",
    "FROM prime_ministers AS p1\n",
    "INNER JOIN presidents AS p2\n",
    "ON p1.country = p2.country;\n",
    "```"
   ]
  },
  {
   "cell_type": "markdown",
   "id": "be77527f",
   "metadata": {},
   "source": [
    "## USING\n",
    "\n",
    "Can be used instead of `ON` when keys in both tables match.\n",
    "\n",
    "```\n",
    "\n",
    "SELECT c.name AS country, continent, l.name AS language, official\n",
    "  FROM countries AS c\n",
    "  INNER JOIN languages AS l\n",
    "    USING(code)\n",
    "```"
   ]
  },
  {
   "cell_type": "markdown",
   "id": "17b8fddc",
   "metadata": {},
   "source": [
    "## Self Joins\n",
    "Used to compare values in a field to other values of the same field from the same table.\n",
    "\n",
    "```\n",
    "SELECT p1.country AS country1, p2.country AS country2, p1.continent\n",
    "FROM prime_ministers AS p1\n",
    "INNER JOIN prime_ministers AS p2\n",
    "ON p1.continent = p2.continent AND p1.country <> p2.country\n",
    "```"
   ]
  },
  {
   "cell_type": "markdown",
   "id": "f68fb8d8",
   "metadata": {},
   "source": [
    "## CASE WHEN and THEN\n",
    "Slices a numerical field into categories.\n",
    "\n",
    "```\n",
    "SELECT name, continent, indep_year,\n",
    "    CASE WHEN indep_year < 1900 THEN 'before 1900'\n",
    "        WHEN indep_year <= 1930 THEN 'between 1900 and 1930'\n",
    "        ELSE 'after 1930' END\n",
    "        AS indep_year_group\n",
    "FROM states\n",
    "ORDER BY indep_year_group;\n",
    "```"
   ]
  },
  {
   "cell_type": "markdown",
   "id": "9c0622fd",
   "metadata": {},
   "source": [
    "## INTO\n",
    "Used to store tables.\n",
    "\n",
    "```\n",
    "SELECT name, continent, code, surface_area,\n",
    "    CASE WHEN surface_area > 2000000\n",
    "            THEN 'large'\n",
    "       WHEN surface_area > 350000\n",
    "            THEN 'medium'\n",
    "       ELSE 'small' END\n",
    "       AS geosize_group\n",
    "INTO countries_plus\n",
    "FROM countries;\n",
    "```"
   ]
  },
  {
   "cell_type": "markdown",
   "id": "8505ca92",
   "metadata": {},
   "source": [
    "## Outer Joins\n",
    "1. `LEFT JOIN`\n",
    "2. `RIGHT JOIN`\n",
    "3. `FULL JOIN`\n",
    "\n",
    "Returns ALL keys specified by the type of join.  Values for keys that are missing in the accompanying table are left blank.k"
   ]
  },
  {
   "cell_type": "markdown",
   "id": "2765604c",
   "metadata": {},
   "source": [
    "## LEFT JOIN\n",
    "\n",
    "```\n",
    "SELECT p1.country, prime_minister, president\n",
    "FROM prime_ministers AS p1\n",
    "LEFT JOIN presidents AS p2\n",
    "ON p1.country = p2.country;\n",
    "```"
   ]
  },
  {
   "cell_type": "markdown",
   "id": "c321b29f",
   "metadata": {},
   "source": [
    "## FULL JOIN\n",
    "\n",
    "Combines `LEFT JOIN` and `RIGHT JOIN` so all missing values are tracked.\n",
    "\n",
    "```\n",
    "SELECT p1.country AS pm_co, p2.country AS pres_co\n",
    "    prime_minister, president\n",
    "FROM prime_ministers AS p1\n",
    "FULL JOIN presidents AS p2\n",
    "ON p1.country = p2.country;\n",
    "```"
   ]
  },
  {
   "cell_type": "markdown",
   "id": "63a7b114",
   "metadata": {},
   "source": [
    "## CROSS JOIN\n",
    "Returns every possible combination of keys.\n",
    "\n",
    "```\n",
    "SELECT prime_minister, president\n",
    "FROM prime_ministers AS p1\n",
    "CROSS JOIN presidents AS p2\n",
    "WHERE p1.continent IN('North America', 'Oceania');\n",
    "```\n"
   ]
  },
  {
   "attachments": {},
   "cell_type": "markdown",
   "id": "106e6e33",
   "metadata": {},
   "source": [
    "## Sets\n",
    "![sets.png](sets.png)\n",
    "\n",
    "\n",
    "## UNION and UNION ALL\n",
    "```\n",
    "SELECT prime_minister AS leader, country\n",
    "FROM prime_ministers\n",
    "UNION\n",
    "SELECT monarch, country\n",
    "FROM monarchs\n",
    "ORDER BY country;\n",
    "```\n",
    "\n",
    "## INTERSECT\n",
    "```\n",
    "SELECT country\n",
    "FROM prime_ministers\n",
    "INTERSECT\n",
    "SELECT country\n",
    "FROM presidents\n",
    "```\n",
    "\n",
    "## EXCEPT\n",
    "\n",
    "Returns records that are only in the left table (missing from right table).\n",
    "\n",
    "```\n",
    "SELECT monarch, country\n",
    "FROM monarchs\n",
    "EXCEPT\n",
    "SELECT prime_mninister, country\n",
    "FROM prime_ministers\n",
    "```"
   ]
  },
  {
   "cell_type": "markdown",
   "id": "2b3ac399",
   "metadata": {},
   "source": [
    "## Semi Joins\n",
    "Returns records in the first table where a condition is met in a second table.\n",
    "\n",
    "```\n",
    "SELECT name\n",
    "FROM states\n",
    "WHERE indep_year < 1800\n",
    "\n",
    "SELECT president, country, continent\n",
    "FROM presidents\n",
    "WHERE country IN \n",
    "    (SELECT name\n",
    "    FROM states\n",
    "    WHERE indep_year < 1800)\n",
    "```\n",
    "\n",
    "## Anti Joins\n",
    "Returns records in the first table where a condition is NOT met in a second table.\n",
    "\n",
    "```\n",
    "SELECT name\n",
    "FROM states\n",
    "WHERE indep_year < 1800\n",
    "\n",
    "SELECT president, country, continent\n",
    "FROM presidents\n",
    "WHERE continent LIKE '%America'\n",
    "    AND country NOT IN\n",
    "    (SELECT name\n",
    "    FROM states\n",
    "    WHERE indep_year < 1800)\n",
    "```"
   ]
  },
  {
   "cell_type": "markdown",
   "id": "6d493999",
   "metadata": {},
   "source": [
    "## Nested Queries and Sub Queries\n",
    "\n",
    "```\n",
    "SELECT DISTINCT continent,\n",
    "    (SELECT COUNT(*)\n",
    "    FROM states\n",
    "    WHERE prime_ministers.continent = states.continent) AS countries_num\n",
    "FROM prime_ministers;\n",
    "```\n",
    "\n",
    "```\n",
    "SELECT DISTINCT monarchs.continent, subquery.max_perc\n",
    "FROM monarchs,\n",
    "    (SELECT continent, MAX(women_parli_perc) AS max_perc\n",
    "    FROM states\n",
    "    GROUP BY continent) AS subquery\n",
    "WHERE monarchs.continent = subquery.continent\n",
    "ORDER BY continent;\n",
    "```"
   ]
  },
  {
   "cell_type": "code",
   "execution_count": null,
   "id": "41686340",
   "metadata": {},
   "outputs": [],
   "source": []
  }
 ],
 "metadata": {
  "kernelspec": {
   "display_name": "Python 3 (ipykernel)",
   "language": "python",
   "name": "python3"
  },
  "language_info": {
   "codemirror_mode": {
    "name": "ipython",
    "version": 3
   },
   "file_extension": ".py",
   "mimetype": "text/x-python",
   "name": "python",
   "nbconvert_exporter": "python",
   "pygments_lexer": "ipython3",
   "version": "3.9.13"
  }
 },
 "nbformat": 4,
 "nbformat_minor": 5
}
