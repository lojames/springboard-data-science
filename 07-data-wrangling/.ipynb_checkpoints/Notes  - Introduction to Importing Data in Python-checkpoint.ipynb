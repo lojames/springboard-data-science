{
 "cells": [
  {
   "cell_type": "markdown",
   "id": "bda0dde8",
   "metadata": {},
   "source": [
    "##  Flat Files\n",
    "**Flat files** are basic text files that contain records or table data without any structured relationships.\n",
    "\n",
    "Column names are known as **attributes** or **features**.\n",
    "\n",
    "Reading a textfile:\n",
    "```\n",
    "filename = 'huck_finn.txt'\n",
    "file = open(`filename`, mode='r') #r is to read\n",
    "text = file.read()\n",
    "file.close()\n",
    "```\n",
    "\n",
    "Mode can be **r** for read and **w** for write.\n",
    "\n",
    "If you want to avoid having to explicitly state the file.close(), use the following code:\n",
    "```\n",
    "with open('huck_finn.txt', 'r') as file:\n",
    "    print(file.read())\n",
    "```\n",
    "\n",
    "Methods for file:\n",
    "* **.open(`filename`, mode=`mode`)** - opens file\n",
    "* **.read()** - reads entire file\n",
    "* **.readline()** - reads a single line of the file\n",
    "* **.close()** - closes file\n",
    "* **.closed()** - checks if file is closed\n",
    "\n",
    "Before opening a flat file, check if a header exists."
   ]
  },
  {
   "cell_type": "markdown",
   "id": "85c22bc6",
   "metadata": {},
   "source": [
    "## Numpy for flatfiles\n",
    "\n",
    "For basic imports use **np.loadtxt(`filename`, delimiter=`delimiter`, type=`datatype`)**\n",
    "\n",
    "Delimiters: **','** for command and **'\\t'** for tab"
   ]
  },
  {
   "cell_type": "code",
   "execution_count": 4,
   "id": "8cb54832",
   "metadata": {},
   "outputs": [
    {
     "name": "stdout",
     "output_type": "stream",
     "text": [
      "[[1. 0. 0. ... 0. 0. 0.]\n",
      " [0. 0. 0. ... 0. 0. 0.]\n",
      " [1. 0. 0. ... 0. 0. 0.]\n",
      " ...\n",
      " [2. 0. 0. ... 0. 0. 0.]\n",
      " [0. 0. 0. ... 0. 0. 0.]\n",
      " [5. 0. 0. ... 0. 0. 0.]]\n"
     ]
    }
   ],
   "source": [
    "import numpy as np\n",
    "\n",
    "filename = 'MNIST.csv'\n",
    "data = np.loadtxt(filename, delimiter=',')\n",
    "print (data)"
   ]
  },
  {
   "cell_type": "markdown",
   "id": "98a352f9",
   "metadata": {},
   "source": [
    "#### np.genfromtxt(`file`)\n",
    "Used with different datatypes.  The first parameter takes filename.\n",
    "Parameters:\n",
    "* delimiter \n",
    "* names - True or False specifying header\n",
    "* dtype - if set to None, will automatically determine\n",
    "\n",
    "You can access columns of the data using data[i] or data[`column name`].\n",
    "\n",
    "#### np.recfromcsv(`file`)\n",
    "This is np.genfromtxt(`file`) with default delimiter set to ',', `names=True`, and dtype=`None`"
   ]
  },
  {
   "cell_type": "markdown",
   "id": "ee49d459",
   "metadata": {},
   "source": [
    "## Pandas with flat files\n",
    "\n",
    "```\n",
    "import pandas as pd\n",
    "filename = 'MNIST.csv`\n",
    "data = pd.read_csv(filename)\n",
    "```\n",
    "\n",
    "Parameters of pd.read_csv:\n",
    "* nrows - number of rows to read\n",
    "* header - None or datatype\n",
    "* sep - delimiter\n",
    "* comment - the character(s) that comments occur after\n",
    "* na_values - list of strings to recognize as NA/NaN"
   ]
  },
  {
   "cell_type": "markdown",
   "id": "5c3f35a9",
   "metadata": {},
   "source": [
    "## Pickled Files\n",
    "\n",
    "**Pickled files** are serialized, or stored as a sequence of bytes or bytestream.\n",
    "\n",
    "```\n",
    "import pickle\n",
    "with open(filename, readmode) as file:\n",
    "    data = pickle.load(file)\n",
    "print (data)\n",
    "```\n",
    "\n",
    "One readmode is `'rb'` which specifies readonly binary."
   ]
  },
  {
   "cell_type": "markdown",
   "id": "f5714221",
   "metadata": {},
   "source": [
    "## Pandas with Excel\n",
    "\n",
    "```\n",
    "import pandas as pd\n",
    "    file = 'urbanpop.xlsx'\n",
    "    data = pd.ExcelFile(file)\n",
    "    print(data.sheet_names)\n",
    "```\n",
    "\n",
    "To get a particular sheet:\n",
    "* `df = data.parse(sheet_name)` (sheet name as a string)\n",
    "* `df = data.parse(int)` (sheet index as int)\n",
    "\n",
    "Parameters:\n",
    "* usecols - which columns to parse (int)\n",
    "* skiprows - list of rows to skip (int)\n",
    "* names - list of column names to rename to (str)"
   ]
  },
  {
   "cell_type": "markdown",
   "id": "81b0101e",
   "metadata": {},
   "source": [
    "## Current Working Directory\n",
    "```\n",
    "import os\n",
    "wd = os.getcwd()\n",
    "os.listdir(wd)\n",
    "```"
   ]
  },
  {
   "cell_type": "markdown",
   "id": "3434793f",
   "metadata": {},
   "source": [
    "## Pandas with SAS and Stata\n",
    "\n",
    "For SAS:\n",
    "```\n",
    "import pandas as pd\n",
    "from sas7bdat import SAS7BDAT\n",
    "\n",
    "with SAS7BDAT('urbanpop.sas7bdat') as file:\n",
    "    df_sas = file.to_data_frame()\n",
    "```\n",
    "\n",
    "For Stata\n",
    "```\n",
    "import pandas as pd\n",
    "data = pd.read_stata('urbanpop.dta')\n",
    "```"
   ]
  },
  {
   "cell_type": "markdown",
   "id": "68c1e2a6",
   "metadata": {},
   "source": [
    "## Pandas with HDF5\n",
    "\n",
    "Hierarchical Data Format version 5\n",
    "\n",
    "```\n",
    "import h5py\n",
    "filename = 'filename.hdf5'\n",
    "data = h5py.File(filename, 'r')\n",
    "```\n",
    "\n",
    "To get keys:\n",
    "```\n",
    "for key in data.keys():\n",
    "    print(key)\n",
    "```\n",
    "\n",
    "To access values of a key, use numpy:\n",
    "```\n",
    "values = np.array(df['meta'][column_name])\n",
    "```"
   ]
  },
  {
   "cell_type": "markdown",
   "id": "81b74fc5",
   "metadata": {},
   "source": [
    "## Pandas with MATLAB\n",
    "\n",
    "```\n",
    "import scipy.io\n",
    "filename = 'workspace.mat'\n",
    "mat = scipy.io.loadmat(filename)\n",
    "print (type(mat))\n",
    "```"
   ]
  },
  {
   "cell_type": "markdown",
   "id": "3c761f5e",
   "metadata": {},
   "source": [
    "## Relational Databases\n",
    "\n",
    "### SQLite with SQLAlchemy\n",
    "\n",
    "Firing up the database:\n",
    "```\n",
    "from sqlalchemy import create_engine\n",
    "engine = create_engine('sqlite:///Northwind.sqlit')\n",
    "```\n",
    "\n",
    "Getting table names:\n",
    "`table_names = engine.table_names()`\n",
    "\n",
    "Connecting to engine:\n",
    "`con = engine.connect()`\n",
    "\n",
    "Executing queries:\n",
    "`rs = con.execute(\"SELECT * FROM Orders\")`\n",
    "\n",
    "Saving the result set to a Pandas dataframe:\n",
    "`df = pd.DataFrame(rs.fetchall())`\n",
    "\n",
    "Assigning Column Names:\n",
    "`df.columns = rs.keys()`\n",
    "\n",
    "Closing the connection:\n",
    "`con.close()`\n",
    "\n",
    "#### Using Context Manager:\n",
    "```\n",
    "with engine.connect() as con:\n",
    "    rs = con.execute(\"SELECT Order ID, OrderDate FROM Orders\")\n",
    "    df = pd.DataFrame(rs.fetchmany(size=5))\n",
    "    df.columns = rs.keys()\n",
    "```\n",
    "\n",
    "#### 1-liner:\n",
    "`df = pd.read_sql_query(\"SELECT * FROM Orders\", engine)`"
   ]
  },
  {
   "cell_type": "code",
   "execution_count": null,
   "id": "2111ceee",
   "metadata": {},
   "outputs": [],
   "source": []
  }
 ],
 "metadata": {
  "kernelspec": {
   "display_name": "Python 3 (ipykernel)",
   "language": "python",
   "name": "python3"
  },
  "language_info": {
   "codemirror_mode": {
    "name": "ipython",
    "version": 3
   },
   "file_extension": ".py",
   "mimetype": "text/x-python",
   "name": "python",
   "nbconvert_exporter": "python",
   "pygments_lexer": "ipython3",
   "version": "3.9.13"
  }
 },
 "nbformat": 4,
 "nbformat_minor": 5
}
