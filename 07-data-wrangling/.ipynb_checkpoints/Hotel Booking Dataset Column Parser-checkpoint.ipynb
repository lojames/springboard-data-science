{
 "cells": [
  {
   "cell_type": "code",
   "execution_count": 2,
   "id": "65625936",
   "metadata": {},
   "outputs": [],
   "source": [
    "# Read file and entire contents of file as string.\n",
    "def import_data(filename):\n",
    "    file = open(filename, 'r')\n",
    "    data = file.read()\n",
    "    file.close()\n",
    "    return data"
   ]
  },
  {
   "cell_type": "code",
   "execution_count": 3,
   "id": "e77ab4f9",
   "metadata": {},
   "outputs": [
    {
     "name": "stdout",
     "output_type": "stream",
     "text": [
      "['hotel - (str) Type of hotel.', 'is_cancelled - (binary) Binary variable indicating reservation cancellation (0 = not cancelled, 1 = cancelled) - case response variable.', 'lead_time - (int) Number of days between reservation date and hotel check-in date (when the reservation was made).', 'arrival_date - (date) Date of arrival at the hotel (for when the reservation is).', 'stays_in_weekend_nights - (int) Number of weekend days in the reservation.', 'stays_in_week_nights - (int) Number of weekdays in the reservation.', 'adults - (int) Number of adults.', 'children - (int) Number of children.', 'babies - (int) Number of babies.', 'meal - (str) Type of meal included in the reservation.', 'country - (str) Country of the customer.', 'market_segment - (str) Customer marketing segmentation.', 'distribution_channel - (str) Sales channel through which the reservation was made.', 'is_repeated_guest - (binary) Has the customer already stayed at the hotel? (0 = no, 1 = yes).', 'previous_cancellations - (int) How many reservations the customer has canceled in the past.', 'previous_bookings_not_canceled - (int) How many bookings the customer has made and not canceled in the past.', 'reserved_room_type - (str) Desired room type.', 'assigned_room_type - (str) Type of room assigned.', 'booking_changes - (str) Number of changes to the booking between booking date and entry/cancellation.', 'deposit_type - (str) Type of deposit made at time of booking.', 'agent - (str) ID of the Agent who made the reservation (NA if the reservation was not made by an agent).', 'company - (str) ID of the company that made the reservation (NA if the reservation is not corporate)', 'days_in_waiting_list - (int) How many days did it take to confirm the reservation.', 'customer_type - (str) Booking type.', 'adr - (float) Average Daily Rate, average price for each night in the reservation.', 'required_car_parking_spaces - (int) Number of parking spaces required in the reservation.', 'total_of_special_requests - (int) Number of special requests in the reservation (double bed, floor, room with a viewâ€¦)', 'reservation_status_date - (date) Date the reservation was last updated.']\n"
     ]
    }
   ],
   "source": [
    "data = import_data('kaggle_dataset_cols.txt')\n",
    "data = data.split('\\n')\n",
    "print (data)"
   ]
  },
  {
   "cell_type": "code",
   "execution_count": 4,
   "id": "16e5c361",
   "metadata": {},
   "outputs": [
    {
     "name": "stdout",
     "output_type": "stream",
     "text": [
      "[['hotel', '(str) Type of hotel.'], ['is_cancelled', '(binary) Binary variable indicating reservation cancellation (0 = not cancelled, 1 = cancelled)', 'case response variable.'], ['lead_time', '(int) Number of days between reservation date and hotel check-in date (when the reservation was made).'], ['arrival_date', '(date) Date of arrival at the hotel (for when the reservation is).'], ['stays_in_weekend_nights', '(int) Number of weekend days in the reservation.'], ['stays_in_week_nights', '(int) Number of weekdays in the reservation.'], ['adults', '(int) Number of adults.'], ['children', '(int) Number of children.'], ['babies', '(int) Number of babies.'], ['meal', '(str) Type of meal included in the reservation.'], ['country', '(str) Country of the customer.'], ['market_segment', '(str) Customer marketing segmentation.'], ['distribution_channel', '(str) Sales channel through which the reservation was made.'], ['is_repeated_guest', '(binary) Has the customer already stayed at the hotel? (0 = no, 1 = yes).'], ['previous_cancellations', '(int) How many reservations the customer has canceled in the past.'], ['previous_bookings_not_canceled', '(int) How many bookings the customer has made and not canceled in the past.'], ['reserved_room_type', '(str) Desired room type.'], ['assigned_room_type', '(str) Type of room assigned.'], ['booking_changes', '(str) Number of changes to the booking between booking date and entry/cancellation.'], ['deposit_type', '(str) Type of deposit made at time of booking.'], ['agent', '(str) ID of the Agent who made the reservation (NA if the reservation was not made by an agent).'], ['company', '(str) ID of the company that made the reservation (NA if the reservation is not corporate)'], ['days_in_waiting_list', '(int) How many days did it take to confirm the reservation.'], ['customer_type', '(str) Booking type.'], ['adr', '(float) Average Daily Rate, average price for each night in the reservation.'], ['required_car_parking_spaces', '(int) Number of parking spaces required in the reservation.'], ['total_of_special_requests', '(int) Number of special requests in the reservation (double bed, floor, room with a viewâ€¦)'], ['reservation_status_date', '(date) Date the reservation was last updated.']]\n"
     ]
    }
   ],
   "source": [
    "data = [d.split(' - ') for d in data]\n",
    "print (data)"
   ]
  },
  {
   "cell_type": "code",
   "execution_count": 5,
   "id": "7f21ad07",
   "metadata": {},
   "outputs": [
    {
     "name": "stdout",
     "output_type": "stream",
     "text": [
      "['hotel', 'is_cancelled', 'lead_time', 'arrival_date', 'stays_in_weekend_nights', 'stays_in_week_nights', 'adults', 'children', 'babies', 'meal', 'country', 'market_segment', 'distribution_channel', 'is_repeated_guest', 'previous_cancellations', 'previous_bookings_not_canceled', 'reserved_room_type', 'assigned_room_type', 'booking_changes', 'deposit_type', 'agent', 'company', 'days_in_waiting_list', 'customer_type', 'adr', 'required_car_parking_spaces', 'total_of_special_requests', 'reservation_status_date']\n",
      "['(str) Type of hotel.', '(binary) Binary variable indicating reservation cancellation (0 = not cancelled, 1 = cancelled)', '(int) Number of days between reservation date and hotel check-in date (when the reservation was made).', '(date) Date of arrival at the hotel (for when the reservation is).', '(int) Number of weekend days in the reservation.', '(int) Number of weekdays in the reservation.', '(int) Number of adults.', '(int) Number of children.', '(int) Number of babies.', '(str) Type of meal included in the reservation.', '(str) Country of the customer.', '(str) Customer marketing segmentation.', '(str) Sales channel through which the reservation was made.', '(binary) Has the customer already stayed at the hotel? (0 = no, 1 = yes).', '(int) How many reservations the customer has canceled in the past.', '(int) How many bookings the customer has made and not canceled in the past.', '(str) Desired room type.', '(str) Type of room assigned.', '(str) Number of changes to the booking between booking date and entry/cancellation.', '(str) Type of deposit made at time of booking.', '(str) ID of the Agent who made the reservation (NA if the reservation was not made by an agent).', '(str) ID of the company that made the reservation (NA if the reservation is not corporate)', '(int) How many days did it take to confirm the reservation.', '(str) Booking type.', '(float) Average Daily Rate, average price for each night in the reservation.', '(int) Number of parking spaces required in the reservation.', '(int) Number of special requests in the reservation (double bed, floor, room with a viewâ€¦)', '(date) Date the reservation was last updated.']\n"
     ]
    }
   ],
   "source": [
    "data0 = [d[0] for d in data]\n",
    "data1 = [d[1] for d in data]\n",
    "print (data0)\n",
    "print (data1)"
   ]
  },
  {
   "cell_type": "code",
   "execution_count": 7,
   "id": "f722e2ef",
   "metadata": {},
   "outputs": [
    {
     "name": "stdout",
     "output_type": "stream",
     "text": [
      "hotel, is_cancelled, lead_time, arrival_date, stays_in_weekend_nights, stays_in_week_nights, adults, children, babies, meal, country, market_segment, distribution_channel, is_repeated_guest, previous_cancellations, previous_bookings_not_canceled, reserved_room_type, assigned_room_type, booking_changes, deposit_type, agent, company, days_in_waiting_list, customer_type, adr, required_car_parking_spaces, total_of_special_requests, reservation_status_date, \n"
     ]
    }
   ],
   "source": [
    "s = ''\n",
    "for d in data0:\n",
    "    s += d + ', '\n",
    "    \n",
    "print (s)"
   ]
  },
  {
   "cell_type": "code",
   "execution_count": 8,
   "id": "738fb5ba",
   "metadata": {},
   "outputs": [
    {
     "name": "stdout",
     "output_type": "stream",
     "text": [
      "(str) Type of hotel., (binary) Binary variable indicating reservation cancellation (0 = not cancelled, 1 = cancelled), (int) Number of days between reservation date and hotel check-in date (when the reservation was made)., (date) Date of arrival at the hotel (for when the reservation is)., (int) Number of weekend days in the reservation., (int) Number of weekdays in the reservation., (int) Number of adults., (int) Number of children., (int) Number of babies., (str) Type of meal included in the reservation., (str) Country of the customer., (str) Customer marketing segmentation., (str) Sales channel through which the reservation was made., (binary) Has the customer already stayed at the hotel? (0 = no, 1 = yes)., (int) How many reservations the customer has canceled in the past., (int) How many bookings the customer has made and not canceled in the past., (str) Desired room type., (str) Type of room assigned., (str) Number of changes to the booking between booking date and entry/cancellation., (str) Type of deposit made at time of booking., (str) ID of the Agent who made the reservation (NA if the reservation was not made by an agent)., (str) ID of the company that made the reservation (NA if the reservation is not corporate), (int) How many days did it take to confirm the reservation., (str) Booking type., (float) Average Daily Rate, average price for each night in the reservation., (int) Number of parking spaces required in the reservation., (int) Number of special requests in the reservation (double bed, floor, room with a viewâ€¦), (date) Date the reservation was last updated., \n"
     ]
    }
   ],
   "source": [
    "s = ''\n",
    "for d in data1:\n",
    "    s += d + ', '\n",
    "    \n",
    "print (s)"
   ]
  },
  {
   "cell_type": "code",
   "execution_count": 9,
   "id": "f3193197",
   "metadata": {},
   "outputs": [],
   "source": [
    "s = s.lower()"
   ]
  },
  {
   "cell_type": "code",
   "execution_count": 10,
   "id": "035d7709",
   "metadata": {},
   "outputs": [],
   "source": [
    "s = s.replace('.', '')"
   ]
  },
  {
   "cell_type": "code",
   "execution_count": 12,
   "id": "6f328a8e",
   "metadata": {},
   "outputs": [
    {
     "name": "stdout",
     "output_type": "stream",
     "text": [
      "(str) type of hotel, (binary) binary variable indicating reservation cancellation (0 = not cancelled, 1 = cancelled), (int) number of days between reservation date and hotel check-in date (when the reservation was made), (date) date of arrival at the hotel (for when the reservation is), (int) number of weekend days in the reservation, (int) number of weekdays in the reservation, (int) number of adults, (int) number of children, (int) number of babies, (str) type of meal included in the reservation, (str) country of the customer, (str) customer marketing segmentation, (str) sales channel through which the reservation was made, (binary) has the customer already stayed at the hotel? (0 = no, 1 = yes), (int) how many reservations the customer has canceled in the past, (int) how many bookings the customer has made and not canceled in the past, (str) desired room type, (str) type of room assigned, (str) number of changes to the booking between booking date and entry/cancellation, (str) type of deposit made at time of booking, (str) id of the agent who made the reservation (na if the reservation was not made by an agent), (str) id of the company that made the reservation (na if the reservation is not corporate), (int) how many days did it take to confirm the reservation, (str) booking type, (float) average daily rate, average price for each night in the reservation, (int) number of parking spaces required in the reservation, (int) number of special requests in the reservation (double bed, floor, room with a viewâ€¦), (date) date the reservation was last updated, \n"
     ]
    }
   ],
   "source": [
    "print (s)"
   ]
  },
  {
   "cell_type": "code",
   "execution_count": 18,
   "id": "8e98e94b",
   "metadata": {},
   "outputs": [
    {
     "name": "stdout",
     "output_type": "stream",
     "text": [
      "type of hotel, binary variable indicating reservation cancellation (0 = not cancelled, 1 = cancelled), number of days between reservation date and hotel check-in date (when the reservation was made), date of arrival at the hotel (for when the reservation is), number of weekend days in the reservation, number of weekdays in the reservation, number of adults, number of children, number of babies, type of meal included in the reservation, country of the customer, customer marketing segmentation, sales channel through which the reservation was made, has the customer already stayed at the hotel? (0 = no, 1 = yes), how many reservations the customer has canceled in the past, how many bookings the customer has made and not canceled in the past, desired room type, type of room assigned, number of changes to the booking between booking date and entry/cancellation, type of deposit made at time of booking, id of the agent who made the reservation (na if the reservation was not made by an agent), id of the company that made the reservation (na if the reservation is not corporate), how many days did it take to confirm the reservation, booking type, average daily rate, average price for each night in the reservation, number of parking spaces required in the reservation, number of special requests in the reservation (double bed, floor, room with a viewâ€¦), date the reservation was last updated, \n"
     ]
    }
   ],
   "source": [
    "import re\n",
    "str_output = re.sub('\\(.{1,6}\\) ','', s)\n",
    "print (str_output)"
   ]
  },
  {
   "cell_type": "code",
   "execution_count": null,
   "id": "1b0aa72f",
   "metadata": {},
   "outputs": [],
   "source": []
  }
 ],
 "metadata": {
  "kernelspec": {
   "display_name": "Python 3 (ipykernel)",
   "language": "python",
   "name": "python3"
  },
  "language_info": {
   "codemirror_mode": {
    "name": "ipython",
    "version": 3
   },
   "file_extension": ".py",
   "mimetype": "text/x-python",
   "name": "python",
   "nbconvert_exporter": "python",
   "pygments_lexer": "ipython3",
   "version": "3.9.13"
  }
 },
 "nbformat": 4,
 "nbformat_minor": 5
}
