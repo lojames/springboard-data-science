{
 "cells": [
  {
   "cell_type": "markdown",
   "id": "08383971",
   "metadata": {},
   "source": [
    "## Capstone 2: 99 DAPT SAO IH Hotel Booking Leaderboard Analysis"
   ]
  },
  {
   "cell_type": "markdown",
   "id": "219ae382",
   "metadata": {},
   "source": [
    "While calculating summary statistics for a table of only 14 rows is trivial and is done faster manually, this was implemented as an exercise.\n",
    "\n",
    "Attempts were unsuccessfully made to scrape the leaderboard page directly into a pandas database.\n",
    "\n",
    "Instead, data was copied and pasted into the 'kaggle_leaderboard.txt' file."
   ]
  },
  {
   "cell_type": "code",
   "execution_count": 95,
   "id": "0314f09c",
   "metadata": {},
   "outputs": [],
   "source": [
    "import pandas as pd"
   ]
  },
  {
   "cell_type": "code",
   "execution_count": 96,
   "id": "58bfa5a2",
   "metadata": {},
   "outputs": [],
   "source": [
    "file = open('kaggle_leaderboard.txt', 'r')\n",
    "data = file.readlines() "
   ]
  },
  {
   "cell_type": "markdown",
   "id": "cd2930af",
   "metadata": {},
   "source": [
    "Examining the data with the first 10 elements, last 10 elements, and the number of elements."
   ]
  },
  {
   "cell_type": "code",
   "execution_count": 97,
   "id": "68930724",
   "metadata": {},
   "outputs": [
    {
     "name": "stdout",
     "output_type": "stream",
     "text": [
      "['1\\n', 'Manav Gupta\\n', '0.97175\\n', '9\\n', '3mo\\n', '2\\n', 'Christopher Coffee\\n', '0.83468\\n', '37\\n', '3mo\\n']\n",
      "['13\\n', '+1 participant\\n', '0.43047\\n', '2\\n', '3mo\\n', '14\\n', 'Vishal Kanojiya\\n', '0.37045\\n', '1\\n', '3mo']\n",
      "70\n"
     ]
    }
   ],
   "source": [
    "print (data[0:10])\n",
    "print (data[-10:])\n",
    "print (len(data))"
   ]
  },
  {
   "cell_type": "markdown",
   "id": "4d742adc",
   "metadata": {},
   "source": [
    "Upon quick inspection, the newline characters are visible in each string.  In order to remove the newline characters:"
   ]
  },
  {
   "cell_type": "code",
   "execution_count": 98,
   "id": "7f1ad257",
   "metadata": {},
   "outputs": [
    {
     "name": "stdout",
     "output_type": "stream",
     "text": [
      "['1', 'Manav Gupta', '0.97175', '9', '3mo', '2', 'Christopher Coffee', '0.83468', '37', '3mo']\n"
     ]
    }
   ],
   "source": [
    "data = [d.replace('\\n', '') for d in data]\n",
    "print (data[0:10])"
   ]
  },
  {
   "cell_type": "markdown",
   "id": "7b372e81",
   "metadata": {},
   "source": [
    "Note that the relevant string to extract is the 3rd element of every 5 elements.  The relevant string is extracted and converted into a float."
   ]
  },
  {
   "cell_type": "code",
   "execution_count": 99,
   "id": "51b23bef",
   "metadata": {},
   "outputs": [
    {
     "name": "stdout",
     "output_type": "stream",
     "text": [
      "[0.97175, 0.83468, 0.82502, 0.78398, 0.77044, 0.74509, 0.73951, 0.72208, 0.698, 0.63865, 0.63865, 0.54444, 0.43047, 0.37045]\n"
     ]
    }
   ],
   "source": [
    "scores = [float(data[i]) for i in range(2, len(data),5)]\n",
    "print (scores)"
   ]
  },
  {
   "cell_type": "markdown",
   "id": "bbea61fb",
   "metadata": {},
   "source": [
    "The list of scores is converted into a pandas dataframe."
   ]
  },
  {
   "cell_type": "code",
   "execution_count": 102,
   "id": "4a9e74b0",
   "metadata": {},
   "outputs": [
    {
     "data": {
      "text/html": [
       "<div>\n",
       "<style scoped>\n",
       "    .dataframe tbody tr th:only-of-type {\n",
       "        vertical-align: middle;\n",
       "    }\n",
       "\n",
       "    .dataframe tbody tr th {\n",
       "        vertical-align: top;\n",
       "    }\n",
       "\n",
       "    .dataframe thead th {\n",
       "        text-align: right;\n",
       "    }\n",
       "</style>\n",
       "<table border=\"1\" class=\"dataframe\">\n",
       "  <thead>\n",
       "    <tr style=\"text-align: right;\">\n",
       "      <th></th>\n",
       "      <th>Scores</th>\n",
       "    </tr>\n",
       "  </thead>\n",
       "  <tbody>\n",
       "    <tr>\n",
       "      <th>0</th>\n",
       "      <td>0.97175</td>\n",
       "    </tr>\n",
       "    <tr>\n",
       "      <th>1</th>\n",
       "      <td>0.83468</td>\n",
       "    </tr>\n",
       "    <tr>\n",
       "      <th>2</th>\n",
       "      <td>0.82502</td>\n",
       "    </tr>\n",
       "    <tr>\n",
       "      <th>3</th>\n",
       "      <td>0.78398</td>\n",
       "    </tr>\n",
       "    <tr>\n",
       "      <th>4</th>\n",
       "      <td>0.77044</td>\n",
       "    </tr>\n",
       "  </tbody>\n",
       "</table>\n",
       "</div>"
      ],
      "text/plain": [
       "    Scores\n",
       "0  0.97175\n",
       "1  0.83468\n",
       "2  0.82502\n",
       "3  0.78398\n",
       "4  0.77044"
      ]
     },
     "execution_count": 102,
     "metadata": {},
     "output_type": "execute_result"
    }
   ],
   "source": [
    "scores = pd.DataFrame(scores, columns=['Scores'])\n",
    "scores.head()"
   ]
  },
  {
   "cell_type": "markdown",
   "id": "69fd7592",
   "metadata": {},
   "source": [
    "Summary statistics are displayed."
   ]
  },
  {
   "cell_type": "code",
   "execution_count": 107,
   "id": "7b3bf7b1",
   "metadata": {},
   "outputs": [
    {
     "data": {
      "text/html": [
       "<div>\n",
       "<style scoped>\n",
       "    .dataframe tbody tr th:only-of-type {\n",
       "        vertical-align: middle;\n",
       "    }\n",
       "\n",
       "    .dataframe tbody tr th {\n",
       "        vertical-align: top;\n",
       "    }\n",
       "\n",
       "    .dataframe thead th {\n",
       "        text-align: right;\n",
       "    }\n",
       "</style>\n",
       "<table border=\"1\" class=\"dataframe\">\n",
       "  <thead>\n",
       "    <tr style=\"text-align: right;\">\n",
       "      <th></th>\n",
       "      <th>Scores</th>\n",
       "    </tr>\n",
       "  </thead>\n",
       "  <tbody>\n",
       "    <tr>\n",
       "      <th>count</th>\n",
       "      <td>14.000000</td>\n",
       "    </tr>\n",
       "    <tr>\n",
       "      <th>mean</th>\n",
       "      <td>0.693801</td>\n",
       "    </tr>\n",
       "    <tr>\n",
       "      <th>std</th>\n",
       "      <td>0.160804</td>\n",
       "    </tr>\n",
       "    <tr>\n",
       "      <th>min</th>\n",
       "      <td>0.370450</td>\n",
       "    </tr>\n",
       "    <tr>\n",
       "      <th>25%</th>\n",
       "      <td>0.638650</td>\n",
       "    </tr>\n",
       "    <tr>\n",
       "      <th>50%</th>\n",
       "      <td>0.730795</td>\n",
       "    </tr>\n",
       "    <tr>\n",
       "      <th>75%</th>\n",
       "      <td>0.780595</td>\n",
       "    </tr>\n",
       "    <tr>\n",
       "      <th>max</th>\n",
       "      <td>0.971750</td>\n",
       "    </tr>\n",
       "  </tbody>\n",
       "</table>\n",
       "</div>"
      ],
      "text/plain": [
       "          Scores\n",
       "count  14.000000\n",
       "mean    0.693801\n",
       "std     0.160804\n",
       "min     0.370450\n",
       "25%     0.638650\n",
       "50%     0.730795\n",
       "75%     0.780595\n",
       "max     0.971750"
      ]
     },
     "execution_count": 107,
     "metadata": {},
     "output_type": "execute_result"
    }
   ],
   "source": [
    "scores.describe()"
   ]
  },
  {
   "cell_type": "markdown",
   "id": "c02aba2e",
   "metadata": {},
   "source": [
    "I had originally aimed to score in the top 2%, had there been a lot more interest in this Kaggle exercise.  Instead, I'll aim to score 94% or better."
   ]
  }
 ],
 "metadata": {
  "kernelspec": {
   "display_name": "Python 3 (ipykernel)",
   "language": "python",
   "name": "python3"
  },
  "language_info": {
   "codemirror_mode": {
    "name": "ipython",
    "version": 3
   },
   "file_extension": ".py",
   "mimetype": "text/x-python",
   "name": "python",
   "nbconvert_exporter": "python",
   "pygments_lexer": "ipython3",
   "version": "3.9.13"
  }
 },
 "nbformat": 4,
 "nbformat_minor": 5
}
