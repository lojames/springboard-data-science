{
 "cells": [
  {
   "cell_type": "markdown",
   "id": "a5317b10",
   "metadata": {},
   "source": [
    "## urllib Package\n",
    "\n",
    "```\n",
    "from urblib.request import urlretrieve\n",
    "url = 'http://archive.ics.uci.edu/ml/machine-learning-databases/wine-quality/winequality-white.csv'\n",
    "urlretrieve(url, 'winequality-white.csv')\n",
    "```\n",
    "\n",
    "## Pandas with urls\n",
    "```\n",
    "import pandas as pd\n",
    "df = pd.read_csv(url, sep = ';')\n",
    "```\n",
    "\n",
    "## GET Requests with urllib\n",
    "```\n",
    "from urllib.request import urlopen, Request\n",
    "\n",
    "url = 'https://www.wikipedia.org'\n",
    "request = Request(url)\n",
    "response = urlopen(request)\n",
    "html = response.read()\n",
    "response.close()\n",
    "```\n",
    "\n",
    "## GET requests using requests\n",
    "```\n",
    "import requests\n",
    "url = 'https://www.wikipedia.org'\n",
    "r = requests.get(url)\n",
    "text = r.text\n",
    "```"
   ]
  },
  {
   "cell_type": "markdown",
   "id": "2b7690cc",
   "metadata": {},
   "source": [
    "## Scraping and Parsing with Beautiful Soup\n",
    "```\n",
    "from bs4 import BeautifulSoup\n",
    "import requests\n",
    "\n",
    "url = 'https://www.crummy.com/software/BeautifulSoup/'\n",
    "r = requets.get(url)\n",
    "html_doc = r.text\n",
    "soup = BeautifulSoup(html_doc)\n",
    "```\n",
    "\n",
    "```soup.title```\n",
    "\n",
    "```soup.get_text()```\n",
    "\n",
    "```soup.prettify()```\n",
    "\n",
    "```\n",
    "for link in soup.find_all('a'):\n",
    "    print(link.get('href'))\n",
    "```"
   ]
  },
  {
   "cell_type": "markdown",
   "id": "650aa09f",
   "metadata": {},
   "source": [
    "## API\n",
    "Application Programming Interface.  A set of protocols and routines for building and interacting with software applications.\n",
    "\n",
    "## JSON\n",
    "JavaScript Object Notation.  Does real-time server to  browser communication.\n",
    "\n",
    "When importing to python, json objects are Python dictionaries.\n",
    "```\n",
    "import json\n",
    "with open('snakes.json', 'r') as json_file:\n",
    "    json_data = json.load(json_file)\n",
    "```\n",
    "\n",
    "## Using requests with JSON\n",
    "```\n",
    "import requests\n",
    "url = 'http://www.omdbapi.com/?t=hackers'\n",
    "r = requests.get(url)\n",
    "json_data = r.json()\n",
    "for k, v in json_data.items():\n",
    "    print(k+':', v)\n",
    "```\n",
    "\n"
   ]
  },
  {
   "cell_type": "markdown",
   "id": "cdedf30f",
   "metadata": {},
   "source": [
    "## Twitter API with Tweepy\n",
    "\n",
    "```\n",
    "#  Create Streaming object\n",
    "stream = tweepy.Stream(consumer_key, consumer_secret, access_token, access_token_secret)\n",
    "# Filter streams to capture data by keywords\n",
    "stream.filter(track=['apples', 'oranges'])\n",
    "```"
   ]
  }
 ],
 "metadata": {
  "kernelspec": {
   "display_name": "Python 3 (ipykernel)",
   "language": "python",
   "name": "python3"
  },
  "language_info": {
   "codemirror_mode": {
    "name": "ipython",
    "version": 3
   },
   "file_extension": ".py",
   "mimetype": "text/x-python",
   "name": "python",
   "nbconvert_exporter": "python",
   "pygments_lexer": "ipython3",
   "version": "3.9.13"
  }
 },
 "nbformat": 4,
 "nbformat_minor": 5
}
