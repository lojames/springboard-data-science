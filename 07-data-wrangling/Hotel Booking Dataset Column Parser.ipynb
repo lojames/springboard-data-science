{
 "cells": [
  {
   "cell_type": "code",
   "execution_count": 34,
   "id": "65625936",
   "metadata": {},
   "outputs": [],
   "source": [
    "# Read file and entire contents of file as string.\n",
    "def import_data(filename):\n",
    "    file = open(filename, 'r')\n",
    "    data = file.read()\n",
    "    file.close()\n",
    "    return data"
   ]
  },
  {
   "cell_type": "code",
   "execution_count": 38,
   "id": "e77ab4f9",
   "metadata": {},
   "outputs": [
    {
     "name": "stdout",
     "output_type": "stream",
     "text": [
      "['hotel - (str) Tipo de hotel.', 'is_cancelled - (binary) VariÃ¡vel binÃ¡ria indicando cancelamento da reserva (0 = nÃ£o cancelada, 1 = cancelada) - variÃ¡vel resposta do case.', 'lead_time - (int) NÃºmero de dias entre data da reserva e data de entrada no hotel (quando a reserva foi feita).', 'arrival_date - (date) Data de entrada no hotel (para quando a reserva Ã©).', 'stays_in_weekend_nights - (int) NÃºmero de dias em finais de semana na reserva.', 'stays_in_week_nights - (int) NÃºmero de dias de semana na reserva.', 'adults - (int) NÃºmero de adultos.', 'children - (int) NÃºmero de crianÃ§as.', 'babies - (int) NÃºmero de bebes.', 'meal - (str) Tipo de refeiÃ§Ã£o inclusa na reserva.', 'country - (str) PaÃ\\xads do cliente.', 'market_segment - (str) SegmentaÃ§Ã£o de marketing do cliente.', 'distribution_channel - (str) Canal de vendas pelo qual a reserva foi feita.', 'is_repeated_guest - (binary) O cliente jÃ¡ ficou hospedado no hotel? (0 = nÃ£o, 1 = sim).', 'previous_cancellations - (int) Quantas reservas o cliente jÃ¡ cancelou no passado.', 'previous_bookings_not_canceled - (int) Quantas reservas o cliente jÃ¡ fez e nÃ£o cancelou no passado.', 'reserved_room_type - (str) Tipo de quarto desejado.', 'assigned_room_type - (str) Tipo de quarto reservado.', 'booking_changes - (str) NÃºmero de mudanÃ§as na reserva entre data de reserva e entrada/cancelamento.', 'deposit_type - (str) Tipo de adiantamento feito no momento da reserva.', 'agent - (str) ID do Agente que fez a reserva (NA caso a reserva nÃ£o tenha sido feita por um agente).', 'company - (str) ID da empresa que fez a reserva (NA caso a reserva nÃ£o seja corporativa)', 'days_in_waiting_list - (int) Quantos dias demorou a confirmaÃ§Ã£o da reserva.', 'customer_type - (str) Tipo de reserva.', 'adr - (float) Average Daily Rate, preÃ§o mÃ©dio de cada diÃ¡ria na reserva.', 'required_car_parking_spaces - (int) NÃºmero de vagas em estacionamento requisitadas na reserva.', 'total_of_special_requests - (int) NÃºmero de requisiÃ§Ãµes especiais na reserva (cama dupla, andar, quarto com vistaâ€¦)', 'reservation_status_date - (date) Data da Ãºltima atualizaÃ§Ã£o feita na reserva.']\n"
     ]
    }
   ],
   "source": [
    "data = import_data('kaggle_dataset_cols.txt')\n",
    "data = data.split('\\n')\n",
    "print (data)"
   ]
  },
  {
   "cell_type": "code",
   "execution_count": 39,
   "id": "16e5c361",
   "metadata": {},
   "outputs": [
    {
     "name": "stdout",
     "output_type": "stream",
     "text": [
      "[['hotel', '(str) Tipo de hotel.'], ['is_cancelled', '(binary) VariÃ¡vel binÃ¡ria indicando cancelamento da reserva (0 = nÃ£o cancelada, 1 = cancelada)', 'variÃ¡vel resposta do case.'], ['lead_time', '(int) NÃºmero de dias entre data da reserva e data de entrada no hotel (quando a reserva foi feita).'], ['arrival_date', '(date) Data de entrada no hotel (para quando a reserva Ã©).'], ['stays_in_weekend_nights', '(int) NÃºmero de dias em finais de semana na reserva.'], ['stays_in_week_nights', '(int) NÃºmero de dias de semana na reserva.'], ['adults', '(int) NÃºmero de adultos.'], ['children', '(int) NÃºmero de crianÃ§as.'], ['babies', '(int) NÃºmero de bebes.'], ['meal', '(str) Tipo de refeiÃ§Ã£o inclusa na reserva.'], ['country', '(str) PaÃ\\xads do cliente.'], ['market_segment', '(str) SegmentaÃ§Ã£o de marketing do cliente.'], ['distribution_channel', '(str) Canal de vendas pelo qual a reserva foi feita.'], ['is_repeated_guest', '(binary) O cliente jÃ¡ ficou hospedado no hotel? (0 = nÃ£o, 1 = sim).'], ['previous_cancellations', '(int) Quantas reservas o cliente jÃ¡ cancelou no passado.'], ['previous_bookings_not_canceled', '(int) Quantas reservas o cliente jÃ¡ fez e nÃ£o cancelou no passado.'], ['reserved_room_type', '(str) Tipo de quarto desejado.'], ['assigned_room_type', '(str) Tipo de quarto reservado.'], ['booking_changes', '(str) NÃºmero de mudanÃ§as na reserva entre data de reserva e entrada/cancelamento.'], ['deposit_type', '(str) Tipo de adiantamento feito no momento da reserva.'], ['agent', '(str) ID do Agente que fez a reserva (NA caso a reserva nÃ£o tenha sido feita por um agente).'], ['company', '(str) ID da empresa que fez a reserva (NA caso a reserva nÃ£o seja corporativa)'], ['days_in_waiting_list', '(int) Quantos dias demorou a confirmaÃ§Ã£o da reserva.'], ['customer_type', '(str) Tipo de reserva.'], ['adr', '(float) Average Daily Rate, preÃ§o mÃ©dio de cada diÃ¡ria na reserva.'], ['required_car_parking_spaces', '(int) NÃºmero de vagas em estacionamento requisitadas na reserva.'], ['total_of_special_requests', '(int) NÃºmero de requisiÃ§Ãµes especiais na reserva (cama dupla, andar, quarto com vistaâ€¦)'], ['reservation_status_date', '(date) Data da Ãºltima atualizaÃ§Ã£o feita na reserva.']]\n"
     ]
    }
   ],
   "source": [
    "data = [d.split(' - ') for d in data]\n",
    "print (data)"
   ]
  },
  {
   "cell_type": "code",
   "execution_count": 40,
   "id": "7f21ad07",
   "metadata": {},
   "outputs": [
    {
     "name": "stdout",
     "output_type": "stream",
     "text": [
      "['hotel', 'is_cancelled', 'lead_time', 'arrival_date', 'stays_in_weekend_nights', 'stays_in_week_nights', 'adults', 'children', 'babies', 'meal', 'country', 'market_segment', 'distribution_channel', 'is_repeated_guest', 'previous_cancellations', 'previous_bookings_not_canceled', 'reserved_room_type', 'assigned_room_type', 'booking_changes', 'deposit_type', 'agent', 'company', 'days_in_waiting_list', 'customer_type', 'adr', 'required_car_parking_spaces', 'total_of_special_requests', 'reservation_status_date']\n"
     ]
    }
   ],
   "source": [
    "data = [d[0] for d in data]\n",
    "print (data)"
   ]
  },
  {
   "cell_type": "code",
   "execution_count": 44,
   "id": "f722e2ef",
   "metadata": {},
   "outputs": [
    {
     "name": "stdout",
     "output_type": "stream",
     "text": [
      "hotel, is_cancelled, lead_time, arrival_date, stays_in_weekend_nights, stays_in_week_nights, adults, children, babies, meal, country, market_segment, distribution_channel, is_repeated_guest, previous_cancellations, previous_bookings_not_canceled, reserved_room_type, assigned_room_type, booking_changes, deposit_type, agent, company, days_in_waiting_list, customer_type, adr, required_car_parking_spaces, total_of_special_requests, reservation_status_date, \n"
     ]
    }
   ],
   "source": [
    "s = ''\n",
    "for d in data:\n",
    "    s += d + ', '\n",
    "    \n",
    "print (s)"
   ]
  },
  {
   "cell_type": "code",
   "execution_count": null,
   "id": "738fb5ba",
   "metadata": {},
   "outputs": [],
   "source": []
  }
 ],
 "metadata": {
  "kernelspec": {
   "display_name": "Python 3 (ipykernel)",
   "language": "python",
   "name": "python3"
  },
  "language_info": {
   "codemirror_mode": {
    "name": "ipython",
    "version": 3
   },
   "file_extension": ".py",
   "mimetype": "text/x-python",
   "name": "python",
   "nbconvert_exporter": "python",
   "pygments_lexer": "ipython3",
   "version": "3.9.13"
  }
 },
 "nbformat": 4,
 "nbformat_minor": 5
}
