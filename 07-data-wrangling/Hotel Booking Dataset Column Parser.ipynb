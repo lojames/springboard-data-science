{
 "cells": [
  {
   "cell_type": "code",
   "execution_count": 30,
   "id": "65625936",
   "metadata": {},
   "outputs": [],
   "source": [
    "# Read file and store as string.\n",
    "def import_data_str(filename):\n",
    "    file = open(filename, 'r')\n",
    "    data = file.read()\n",
    "    file.close()\n",
    "    return data"
   ]
  },
  {
   "cell_type": "code",
   "execution_count": 31,
   "id": "e77ab4f9",
   "metadata": {},
   "outputs": [
    {
     "name": "stdout",
     "output_type": "stream",
     "text": [
      "['hotel - (str) Type of hotel.', 'is_cancelled - (binary) Binary variable indicating reservation cancellation (0 = not cancelled, 1 = cancelled) - case response variable.', 'lead_time - (int) Number of days between reservation date and hotel check-in date (when the reservation was made).', 'arrival_date - (date) Date of arrival at the hotel (for when the reservation is).', 'stays_in_weekend_nights - (int) Number of weekend days in the reservation.', 'stays_in_week_nights - (int) Number of weekdays in the reservation.', 'adults - (int) Number of adults.', 'children - (int) Number of children.', 'babies - (int) Number of babies.', 'meal - (str) Type of meal included in the reservation.', 'country - (str) Country of the customer.', 'market_segment - (str) Customer marketing segmentation.', 'distribution_channel - (str) Sales channel through which the reservation was made.', 'is_repeated_guest - (binary) Has the customer already stayed at the hotel? (0 = no, 1 = yes).', 'previous_cancellations - (int) How many reservations the customer has canceled in the past.', 'previous_bookings_not_canceled - (int) How many bookings the customer has made and not canceled in the past.', 'reserved_room_type - (str) Desired room type.', 'assigned_room_type - (str) Type of room assigned.', 'booking_changes - (str) Number of changes to the booking between booking date and entry/cancellation.', 'deposit_type - (str) Type of deposit made at time of booking.', 'agent - (str) ID of the Agent who made the reservation (NA if the reservation was not made by an agent).', 'company - (str) ID of the company that made the reservation (NA if the reservation is not corporate)', 'days_in_waiting_list - (int) How many days did it take to confirm the reservation.', 'customer_type - (str) Booking type.', 'adr - (float) Average Daily Rate, average price for each night in the reservation.', 'required_car_parking_spaces - (int) Number of parking spaces required in the reservation.', 'total_of_special_requests - (int) Number of special requests in the reservation (double bed, floor, room with a viewâ€¦)', 'reservation_status_date - (date) Date the reservation was last updated.']\n"
     ]
    }
   ],
   "source": [
    "data = import_data_str('kaggle_dataset_cols.txt')\n",
    "data = data.split('\\n')\n",
    "print (data)"
   ]
  },
  {
   "cell_type": "code",
   "execution_count": 3,
   "id": "16e5c361",
   "metadata": {},
   "outputs": [
    {
     "name": "stdout",
     "output_type": "stream",
     "text": [
      "[['hotel', '(str) Type of hotel.'], ['is_cancelled', '(binary) Binary variable indicating reservation cancellation (0 = not cancelled, 1 = cancelled)', 'case response variable.'], ['lead_time', '(int) Number of days between reservation date and hotel check-in date (when the reservation was made).'], ['arrival_date', '(date) Date of arrival at the hotel (for when the reservation is).'], ['stays_in_weekend_nights', '(int) Number of weekend days in the reservation.'], ['stays_in_week_nights', '(int) Number of weekdays in the reservation.'], ['adults', '(int) Number of adults.'], ['children', '(int) Number of children.'], ['babies', '(int) Number of babies.'], ['meal', '(str) Type of meal included in the reservation.'], ['country', '(str) Country of the customer.'], ['market_segment', '(str) Customer marketing segmentation.'], ['distribution_channel', '(str) Sales channel through which the reservation was made.'], ['is_repeated_guest', '(binary) Has the customer already stayed at the hotel? (0 = no, 1 = yes).'], ['previous_cancellations', '(int) How many reservations the customer has canceled in the past.'], ['previous_bookings_not_canceled', '(int) How many bookings the customer has made and not canceled in the past.'], ['reserved_room_type', '(str) Desired room type.'], ['assigned_room_type', '(str) Type of room assigned.'], ['booking_changes', '(str) Number of changes to the booking between booking date and entry/cancellation.'], ['deposit_type', '(str) Type of deposit made at time of booking.'], ['agent', '(str) ID of the Agent who made the reservation (NA if the reservation was not made by an agent).'], ['company', '(str) ID of the company that made the reservation (NA if the reservation is not corporate)'], ['days_in_waiting_list', '(int) How many days did it take to confirm the reservation.'], ['customer_type', '(str) Booking type.'], ['adr', '(float) Average Daily Rate, average price for each night in the reservation.'], ['required_car_parking_spaces', '(int) Number of parking spaces required in the reservation.'], ['total_of_special_requests', '(int) Number of special requests in the reservation (double bed, floor, room with a viewâ€¦)'], ['reservation_status_date', '(date) Date the reservation was last updated.']]\n"
     ]
    }
   ],
   "source": [
    "data = [d.split(' - ') for d in data]\n",
    "print (data)"
   ]
  },
  {
   "cell_type": "code",
   "execution_count": 4,
   "id": "7f21ad07",
   "metadata": {},
   "outputs": [
    {
     "name": "stdout",
     "output_type": "stream",
     "text": [
      "['hotel', 'is_cancelled', 'lead_time', 'arrival_date', 'stays_in_weekend_nights', 'stays_in_week_nights', 'adults', 'children', 'babies', 'meal', 'country', 'market_segment', 'distribution_channel', 'is_repeated_guest', 'previous_cancellations', 'previous_bookings_not_canceled', 'reserved_room_type', 'assigned_room_type', 'booking_changes', 'deposit_type', 'agent', 'company', 'days_in_waiting_list', 'customer_type', 'adr', 'required_car_parking_spaces', 'total_of_special_requests', 'reservation_status_date']\n",
      "['(str) Type of hotel.', '(binary) Binary variable indicating reservation cancellation (0 = not cancelled, 1 = cancelled)', '(int) Number of days between reservation date and hotel check-in date (when the reservation was made).', '(date) Date of arrival at the hotel (for when the reservation is).', '(int) Number of weekend days in the reservation.', '(int) Number of weekdays in the reservation.', '(int) Number of adults.', '(int) Number of children.', '(int) Number of babies.', '(str) Type of meal included in the reservation.', '(str) Country of the customer.', '(str) Customer marketing segmentation.', '(str) Sales channel through which the reservation was made.', '(binary) Has the customer already stayed at the hotel? (0 = no, 1 = yes).', '(int) How many reservations the customer has canceled in the past.', '(int) How many bookings the customer has made and not canceled in the past.', '(str) Desired room type.', '(str) Type of room assigned.', '(str) Number of changes to the booking between booking date and entry/cancellation.', '(str) Type of deposit made at time of booking.', '(str) ID of the Agent who made the reservation (NA if the reservation was not made by an agent).', '(str) ID of the company that made the reservation (NA if the reservation is not corporate)', '(int) How many days did it take to confirm the reservation.', '(str) Booking type.', '(float) Average Daily Rate, average price for each night in the reservation.', '(int) Number of parking spaces required in the reservation.', '(int) Number of special requests in the reservation (double bed, floor, room with a viewâ€¦)', '(date) Date the reservation was last updated.']\n"
     ]
    }
   ],
   "source": [
    "data0 = [d[0] for d in data]\n",
    "data1 = [d[1] for d in data]\n",
    "print (data0)\n",
    "print (data1)"
   ]
  },
  {
   "cell_type": "code",
   "execution_count": 5,
   "id": "f722e2ef",
   "metadata": {},
   "outputs": [
    {
     "name": "stdout",
     "output_type": "stream",
     "text": [
      "hotel, is_cancelled, lead_time, arrival_date, stays_in_weekend_nights, stays_in_week_nights, adults, children, babies, meal, country, market_segment, distribution_channel, is_repeated_guest, previous_cancellations, previous_bookings_not_canceled, reserved_room_type, assigned_room_type, booking_changes, deposit_type, agent, company, days_in_waiting_list, customer_type, adr, required_car_parking_spaces, total_of_special_requests, reservation_status_date, \n"
     ]
    }
   ],
   "source": [
    "s = ''\n",
    "for d in data0:\n",
    "    s += d + ', '\n",
    "    \n",
    "print (s)"
   ]
  },
  {
   "cell_type": "code",
   "execution_count": 6,
   "id": "738fb5ba",
   "metadata": {},
   "outputs": [
    {
     "name": "stdout",
     "output_type": "stream",
     "text": [
      "(str) Type of hotel., (binary) Binary variable indicating reservation cancellation (0 = not cancelled, 1 = cancelled), (int) Number of days between reservation date and hotel check-in date (when the reservation was made)., (date) Date of arrival at the hotel (for when the reservation is)., (int) Number of weekend days in the reservation., (int) Number of weekdays in the reservation., (int) Number of adults., (int) Number of children., (int) Number of babies., (str) Type of meal included in the reservation., (str) Country of the customer., (str) Customer marketing segmentation., (str) Sales channel through which the reservation was made., (binary) Has the customer already stayed at the hotel? (0 = no, 1 = yes)., (int) How many reservations the customer has canceled in the past., (int) How many bookings the customer has made and not canceled in the past., (str) Desired room type., (str) Type of room assigned., (str) Number of changes to the booking between booking date and entry/cancellation., (str) Type of deposit made at time of booking., (str) ID of the Agent who made the reservation (NA if the reservation was not made by an agent)., (str) ID of the company that made the reservation (NA if the reservation is not corporate), (int) How many days did it take to confirm the reservation., (str) Booking type., (float) Average Daily Rate, average price for each night in the reservation., (int) Number of parking spaces required in the reservation., (int) Number of special requests in the reservation (double bed, floor, room with a viewâ€¦), (date) Date the reservation was last updated., \n"
     ]
    }
   ],
   "source": [
    "s = ''\n",
    "for d in data1:\n",
    "    s += d + ', '\n",
    "    \n",
    "print (s)"
   ]
  },
  {
   "cell_type": "code",
   "execution_count": 7,
   "id": "f3193197",
   "metadata": {},
   "outputs": [],
   "source": [
    "s = s.lower()"
   ]
  },
  {
   "cell_type": "code",
   "execution_count": 8,
   "id": "035d7709",
   "metadata": {},
   "outputs": [],
   "source": [
    "s = s.replace('.', '')"
   ]
  },
  {
   "cell_type": "code",
   "execution_count": 9,
   "id": "6f328a8e",
   "metadata": {},
   "outputs": [
    {
     "name": "stdout",
     "output_type": "stream",
     "text": [
      "(str) type of hotel, (binary) binary variable indicating reservation cancellation (0 = not cancelled, 1 = cancelled), (int) number of days between reservation date and hotel check-in date (when the reservation was made), (date) date of arrival at the hotel (for when the reservation is), (int) number of weekend days in the reservation, (int) number of weekdays in the reservation, (int) number of adults, (int) number of children, (int) number of babies, (str) type of meal included in the reservation, (str) country of the customer, (str) customer marketing segmentation, (str) sales channel through which the reservation was made, (binary) has the customer already stayed at the hotel? (0 = no, 1 = yes), (int) how many reservations the customer has canceled in the past, (int) how many bookings the customer has made and not canceled in the past, (str) desired room type, (str) type of room assigned, (str) number of changes to the booking between booking date and entry/cancellation, (str) type of deposit made at time of booking, (str) id of the agent who made the reservation (na if the reservation was not made by an agent), (str) id of the company that made the reservation (na if the reservation is not corporate), (int) how many days did it take to confirm the reservation, (str) booking type, (float) average daily rate, average price for each night in the reservation, (int) number of parking spaces required in the reservation, (int) number of special requests in the reservation (double bed, floor, room with a viewâ€¦), (date) date the reservation was last updated, \n"
     ]
    }
   ],
   "source": [
    "print (s)"
   ]
  },
  {
   "cell_type": "code",
   "execution_count": 10,
   "id": "8e98e94b",
   "metadata": {},
   "outputs": [
    {
     "name": "stdout",
     "output_type": "stream",
     "text": [
      "type of hotel, binary variable indicating reservation cancellation (0 = not cancelled, 1 = cancelled), number of days between reservation date and hotel check-in date (when the reservation was made), date of arrival at the hotel (for when the reservation is), number of weekend days in the reservation, number of weekdays in the reservation, number of adults, number of children, number of babies, type of meal included in the reservation, country of the customer, customer marketing segmentation, sales channel through which the reservation was made, has the customer already stayed at the hotel? (0 = no, 1 = yes), how many reservations the customer has canceled in the past, how many bookings the customer has made and not canceled in the past, desired room type, type of room assigned, number of changes to the booking between booking date and entry/cancellation, type of deposit made at time of booking, id of the agent who made the reservation (na if the reservation was not made by an agent), id of the company that made the reservation (na if the reservation is not corporate), how many days did it take to confirm the reservation, booking type, average daily rate, average price for each night in the reservation, number of parking spaces required in the reservation, number of special requests in the reservation (double bed, floor, room with a viewâ€¦), date the reservation was last updated, \n"
     ]
    }
   ],
   "source": [
    "import re\n",
    "str_output = re.sub('\\(.{1,6}\\) ','', s)\n",
    "print (str_output)"
   ]
  },
  {
   "cell_type": "code",
   "execution_count": 120,
   "id": "1b0aa72f",
   "metadata": {},
   "outputs": [],
   "source": [
    "# Read file store as list by line.\n",
    "def import_data_list(filename):\n",
    "    file = open(filename, 'r')\n",
    "    data = file.readlines()\n",
    "    file.close()\n",
    "    return data"
   ]
  },
  {
   "cell_type": "code",
   "execution_count": 121,
   "id": "19713b80",
   "metadata": {},
   "outputs": [],
   "source": [
    "data_list = import_data_list('kaggle_dataset_cols.txt')"
   ]
  },
  {
   "cell_type": "code",
   "execution_count": 122,
   "id": "0cae872c",
   "metadata": {},
   "outputs": [],
   "source": [
    "def remove_substring(str_list_int_float, substring):\n",
    "    print (type(str_list_int_float))\n",
    "    print (str_list_int_float)\n",
    "    if type(str_list_int_float) == type(list):\n",
    "        print ('a')\n",
    "        return [e.replace(substring, '') for e in str_list_int_float]\n",
    "    elif type(str_list_int_float) == str:\n",
    "        return str_list_int_float.replace(substring, '')\n",
    "    else:\n",
    "        raise TypeError(\"Invalid type.\")"
   ]
  },
  {
   "cell_type": "code",
   "execution_count": 123,
   "id": "a474bc4a",
   "metadata": {},
   "outputs": [
    {
     "name": "stdout",
     "output_type": "stream",
     "text": [
      "<class 'list'>\n",
      "['hotel - (str) Type of hotel.\\n', 'is_cancelled - (binary) Binary variable indicating reservation cancellation (0 = not cancelled, 1 = cancelled) - case response variable.\\n', 'lead_time - (int) Number of days between reservation date and hotel check-in date (when the reservation was made).\\n', 'arrival_date - (date) Date of arrival at the hotel (for when the reservation is).\\n', 'stays_in_weekend_nights - (int) Number of weekend days in the reservation.\\n', 'stays_in_week_nights - (int) Number of weekdays in the reservation.\\n', 'adults - (int) Number of adults.\\n', 'children - (int) Number of children.\\n', 'babies - (int) Number of babies.\\n', 'meal - (str) Type of meal included in the reservation.\\n', 'country - (str) Country of the customer.\\n', 'market_segment - (str) Customer marketing segmentation.\\n', 'distribution_channel - (str) Sales channel through which the reservation was made.\\n', 'is_repeated_guest - (binary) Has the customer already stayed at the hotel? (0 = no, 1 = yes).\\n', 'previous_cancellations - (int) How many reservations the customer has canceled in the past.\\n', 'previous_bookings_not_canceled - (int) How many bookings the customer has made and not canceled in the past.\\n', 'reserved_room_type - (str) Desired room type.\\n', 'assigned_room_type - (str) Type of room assigned.\\n', 'booking_changes - (str) Number of changes to the booking between booking date and entry/cancellation.\\n', 'deposit_type - (str) Type of deposit made at time of booking.\\n', 'agent - (str) ID of the Agent who made the reservation (NA if the reservation was not made by an agent).\\n', 'company - (str) ID of the company that made the reservation (NA if the reservation is not corporate)\\n', 'days_in_waiting_list - (int) How many days did it take to confirm the reservation.\\n', 'customer_type - (str) Booking type.\\n', 'adr - (float) Average Daily Rate, average price for each night in the reservation.\\n', 'required_car_parking_spaces - (int) Number of parking spaces required in the reservation.\\n', 'total_of_special_requests - (int) Number of special requests in the reservation (double bed, floor, room with a viewâ€¦)\\n', 'reservation_status_date - (date) Date the reservation was last updated.']\n"
     ]
    },
    {
     "ename": "TypeError",
     "evalue": "Invalid type.",
     "output_type": "error",
     "traceback": [
      "\u001b[1;31m---------------------------------------------------------------------------\u001b[0m",
      "\u001b[1;31mTypeError\u001b[0m                                 Traceback (most recent call last)",
      "\u001b[1;32m~\\AppData\\Local\\Temp\\ipykernel_19140\\4270153378.py\u001b[0m in \u001b[0;36m<module>\u001b[1;34m\u001b[0m\n\u001b[1;32m----> 1\u001b[1;33m \u001b[0mprint\u001b[0m \u001b[1;33m(\u001b[0m\u001b[0mremove_substring\u001b[0m\u001b[1;33m(\u001b[0m\u001b[0mdata_list\u001b[0m\u001b[1;33m,\u001b[0m \u001b[1;34m'\\n'\u001b[0m\u001b[1;33m)\u001b[0m\u001b[1;33m)\u001b[0m\u001b[1;33m\u001b[0m\u001b[1;33m\u001b[0m\u001b[0m\n\u001b[0m",
      "\u001b[1;32m~\\AppData\\Local\\Temp\\ipykernel_19140\\943581580.py\u001b[0m in \u001b[0;36mremove_substring\u001b[1;34m(str_list_int_float, substring)\u001b[0m\n\u001b[0;32m      8\u001b[0m         \u001b[1;32mreturn\u001b[0m \u001b[0mstr_list_int_float\u001b[0m\u001b[1;33m.\u001b[0m\u001b[0mreplace\u001b[0m\u001b[1;33m(\u001b[0m\u001b[0msubstring\u001b[0m\u001b[1;33m,\u001b[0m \u001b[1;34m''\u001b[0m\u001b[1;33m)\u001b[0m\u001b[1;33m\u001b[0m\u001b[1;33m\u001b[0m\u001b[0m\n\u001b[0;32m      9\u001b[0m     \u001b[1;32melse\u001b[0m\u001b[1;33m:\u001b[0m\u001b[1;33m\u001b[0m\u001b[1;33m\u001b[0m\u001b[0m\n\u001b[1;32m---> 10\u001b[1;33m         \u001b[1;32mraise\u001b[0m \u001b[0mTypeError\u001b[0m\u001b[1;33m(\u001b[0m\u001b[1;34m\"Invalid type.\"\u001b[0m\u001b[1;33m)\u001b[0m\u001b[1;33m\u001b[0m\u001b[1;33m\u001b[0m\u001b[0m\n\u001b[0m",
      "\u001b[1;31mTypeError\u001b[0m: Invalid type."
     ]
    }
   ],
   "source": [
    "print (remove_substring(data_list, '\\n'))"
   ]
  },
  {
   "cell_type": "code",
   "execution_count": 98,
   "id": "b72aceaf",
   "metadata": {},
   "outputs": [],
   "source": [
    "data = import_data_str('kaggle_dataset_cols.txt')"
   ]
  },
  {
   "cell_type": "code",
   "execution_count": 99,
   "id": "d8a4b5f3",
   "metadata": {},
   "outputs": [
    {
     "name": "stdout",
     "output_type": "stream",
     "text": [
      "<class 'str'>\n"
     ]
    },
    {
     "data": {
      "text/plain": [
       "'hotel - (str) Type of hotel.\\nis_cancelled - (binary) Binary variable indicating reservation cancellation ( = not cancelled, 1 = cancelled) - case response variable.\\nlead_time - (int) Number of days between reservation date and hotel check-in date (when the reservation was made).\\narrival_date - (date) Date of arrival at the hotel (for when the reservation is).\\nstays_in_weekend_nights - (int) Number of weekend days in the reservation.\\nstays_in_week_nights - (int) Number of weekdays in the reservation.\\nadults - (int) Number of adults.\\nchildren - (int) Number of children.\\nbabies - (int) Number of babies.\\nmeal - (str) Type of meal included in the reservation.\\ncountry - (str) Country of the customer.\\nmarket_segment - (str) Customer marketing segmentation.\\ndistribution_channel - (str) Sales channel through which the reservation was made.\\nis_repeated_guest - (binary) Has the customer already stayed at the hotel? ( = no, 1 = yes).\\nprevious_cancellations - (int) How many reservations the customer has canceled in the past.\\nprevious_bookings_not_canceled - (int) How many bookings the customer has made and not canceled in the past.\\nreserved_room_type - (str) Desired room type.\\nassigned_room_type - (str) Type of room assigned.\\nbooking_changes - (str) Number of changes to the booking between booking date and entry/cancellation.\\ndeposit_type - (str) Type of deposit made at time of booking.\\nagent - (str) ID of the Agent who made the reservation (NA if the reservation was not made by an agent).\\ncompany - (str) ID of the company that made the reservation (NA if the reservation is not corporate)\\ndays_in_waiting_list - (int) How many days did it take to confirm the reservation.\\ncustomer_type - (str) Booking type.\\nadr - (float) Average Daily Rate, average price for each night in the reservation.\\nrequired_car_parking_spaces - (int) Number of parking spaces required in the reservation.\\ntotal_of_special_requests - (int) Number of special requests in the reservation (double bed, floor, room with a viewâ€¦)\\nreservation_status_date - (date) Date the reservation was last updated.'"
      ]
     },
     "execution_count": 99,
     "metadata": {},
     "output_type": "execute_result"
    }
   ],
   "source": [
    "remove_substring(data, '0')"
   ]
  },
  {
   "cell_type": "code",
   "execution_count": null,
   "id": "f5a208cf",
   "metadata": {},
   "outputs": [],
   "source": []
  }
 ],
 "metadata": {
  "kernelspec": {
   "display_name": "Python 3 (ipykernel)",
   "language": "python",
   "name": "python3"
  },
  "language_info": {
   "codemirror_mode": {
    "name": "ipython",
    "version": 3
   },
   "file_extension": ".py",
   "mimetype": "text/x-python",
   "name": "python",
   "nbconvert_exporter": "python",
   "pygments_lexer": "ipython3",
   "version": "3.9.13"
  }
 },
 "nbformat": 4,
 "nbformat_minor": 5
}
