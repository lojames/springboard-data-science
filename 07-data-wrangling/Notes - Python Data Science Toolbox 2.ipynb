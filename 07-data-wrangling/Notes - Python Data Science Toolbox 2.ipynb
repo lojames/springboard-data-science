{
 "cells": [
  {
   "cell_type": "markdown",
   "id": "27626c12",
   "metadata": {},
   "source": [
    "## Iterators\n",
    "\n",
    "Iterables include lists, strings, dictionaries, file connections.  Formally, an object with an iter() method.\n",
    "\n",
    "Creating an interator and printing the next value:"
   ]
  },
  {
   "cell_type": "code",
   "execution_count": 7,
   "id": "e187ece0",
   "metadata": {},
   "outputs": [
    {
     "data": {
      "text/plain": [
       "'T'"
      ]
     },
     "execution_count": 7,
     "metadata": {},
     "output_type": "execute_result"
    }
   ],
   "source": [
    "word = 'THIS WILL BE ITERATED UPON'\n",
    "it = iter(word)\n",
    "\n",
    "next(it)"
   ]
  },
  {
   "cell_type": "markdown",
   "id": "46d0d8fc",
   "metadata": {},
   "source": [
    "Printing all remaining items in the iterator:"
   ]
  },
  {
   "cell_type": "code",
   "execution_count": 8,
   "id": "0b39e077",
   "metadata": {},
   "outputs": [
    {
     "name": "stdout",
     "output_type": "stream",
     "text": [
      "H I S   W I L L   B E   I T E R A T E D   U P O N\n"
     ]
    }
   ],
   "source": [
    "print(*it)"
   ]
  },
  {
   "cell_type": "markdown",
   "id": "7493625b",
   "metadata": {},
   "source": [
    "Iterating through a dictionary:"
   ]
  },
  {
   "cell_type": "code",
   "execution_count": null,
   "id": "29e26b23",
   "metadata": {},
   "outputs": [],
   "source": [
    "dictionary = {\n",
    "    'Hello': 1,\n",
    "    'World': 2,\n",
    "    '!': 3\n",
    "}\n",
    "\n",
    "for k,v in dictionary.items():\n",
    "    print(k,v)"
   ]
  },
  {
   "cell_type": "markdown",
   "id": "c035afc8",
   "metadata": {},
   "source": [
    "Iterating through a file:"
   ]
  },
  {
   "cell_type": "code",
   "execution_count": 10,
   "id": "97afc996",
   "metadata": {},
   "outputs": [],
   "source": [
    "# file = open('file.txt')\n",
    "# it = iter(file)\n",
    "# print(next(it))"
   ]
  },
  {
   "cell_type": "markdown",
   "id": "919abee6",
   "metadata": {},
   "source": [
    "## enumerate()\n",
    "Adds a counter to any iterable."
   ]
  },
  {
   "cell_type": "code",
   "execution_count": 16,
   "id": "047612d0",
   "metadata": {},
   "outputs": [
    {
     "name": "stdout",
     "output_type": "stream",
     "text": [
      "0 a\n",
      "1 b\n",
      "2 c\n"
     ]
    }
   ],
   "source": [
    "l = ['a','b','c']\n",
    "e = enumerate(l)\n",
    "\n",
    "for i,v in e:\n",
    "    print (i,v)"
   ]
  },
  {
   "cell_type": "markdown",
   "id": "2014bebd",
   "metadata": {},
   "source": [
    "## zip()\n",
    "Stitch together an arbitrary number of iterables to create an iterable."
   ]
  },
  {
   "cell_type": "code",
   "execution_count": 26,
   "id": "17d74db8",
   "metadata": {},
   "outputs": [
    {
     "name": "stdout",
     "output_type": "stream",
     "text": [
      "a 1\n",
      "b 2\n",
      "c 3\n",
      "[('a', '1'), ('b', '2'), ('c', '3')]\n"
     ]
    }
   ],
   "source": [
    "m = ['1','2','3']\n",
    "z = zip(l,m)\n",
    "z_list = list(z)\n",
    "for z1,z2 in zip(l,m):\n",
    "    print(z1,z2)\n",
    "print(z_list)"
   ]
  },
  {
   "cell_type": "markdown",
   "id": "befeef79",
   "metadata": {},
   "source": [
    "## Using Iterators to Load Data in Chunks\n"
   ]
  },
  {
   "cell_type": "code",
   "execution_count": null,
   "id": "78188427",
   "metadata": {},
   "outputs": [],
   "source": [
    "import pandas as pd\n",
    "result = []\n",
    "#for chunk in pd.read_csv('data.csv', chunksize=1000):\n",
    "#    result.append(sum(chunk['x']))\n",
    "# total = sum(result)\n"
   ]
  },
  {
   "cell_type": "markdown",
   "id": "c82bbbc7",
   "metadata": {},
   "source": [
    "## List Comprehension\n",
    "Create lists from other lists."
   ]
  },
  {
   "cell_type": "markdown",
   "id": "45d42a4a",
   "metadata": {},
   "source": [
    "## Generator\n",
    "An iterable that is based on a list comprehension.  Does not store the list, therefore uses less memory. Instead of brackets of a list comprehension, use parenthesis.\n",
    "\n",
    "Building a generator:"
   ]
  },
  {
   "cell_type": "code",
   "execution_count": 27,
   "id": "25e0d584",
   "metadata": {},
   "outputs": [],
   "source": [
    "def num_sequence(n):\n",
    "    i=0\n",
    "    while i < n:\n",
    "        yield i\n",
    "        i+=1"
   ]
  },
  {
   "cell_type": "code",
   "execution_count": null,
   "id": "9d75bfc3",
   "metadata": {},
   "outputs": [],
   "source": []
  }
 ],
 "metadata": {
  "kernelspec": {
   "display_name": "Python 3 (ipykernel)",
   "language": "python",
   "name": "python3"
  },
  "language_info": {
   "codemirror_mode": {
    "name": "ipython",
    "version": 3
   },
   "file_extension": ".py",
   "mimetype": "text/x-python",
   "name": "python",
   "nbconvert_exporter": "python",
   "pygments_lexer": "ipython3",
   "version": "3.9.13"
  }
 },
 "nbformat": 4,
 "nbformat_minor": 5
}
