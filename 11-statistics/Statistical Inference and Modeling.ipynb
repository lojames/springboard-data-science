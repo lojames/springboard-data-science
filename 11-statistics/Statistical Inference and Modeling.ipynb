{
 "cells": [
  {
   "cell_type": "markdown",
   "id": "578e86af",
   "metadata": {},
   "source": [
    "We can examine a column of data by calculating percentages of value of the data:\n",
    "```\n",
    "df.col.value_counts(normalize=True)\n",
    "```"
   ]
  },
  {
   "cell_type": "markdown",
   "id": "04fddcf3",
   "metadata": {},
   "source": [
    "## Generating Confidence Intervals by Simulating a Sampling Distribution\n",
    "\n",
    "Use the following steps to generate a confidence interval by simulating a sampling distribution from a dataset that has only 2 possible values:\n",
    "1. Create a method which samples from the distrubtion.\n",
    "```\n",
    "def sample(value_a_percentage, n=1000):\n",
    "    return pd.DataFrame({'new_col_name_a': np.where(np.random.rand(n) < value_a_percentage, 'value_a_name', 'value_b_name')})\n",
    "```\n",
    "2. Using the sample method, store results from a sufficient number of experiments.  An example:\n",
    "```\n",
    "def samplingdist(value_a_percentage, n=1000):\n",
    "    return pd.DataFrame([sample(0.51).new_col_name_a.value_counts(normalize=True) for i in range(num_experiments)])\n",
    "```\n",
    "3. Creating histogram:\n",
    "```\n",
    "dist.value_a_name.hist(histtype='step', bins=20)\n",
    "```\n",
    "4. Create a function which examines quantiles:\n",
    "```\n",
    "def quantiles(value_a_percentage, n=1000, confidence_interval_percent):\n",
    "    dist = samplingdist(value_a_percentage, n)\n",
    "    offset = confidence_interval_percent/200.0\n",
    "    return dist.value_a_name.quantile(offset), dist.value_a_name.quantile(1-offset)\n",
    "```\n",
    "5. To determine the confidence interval:\n",
    "    1. Lower range of the confidence interval is the input of the quantiles function where the second returned value is as close to the value_a_percentage.\n",
    "    2. Upper range of the confidence interval is the input of the quantiles function where the first returned value is as close to the value_a_percentage.\n",
    "```"
   ]
  },
  {
   "cell_type": "markdown",
   "id": "a8eaa486",
   "metadata": {},
   "source": [
    "## Generating a Confidence Interval with Bootstrapping\n",
    "\n",
    "1. Generate bootstrap by sampling from population with replacement for a sufficient number of n per sample.  This should be conducted a sufficient number of times, N.\n",
    "```\n",
    "bootstrap = pd.DataFrame({'new_col_name_mean': [df.sample(n, replace=True).col_name.mean() for i in range(N)]})\n",
    "```\n",
    "2. Creating histogram with the original population mean:\n",
    "```\n",
    "bootstrap.new_col_name_mean.hist(histtype='step')\n",
    "plt.axvline(df.col_name.mean(), color=color='C1')\n",
    "```\n",
    "3. Determining the confidence interval:\n",
    "```\n",
    "def quantiles(df_col, confidence_interval_percent):\n",
    "    offset = confidence_interval_percent/200.0\n",
    "    return df_col.quantile(offset), df_col.quantile(1-offset)\n",
    "```"
   ]
  },
  {
   "cell_type": "markdown",
   "id": "ac8c00f4",
   "metadata": {},
   "source": [
    "## Statistical Modeling\n",
    "Capture how the variation of response variables are affected by the variation of explanatory variables.  Model's parameters are refined until the difference (risidual) between predicted and observed values are minimized.\n",
    "\n",
    "Models can be used to:\n",
    "* Reveal qualities or trends about the population\n",
    "* Predict future behavior\n",
    "\n"
   ]
  },
  {
   "cell_type": "markdown",
   "id": "413b0d86",
   "metadata": {},
   "source": [
    "## Fitting Models to Data\n",
    "\n",
    "One method is using ordinary least squares.\n",
    "\n",
    "```\n",
    "import statsmodels\n",
    "import statsmodels.api as sm\n",
    "import  statsmoidels.formula.api as smf\n",
    "\n",
    "model = smf.ols(formmula = TILDE NOTATION INPUT, data=INPUT DATA)\n",
    "grandmean = model.fit()\n",
    "\n",
    "```"
   ]
  }
 ],
 "metadata": {
  "kernelspec": {
   "display_name": "Python 3 (ipykernel)",
   "language": "python",
   "name": "python3"
  },
  "language_info": {
   "codemirror_mode": {
    "name": "ipython",
    "version": 3
   },
   "file_extension": ".py",
   "mimetype": "text/x-python",
   "name": "python",
   "nbconvert_exporter": "python",
   "pygments_lexer": "ipython3",
   "version": "3.9.13"
  }
 },
 "nbformat": 4,
 "nbformat_minor": 5
}
