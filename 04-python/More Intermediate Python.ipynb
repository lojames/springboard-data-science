{
 "cells": [
  {
   "cell_type": "markdown",
   "id": "7dccc2d3",
   "metadata": {},
   "source": [
    "# Container Sequences\n",
    "\n",
    "Container sequences hold other types of data.\n",
    "Can be mutable (list or set) or immutable (tuple).\n",
    "\n",
    "## Lists\n"
   ]
  },
  {
   "cell_type": "code",
   "execution_count": 42,
   "id": "eed3321c",
   "metadata": {},
   "outputs": [
    {
     "name": "stdout",
     "output_type": "stream",
     "text": [
      "['chocolate chip', 'peanut butter', 'sugar', 'Tirggel']\n"
     ]
    }
   ],
   "source": [
    "cookies = ['chocolate chip', 'peanut butter', 'sugar']\n",
    "cookies.append('Tirggel')\n",
    "print (cookies)\n"
   ]
  },
  {
   "cell_type": "code",
   "execution_count": 43,
   "id": "920884e8",
   "metadata": {},
   "outputs": [
    {
     "name": "stdout",
     "output_type": "stream",
     "text": [
      "sugar\n"
     ]
    }
   ],
   "source": [
    "# Indexing lists\n",
    "print (cookies[2])"
   ]
  },
  {
   "cell_type": "code",
   "execution_count": 39,
   "id": "32e486ab",
   "metadata": {},
   "outputs": [
    {
     "name": "stdout",
     "output_type": "stream",
     "text": [
      "['chocolate chip', 'peanut butter', 'sugar', 'Tirggel', 'strawberry', 'vanilla']\n"
     ]
    }
   ],
   "source": [
    "cakes = ['strawberry', 'vanilla']\n",
    "\n",
    "# Concatenation of lists\n",
    "desserts = cookies + cakes\n",
    "print (desserts)"
   ]
  },
  {
   "cell_type": "code",
   "execution_count": 44,
   "id": "51741840",
   "metadata": {},
   "outputs": [
    {
     "name": "stdout",
     "output_type": "stream",
     "text": [
      "0\n"
     ]
    }
   ],
   "source": [
    "# The index method.\n",
    "pos = desserts.index('chocolate chip')\n",
    "print (pos)"
   ]
  },
  {
   "cell_type": "code",
   "execution_count": 45,
   "id": "2049ec2f",
   "metadata": {},
   "outputs": [
    {
     "name": "stdout",
     "output_type": "stream",
     "text": [
      "chocolate chip\n"
     ]
    }
   ],
   "source": [
    "# Pop removes item from list and stores it in variable.\n",
    "name = desserts.pop(pos)\n",
    "print (name)"
   ]
  },
  {
   "cell_type": "code",
   "execution_count": 46,
   "id": "a08e544b",
   "metadata": {},
   "outputs": [
    {
     "name": "stdout",
     "output_type": "stream",
     "text": [
      "['Tirggel', 'chocolate chip', 'peanut butter', 'sugar']\n"
     ]
    }
   ],
   "source": [
    "# Sorted function sorts elements based on ASCII\n",
    "print (sorted(cookies))"
   ]
  },
  {
   "cell_type": "markdown",
   "id": "e89d62f0",
   "metadata": {},
   "source": [
    "## Tuples\n",
    "Holds data in order. \n",
    "Is immutable. \n",
    "Paired. "
   ]
  },
  {
   "cell_type": "code",
   "execution_count": 47,
   "id": "3ab918f2",
   "metadata": {},
   "outputs": [],
   "source": [
    "# Zip, enumerate, and (x , y) all create tuples."
   ]
  },
  {
   "cell_type": "markdown",
   "id": "ec86c3a9",
   "metadata": {},
   "source": [
    "## Sets\n",
    "For unordered and unique data. Mutable."
   ]
  },
  {
   "cell_type": "code",
   "execution_count": 48,
   "id": "44530f21",
   "metadata": {},
   "outputs": [
    {
     "name": "stdout",
     "output_type": "stream",
     "text": [
      "{'sugar', 'peanut butter', 'chocolate chip'}\n"
     ]
    }
   ],
   "source": [
    "# Always created from a list.\n",
    "cookies_eaten_today = ['sugar','chocolate chip', 'peanut butter', 'sugar']\n",
    "types_of_cookies_eaten = set(cookies_eaten_today)\n",
    "print (types_of_cookies_eaten)"
   ]
  },
  {
   "cell_type": "code",
   "execution_count": 51,
   "id": "60b25e4e",
   "metadata": {},
   "outputs": [
    {
     "name": "stdout",
     "output_type": "stream",
     "text": [
      "{'sugar', 'rainbow', 'peanut butter', 'chocolate chip'}\n"
     ]
    }
   ],
   "source": [
    "# Add method\n",
    "types_of_cookies_eaten.add('rainbow')\n",
    "print (types_of_cookies_eaten)"
   ]
  },
  {
   "cell_type": "code",
   "execution_count": 53,
   "id": "298dacbe",
   "metadata": {},
   "outputs": [
    {
     "name": "stdout",
     "output_type": "stream",
     "text": [
      "{'rainbow', 'oatmeal', 'chocolate chip', 'sugar', 'peanut butter', 'gingersnap', 'snickerdoodle'}\n"
     ]
    }
   ],
   "source": [
    "# Update method (takes list)\n",
    "types_of_cookies_eaten.update(['snickerdoodle', 'oatmeal', 'gingersnap'])\n",
    "print (types_of_cookies_eaten)"
   ]
  },
  {
   "cell_type": "code",
   "execution_count": 55,
   "id": "7d7e4288",
   "metadata": {},
   "outputs": [
    {
     "name": "stdout",
     "output_type": "stream",
     "text": [
      "{'rainbow', 'chocolate chip', 'sugar', 'peanut butter', 'gingersnap', 'snickerdoodle'}\n"
     ]
    }
   ],
   "source": [
    "# Discard method safetly removes element from set and does not throw any error on failure\n",
    "types_of_cookies_eaten.discard('oatmeal')\n",
    "print (types_of_cookies_eaten)"
   ]
  },
  {
   "cell_type": "code",
   "execution_count": 56,
   "id": "a7e1fd04",
   "metadata": {},
   "outputs": [
    {
     "name": "stdout",
     "output_type": "stream",
     "text": [
      "{'sugar', 'rainbow', 'peanut butter', 'chocolate chip'}\n"
     ]
    }
   ],
   "source": [
    "# The union method\n",
    "cookies_james_ate = set(['sugar', 'peanut butter'])\n",
    "cookies_henry_ate = set(['rainbow', 'chocolate chip', 'sugar'])\n",
    "\n",
    "print (cookies_james_ate.union(cookies_henry_ate))"
   ]
  },
  {
   "cell_type": "code",
   "execution_count": 57,
   "id": "17a9124f",
   "metadata": {},
   "outputs": [
    {
     "name": "stdout",
     "output_type": "stream",
     "text": [
      "{'sugar'}\n"
     ]
    }
   ],
   "source": [
    "# The intersection method\n",
    "print (cookies_james_ate.intersection(cookies_henry_ate))"
   ]
  },
  {
   "cell_type": "code",
   "execution_count": 58,
   "id": "ce6dfc3f",
   "metadata": {},
   "outputs": [
    {
     "name": "stdout",
     "output_type": "stream",
     "text": [
      "{'peanut butter'}\n"
     ]
    }
   ],
   "source": [
    "# Difference method\n",
    "print(cookies_james_ate.difference(cookies_henry_ate))"
   ]
  },
  {
   "cell_type": "markdown",
   "id": "ad2cb86e",
   "metadata": {},
   "source": [
    "## Dictionaries\n",
    "Stored in key-value pairs.  Nestable.  Iterable"
   ]
  },
  {
   "cell_type": "code",
   "execution_count": 80,
   "id": "4a53381e",
   "metadata": {},
   "outputs": [],
   "source": [
    "# Create dictionary by dict() or {}\n",
    "art_galleries = {\n",
    "    'Zwirner David Gallery': 11214,\n",
    "    'Zito Studio Gallery': 90412,\n",
    "    'Zarre Andre Gallery': 10514\n",
    "}"
   ]
  },
  {
   "cell_type": "code",
   "execution_count": 81,
   "id": "2288af85",
   "metadata": {},
   "outputs": [
    {
     "name": "stdout",
     "output_type": "stream",
     "text": [
      "None\n"
     ]
    }
   ],
   "source": [
    "# Get method safely accesses a key without thorwing any error on failure\n",
    "print (art_galleries.get('Louvre', None))"
   ]
  },
  {
   "cell_type": "code",
   "execution_count": 82,
   "id": "ec09f37d",
   "metadata": {},
   "outputs": [
    {
     "name": "stdout",
     "output_type": "stream",
     "text": [
      "{'Zwirner David Gallery': 11214, 'Zarre Andre Gallery': 10514}\n",
      "Key not found!\n"
     ]
    }
   ],
   "source": [
    "# del will remove a key/value pair (not safetly)\n",
    "del art_galleries['Zito Studio Gallery']\n",
    "print (art_galleries)\n",
    "\n",
    "# .pop() method removes a key/value safetly\n",
    "print (art_galleries.pop('Not here!', 'Key not found!'))"
   ]
  },
  {
   "cell_type": "code",
   "execution_count": 84,
   "id": "be7eae2d",
   "metadata": {},
   "outputs": [
    {
     "name": "stdout",
     "output_type": "stream",
     "text": [
      "True\n"
     ]
    }
   ],
   "source": [
    "# In nested objects, the .items() method returns an object we can iterate over\n",
    "\n",
    "# Use \"in\" to check for keys\n",
    "print ('Zwirner David Gallery' in art_galleries)"
   ]
  },
  {
   "cell_type": "markdown",
   "id": "6e1540a1",
   "metadata": {},
   "source": [
    "## CSV Files\n",
    "Comma separated value files are the most common way to dump data."
   ]
  },
  {
   "cell_type": "code",
   "execution_count": 85,
   "id": "1b3e41f7",
   "metadata": {},
   "outputs": [
    {
     "ename": "FileNotFoundError",
     "evalue": "[Errno 2] No such file or directory: 'FILENAME.csv'",
     "output_type": "error",
     "traceback": [
      "\u001b[1;31m---------------------------------------------------------------------------\u001b[0m",
      "\u001b[1;31mFileNotFoundError\u001b[0m                         Traceback (most recent call last)",
      "\u001b[1;32m~\\AppData\\Local\\Temp\\ipykernel_23148\\1505140653.py\u001b[0m in \u001b[0;36m<module>\u001b[1;34m\u001b[0m\n\u001b[0;32m      4\u001b[0m \u001b[1;32mimport\u001b[0m \u001b[0mcsv\u001b[0m\u001b[1;33m\u001b[0m\u001b[1;33m\u001b[0m\u001b[0m\n\u001b[0;32m      5\u001b[0m \u001b[1;33m\u001b[0m\u001b[0m\n\u001b[1;32m----> 6\u001b[1;33m \u001b[0mcsvfile\u001b[0m \u001b[1;33m=\u001b[0m \u001b[0mopen\u001b[0m\u001b[1;33m(\u001b[0m\u001b[1;34m'FILENAME.csv'\u001b[0m\u001b[1;33m,\u001b[0m \u001b[1;34m'r'\u001b[0m\u001b[1;33m)\u001b[0m\u001b[1;33m\u001b[0m\u001b[1;33m\u001b[0m\u001b[0m\n\u001b[0m\u001b[0;32m      7\u001b[0m \u001b[1;32mfor\u001b[0m \u001b[0mrow\u001b[0m \u001b[1;32min\u001b[0m \u001b[0mcsv\u001b[0m\u001b[1;33m.\u001b[0m\u001b[0mreader\u001b[0m\u001b[1;33m(\u001b[0m\u001b[0mcsvfile\u001b[0m\u001b[1;33m)\u001b[0m\u001b[1;33m:\u001b[0m\u001b[1;33m\u001b[0m\u001b[1;33m\u001b[0m\u001b[0m\n\u001b[0;32m      8\u001b[0m     \u001b[0mprint\u001b[0m\u001b[1;33m(\u001b[0m\u001b[0mrow\u001b[0m\u001b[1;33m)\u001b[0m\u001b[1;33m\u001b[0m\u001b[1;33m\u001b[0m\u001b[0m\n",
      "\u001b[1;31mFileNotFoundError\u001b[0m: [Errno 2] No such file or directory: 'FILENAME.csv'"
     ]
    }
   ],
   "source": [
    "# 'r' = read\n",
    "# 'w' = write\n",
    "\n",
    "import csv\n",
    "\n",
    "csvfile = open('FILENAME.csv', 'r')\n",
    "for row in csv.reader(csvfile):\n",
    "    print(row)\n",
    "csvfile.close"
   ]
  },
  {
   "cell_type": "code",
   "execution_count": 86,
   "id": "0ef873fd",
   "metadata": {},
   "outputs": [
    {
     "ename": "FileNotFoundError",
     "evalue": "[Errno 2] No such file or directory: 'FILENAME.csv'",
     "output_type": "error",
     "traceback": [
      "\u001b[1;31m---------------------------------------------------------------------------\u001b[0m",
      "\u001b[1;31mFileNotFoundError\u001b[0m                         Traceback (most recent call last)",
      "\u001b[1;32m~\\AppData\\Local\\Temp\\ipykernel_23148\\3330874324.py\u001b[0m in \u001b[0;36m<module>\u001b[1;34m\u001b[0m\n\u001b[0;32m      2\u001b[0m \u001b[1;32mimport\u001b[0m \u001b[0mcsv\u001b[0m\u001b[1;33m\u001b[0m\u001b[1;33m\u001b[0m\u001b[0m\n\u001b[0;32m      3\u001b[0m \u001b[1;33m\u001b[0m\u001b[0m\n\u001b[1;32m----> 4\u001b[1;33m \u001b[0mcsvfile\u001b[0m \u001b[1;33m=\u001b[0m \u001b[0mopen\u001b[0m\u001b[1;33m(\u001b[0m\u001b[1;34m'FILENAME.csv'\u001b[0m\u001b[1;33m,\u001b[0m \u001b[1;34m'r'\u001b[0m\u001b[1;33m)\u001b[0m\u001b[1;33m\u001b[0m\u001b[1;33m\u001b[0m\u001b[0m\n\u001b[0m\u001b[0;32m      5\u001b[0m \u001b[1;32mfor\u001b[0m \u001b[0mrow\u001b[0m \u001b[1;32min\u001b[0m \u001b[0mcsv\u001b[0m\u001b[1;33m.\u001b[0m\u001b[0mDictReader\u001b[0m\u001b[1;33m(\u001b[0m\u001b[0mcsvfile\u001b[0m\u001b[1;33m)\u001b[0m\u001b[1;33m:\u001b[0m\u001b[1;33m\u001b[0m\u001b[1;33m\u001b[0m\u001b[0m\n\u001b[0;32m      6\u001b[0m     \u001b[0mprint\u001b[0m\u001b[1;33m(\u001b[0m\u001b[0mrow\u001b[0m\u001b[1;33m)\u001b[0m\u001b[1;33m\u001b[0m\u001b[1;33m\u001b[0m\u001b[0m\n",
      "\u001b[1;31mFileNotFoundError\u001b[0m: [Errno 2] No such file or directory: 'FILENAME.csv'"
     ]
    }
   ],
   "source": [
    "# If file has header row (where keys are the first line), use DictReader class\n",
    "import csv\n",
    "\n",
    "csvfile = open('FILENAME.csv', 'r')\n",
    "for row in csv.DictReader(csvfile):\n",
    "    print(row)\n",
    "csvfile.close"
   ]
  },
  {
   "cell_type": "markdown",
   "id": "2d5da017",
   "metadata": {},
   "source": [
    "# Collections Module\n",
    "\n",
    "## Counter"
   ]
  },
  {
   "cell_type": "code",
   "execution_count": 96,
   "id": "5d612fd3",
   "metadata": {},
   "outputs": [
    {
     "name": "stdout",
     "output_type": "stream",
     "text": [
      "Counter({2: 5, 1: 4, 3: 1, 0: 1})\n"
     ]
    }
   ],
   "source": [
    "from collections import Counter\n",
    "\n",
    "# Syntax is: Counter(<list>)\n",
    "freq = Counter([ 1, 2, 2, 2, 2, 1, 3, 1, 1, 0, 2])\n",
    "print (freq)\n",
    "# .most_common() method returns the counter values in descending order"
   ]
  },
  {
   "cell_type": "code",
   "execution_count": 97,
   "id": "08631f2b",
   "metadata": {},
   "outputs": [
    {
     "name": "stdout",
     "output_type": "stream",
     "text": [
      "[(2, 5), (1, 4)]\n"
     ]
    }
   ],
   "source": [
    "# .most_common() method returns the counter values in descending order\n",
    "print (freq.most_common(2))"
   ]
  },
  {
   "cell_type": "markdown",
   "id": "698b0dff",
   "metadata": {},
   "source": [
    "## defaultdict"
   ]
  },
  {
   "cell_type": "code",
   "execution_count": 108,
   "id": "8f85f3e9",
   "metadata": {},
   "outputs": [
    {
     "ename": "SyntaxError",
     "evalue": "closing parenthesis ']' does not match opening parenthesis '(' (2987254154.py, line 5)",
     "output_type": "error",
     "traceback": [
      "\u001b[1;36m  File \u001b[1;32m\"C:\\Users\\James\\AppData\\Local\\Temp\\ipykernel_23148\\2987254154.py\"\u001b[1;36m, line \u001b[1;32m5\u001b[0m\n\u001b[1;33m    print (my_dict[1] == []])\u001b[0m\n\u001b[1;37m                           ^\u001b[0m\n\u001b[1;31mSyntaxError\u001b[0m\u001b[1;31m:\u001b[0m closing parenthesis ']' does not match opening parenthesis '('\n"
     ]
    }
   ],
   "source": [
    "# defaultdict is a dictionary that automatically has a value for every key (even if key doesn't exist yet)\n",
    "from collections import defaultdict\n",
    "\n",
    "my_dict = defaultdict(list)\n",
    "print (my_dict[1] == [])"
   ]
  },
  {
   "cell_type": "markdown",
   "id": "c42b2d02",
   "metadata": {},
   "source": [
    "## OrderedDict"
   ]
  },
  {
   "cell_type": "code",
   "execution_count": 110,
   "id": "c7738650",
   "metadata": {},
   "outputs": [],
   "source": [
    "from collections import OrderedDict"
   ]
  },
  {
   "cell_type": "markdown",
   "id": "66491ee2",
   "metadata": {},
   "source": [
    "## namedtuple\n",
    "tuple where each position (col) has a name"
   ]
  },
  {
   "cell_type": "code",
   "execution_count": 112,
   "id": "a90d7413",
   "metadata": {},
   "outputs": [],
   "source": [
    "from collections import namedtuple\n",
    "Eatery = namedtuple('Eatery', ['name', 'location', 'park_id', 'type_name'])"
   ]
  },
  {
   "cell_type": "markdown",
   "id": "0902639c",
   "metadata": {},
   "source": [
    "## datetime\n",
    "Time Format Strings:\n",
    "- %d   (dd)\n",
    "- %m   (mm)\n",
    "- %Y   (yyyy)"
   ]
  },
  {
   "cell_type": "code",
   "execution_count": 116,
   "id": "964f4985",
   "metadata": {},
   "outputs": [
    {
     "name": "stdout",
     "output_type": "stream",
     "text": [
      "2016-06-11 00:00:00\n"
     ]
    }
   ],
   "source": [
    "from datetime import datetime\n",
    "parking_violations_date = '06/11/2016'\n",
    "date_dt = datetime.strptime(parking_violations_date, '%m/%d/%Y')\n",
    "print (date_dt)"
   ]
  },
  {
   "cell_type": "code",
   "execution_count": 122,
   "id": "e6101006",
   "metadata": {},
   "outputs": [
    {
     "name": "stdout",
     "output_type": "stream",
     "text": [
      "06/2016\n"
     ]
    }
   ],
   "source": [
    "print (date_dt.strftime('%m/%Y'))"
   ]
  },
  {
   "cell_type": "code",
   "execution_count": 124,
   "id": "07a2ec9c",
   "metadata": {},
   "outputs": [
    {
     "name": "stdout",
     "output_type": "stream",
     "text": [
      "2023-03-30 02:24:21.408927\n"
     ]
    }
   ],
   "source": [
    "local_dt = datetime.now()\n",
    "print (local_dt)"
   ]
  },
  {
   "cell_type": "code",
   "execution_count": 125,
   "id": "1c546acc",
   "metadata": {},
   "outputs": [
    {
     "name": "stdout",
     "output_type": "stream",
     "text": [
      "2023-03-30 06:24:36.338176\n"
     ]
    }
   ],
   "source": [
    "utc_dt = datetime.utcnow()\n",
    "print (utc_dt)"
   ]
  },
  {
   "cell_type": "code",
   "execution_count": 144,
   "id": "e37dc7ea",
   "metadata": {},
   "outputs": [
    {
     "name": "stdout",
     "output_type": "stream",
     "text": [
      "2016-07-12 04:39:00\n",
      "2016-07-12 04:39:00-04:56\n",
      "2016-07-12 02:35:00-07:00\n"
     ]
    }
   ],
   "source": [
    "from pytz import timezone\n",
    "record_dt = datetime.strptime('07/12/2016 04:39PM', '%m/%d/%Y %H:%M%p')\n",
    "ny_tz = timezone('US/Eastern')\n",
    "la_tz = timezone('US/Pacific')\n",
    "\n",
    "# Setting time zone information\n",
    "ny_dt = record_dt.replace(tzinfo=ny_tz)\n",
    "print (record_dt)\n",
    "# Getting time in LA:\n",
    "la_dt = ny_dt.astimezone(la_tz)\n",
    "print (ny_dt)\n",
    "print (la_dt)"
   ]
  },
  {
   "cell_type": "code",
   "execution_count": 146,
   "id": "abe26f3b",
   "metadata": {},
   "outputs": [
    {
     "name": "stdout",
     "output_type": "stream",
     "text": [
      "2016-07-12 04:39:00\n",
      "2016-10-10 04:39:00\n",
      "2016-04-13 04:39:00\n"
     ]
    }
   ],
   "source": [
    "#timedelta is used to represent an amount of change in time\n",
    "\n",
    "from datetime import timedelta\n",
    "flashback = timedelta(days=90)\n",
    "print(record_dt)\n",
    "print (record_dt + flashback)\n",
    "print (record_dt - flashback)"
   ]
  },
  {
   "cell_type": "code",
   "execution_count": 147,
   "id": "85957369",
   "metadata": {},
   "outputs": [
    {
     "name": "stdout",
     "output_type": "stream",
     "text": [
      "0:04:00\n"
     ]
    }
   ],
   "source": [
    "record_dt_0 = datetime.strptime('07/12/2016 04:35PM', '%m/%d/%Y %H:%M%p')\n",
    "time_diff = record_dt - record_dt_0\n",
    "print(time_diff)"
   ]
  },
  {
   "cell_type": "markdown",
   "id": "e3c9a7e2",
   "metadata": {},
   "source": [
    "## pendulum"
   ]
  },
  {
   "cell_type": "code",
   "execution_count": null,
   "id": "00829391",
   "metadata": {},
   "outputs": [],
   "source": [
    "import pendulum\n",
    "\n",
    "# use pendulum.parse(VAR_NAME, tz=TIMEZONE)\n",
    "# use pendulum.parse(VAR_NAME, strict = False) to parse in non-ISO8601 format\n",
    "# .in_timezone(TIMEZONE) converts a pendulum time object to a desired timezone\n",
    "# pendulum.now(TIMEZONE) accepts a timezone you want to get the current time in\n",
    "# .in_words()\n",
    "# .in_days()\n",
    "# .in_hours()"
   ]
  }
 ],
 "metadata": {
  "kernelspec": {
   "display_name": "Python 3 (ipykernel)",
   "language": "python",
   "name": "python3"
  },
  "language_info": {
   "codemirror_mode": {
    "name": "ipython",
    "version": 3
   },
   "file_extension": ".py",
   "mimetype": "text/x-python",
   "name": "python",
   "nbconvert_exporter": "python",
   "pygments_lexer": "ipython3",
   "version": "3.9.13"
  }
 },
 "nbformat": 4,
 "nbformat_minor": 5
}
