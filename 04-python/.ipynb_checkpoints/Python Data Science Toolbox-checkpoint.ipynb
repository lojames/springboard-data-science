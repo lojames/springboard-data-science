{
 "cells": [
  {
   "cell_type": "markdown",
   "id": "420e73e6",
   "metadata": {},
   "source": [
    "## User-defined functions"
   ]
  },
  {
   "cell_type": "code",
   "execution_count": 3,
   "id": "1ce85b9e",
   "metadata": {},
   "outputs": [
    {
     "data": {
      "text/plain": [
       "16"
      ]
     },
     "execution_count": 3,
     "metadata": {},
     "output_type": "execute_result"
    }
   ],
   "source": [
    "def square (value): # <--- This is the function header\n",
    "    \"\"\"Returns the square of a value.\"\"\" #<--- Docstring\n",
    "    new_value = value ** 2 # <--- This is the function body\n",
    "    return new_value\n",
    "    \n",
    "square(4) # <--- This is a function call"
   ]
  },
  {
   "cell_type": "code",
   "execution_count": 2,
   "id": "e5775064",
   "metadata": {},
   "outputs": [
    {
     "data": {
      "text/plain": [
       "8"
      ]
     },
     "execution_count": 2,
     "metadata": {},
     "output_type": "execute_result"
    }
   ],
   "source": [
    "def raise_to_power(value1, value2):\n",
    "    \"\"\"Raise value1 to the power of value2.\"\"\"\n",
    "    new_value = value1 ** value2\n",
    "    return new_value\n",
    "\n",
    "raise_to_power(2,3)"
   ]
  },
  {
   "cell_type": "code",
   "execution_count": 4,
   "id": "0107701c",
   "metadata": {},
   "outputs": [
    {
     "data": {
      "text/plain": [
       "6"
      ]
     },
     "execution_count": 4,
     "metadata": {},
     "output_type": "execute_result"
    }
   ],
   "source": [
    "# Tuples are constructed with parenthesis.  They are immutable (values cannot be changed)\n",
    "\n",
    "even_nums = (2,4,6) # <--- Contructing and assigning a tuple \n",
    "a, b, c = even_nums # <--- unpacking tuple into multiple variables\n",
    "even_nums[2] # <--- access tuple elements much like a list"
   ]
  },
  {
   "cell_type": "code",
   "execution_count": 7,
   "id": "00e54c25",
   "metadata": {},
   "outputs": [
    {
     "name": "stdout",
     "output_type": "stream",
     "text": [
      "(8, 9)\n"
     ]
    }
   ],
   "source": [
    "def raise_both(value1, value2):\n",
    "    \"\"\"Raise value1 to the power of value2 and vice versa.\"\"\"\n",
    "    \n",
    "    new_value1 = value1**value2\n",
    "    new_value2 = value2**value1\n",
    "    \n",
    "    new_tuple = (new_value1, new_value2)\n",
    "    return (new_tuple)\n",
    "\n",
    "print (raise_both(2,3))"
   ]
  },
  {
   "cell_type": "code",
   "execution_count": 9,
   "id": "a2838eea",
   "metadata": {},
   "outputs": [
    {
     "data": {
      "text/html": [
       "<div>\n",
       "<style scoped>\n",
       "    .dataframe tbody tr th:only-of-type {\n",
       "        vertical-align: middle;\n",
       "    }\n",
       "\n",
       "    .dataframe tbody tr th {\n",
       "        vertical-align: top;\n",
       "    }\n",
       "\n",
       "    .dataframe thead th {\n",
       "        text-align: right;\n",
       "    }\n",
       "</style>\n",
       "<table border=\"1\" class=\"dataframe\">\n",
       "  <thead>\n",
       "    <tr style=\"text-align: right;\">\n",
       "      <th></th>\n",
       "      <th>First</th>\n",
       "      <th>Last</th>\n",
       "      <th>ID</th>\n",
       "    </tr>\n",
       "  </thead>\n",
       "  <tbody>\n",
       "    <tr>\n",
       "      <th>0</th>\n",
       "      <td>John</td>\n",
       "      <td>Doe</td>\n",
       "      <td>1</td>\n",
       "    </tr>\n",
       "    <tr>\n",
       "      <th>1</th>\n",
       "      <td>Jane</td>\n",
       "      <td>Kim</td>\n",
       "      <td>2</td>\n",
       "    </tr>\n",
       "    <tr>\n",
       "      <th>2</th>\n",
       "      <td>Chris</td>\n",
       "      <td>No</td>\n",
       "      <td>3</td>\n",
       "    </tr>\n",
       "    <tr>\n",
       "      <th>3</th>\n",
       "      <td>Anthony</td>\n",
       "      <td>Lo</td>\n",
       "      <td>4</td>\n",
       "    </tr>\n",
       "  </tbody>\n",
       "</table>\n",
       "</div>"
      ],
      "text/plain": [
       "     First Last  ID\n",
       "0     John  Doe   1\n",
       "1     Jane  Kim   2\n",
       "2    Chris   No   3\n",
       "3  Anthony   Lo   4"
      ]
     },
     "execution_count": 9,
     "metadata": {},
     "output_type": "execute_result"
    }
   ],
   "source": [
    "import pandas as pd\n",
    "\n",
    "# Import file using Pandas as DataFrame:\n",
    "df = pd.read_csv('file.csv')\n",
    "df\n"
   ]
  },
  {
   "cell_type": "markdown",
   "id": "e21b26aa",
   "metadata": {},
   "source": [
    "## Scope\n",
    "Part of the program where an object or name may be accesible.\n",
    "\n",
    "1. Global - defined in main body of a script\n",
    "2. Local - defined inside a funcion\n",
    "3. Built-in - names in the pre-defined built-ins module\n",
    "\n",
    "## Nested Functions Example"
   ]
  },
  {
   "cell_type": "code",
   "execution_count": 10,
   "id": "4c8c0a11",
   "metadata": {},
   "outputs": [
    {
     "name": "stdout",
     "output_type": "stream",
     "text": [
      "hellohello hellohellohello\n"
     ]
    }
   ],
   "source": [
    "# Define echo\n",
    "def echo(n):\n",
    "    \"\"\"Return the inner_echo function.\"\"\"\n",
    "\n",
    "    # Define inner_echo\n",
    "    def inner_echo(word1):\n",
    "        \"\"\"Concatenate n copies of word1.\"\"\"\n",
    "        echo_word = word1 * n\n",
    "        return echo_word\n",
    "\n",
    "    # Return inner_echo\n",
    "    return inner_echo\n",
    "\n",
    "# Call echo: twice\n",
    "twice = echo(2)\n",
    "\n",
    "# Call echo: thrice\n",
    "thrice = echo(3)\n",
    "\n",
    "# Call twice() and thrice() then print\n",
    "print(twice('hello'), thrice('hello'))"
   ]
  },
  {
   "cell_type": "markdown",
   "id": "7f7c38e9",
   "metadata": {},
   "source": [
    "## Flexible Arguments Example"
   ]
  },
  {
   "cell_type": "code",
   "execution_count": 11,
   "id": "3703830f",
   "metadata": {},
   "outputs": [
    {
     "name": "stdout",
     "output_type": "stream",
     "text": [
      "luke\n",
      "lukeleiahanobidarth\n"
     ]
    }
   ],
   "source": [
    "# Define gibberish\n",
    "def gibberish(*args):\n",
    "    \"\"\"Concatenate strings in *args together.\"\"\"\n",
    "\n",
    "    # Initialize an empty string: hodgepodge\n",
    "    hodgepodge = ''\n",
    "\n",
    "    # Concatenate the strings in args\n",
    "    for word in args:\n",
    "        hodgepodge += word\n",
    "\n",
    "    # Return hodgepodge\n",
    "    return hodgepodge\n",
    "\n",
    "# Call gibberish() with one string: one_word\n",
    "one_word = gibberish('luke')\n",
    "\n",
    "# Call gibberish() with five strings: many_words\n",
    "many_words = gibberish(\"luke\", \"leia\", \"han\", \"obi\", \"darth\")\n",
    "\n",
    "# Print one_word and many_words\n",
    "print(one_word)\n",
    "print(many_words)"
   ]
  },
  {
   "cell_type": "markdown",
   "id": "ce2f3a45",
   "metadata": {},
   "source": [
    "## Lambda Functions"
   ]
  },
  {
   "cell_type": "code",
   "execution_count": 15,
   "id": "f46d6099",
   "metadata": {},
   "outputs": [
    {
     "data": {
      "text/plain": [
       "8"
      ]
     },
     "execution_count": 15,
     "metadata": {},
     "output_type": "execute_result"
    }
   ],
   "source": [
    "raise_to_power = lambda x,y: x ** y\n",
    "raise_to_power(2,3)"
   ]
  },
  {
   "cell_type": "code",
   "execution_count": 18,
   "id": "beb392cd",
   "metadata": {},
   "outputs": [
    {
     "name": "stdout",
     "output_type": "stream",
     "text": [
      "[2304, 36, 81, 441, 1]\n"
     ]
    }
   ],
   "source": [
    "nums = [48, 6, 9, 21, 1]\n",
    "square_all = map(lambda num: num ** 2, nums)\n",
    "print (list(square_all))"
   ]
  },
  {
   "cell_type": "code",
   "execution_count": 19,
   "id": "8fcb6cb4",
   "metadata": {},
   "outputs": [
    {
     "data": {
      "text/plain": [
       "'hello!!!'"
      ]
     },
     "execution_count": 19,
     "metadata": {},
     "output_type": "execute_result"
    }
   ],
   "source": [
    "add_bangs = lambda str: str + '!!!'\n",
    "add_bangs('hello')"
   ]
  },
  {
   "cell_type": "code",
   "execution_count": 20,
   "id": "8d823bb5",
   "metadata": {},
   "outputs": [
    {
     "name": "stdout",
     "output_type": "stream",
     "text": [
      "['protego!!!', 'accio!!!', 'expecto patronum!!!', 'legilimens!!!']\n"
     ]
    }
   ],
   "source": [
    "# Create a list of strings: spells\n",
    "spells = [\"protego\", \"accio\", \"expecto patronum\", \"legilimens\"]\n",
    "\n",
    "# Use map() to apply a lambda function over spells: shout_spells\n",
    "shout_spells = map(lambda spell: spell + '!!!', spells)\n",
    "\n",
    "# Convert shout_spells to a list: shout_spells_list\n",
    "shout_spells_list= list(shout_spells)\n",
    "\n",
    "# Print the result\n",
    "print(shout_spells_list)"
   ]
  },
  {
   "cell_type": "code",
   "execution_count": 21,
   "id": "341dd8ee",
   "metadata": {},
   "outputs": [
    {
     "name": "stdout",
     "output_type": "stream",
     "text": [
      "['samwise', 'aragorn', 'boromir', 'legolas', 'gandalf']\n"
     ]
    }
   ],
   "source": [
    "# Create a list of strings: fellowship\n",
    "fellowship = ['frodo', 'samwise', 'merry', 'pippin', 'aragorn', 'boromir', 'legolas', 'gimli', 'gandalf']\n",
    "\n",
    "# Use filter() to apply a lambda function over fellowship: result\n",
    "result = filter(lambda fellow: len(fellow)>6, fellowship)\n",
    "\n",
    "# Convert result to a list: result_list\n",
    "result_list = list(result)\n",
    "\n",
    "# Print result_list\n",
    "print(result_list)"
   ]
  },
  {
   "cell_type": "markdown",
   "id": "63d3a068",
   "metadata": {},
   "source": [
    "## Errors and Exceptions\n",
    "try-except and a raise example"
   ]
  },
  {
   "cell_type": "code",
   "execution_count": 22,
   "id": "70e5dca1",
   "metadata": {},
   "outputs": [],
   "source": [
    "def sqrt(x):\n",
    "    \"\"\"Returns the square root of a number.\"\"\"\n",
    "    if x < 0:\n",
    "        raise ValueError('x must be non-negative')\n",
    "    try: \n",
    "        return x ** 0.5\n",
    "    except TypeError:\n",
    "        print('x must be an int or float')"
   ]
  },
  {
   "cell_type": "code",
   "execution_count": 23,
   "id": "0f78be9a",
   "metadata": {},
   "outputs": [
    {
     "name": "stdout",
     "output_type": "stream",
     "text": [
      "x must be an int or float\n"
     ]
    }
   ],
   "source": [
    "sqrt(\"hello\")"
   ]
  }
 ],
 "metadata": {
  "kernelspec": {
   "display_name": "Python 3 (ipykernel)",
   "language": "python",
   "name": "python3"
  },
  "language_info": {
   "codemirror_mode": {
    "name": "ipython",
    "version": 3
   },
   "file_extension": ".py",
   "mimetype": "text/x-python",
   "name": "python",
   "nbconvert_exporter": "python",
   "pygments_lexer": "ipython3",
   "version": "3.9.13"
  }
 },
 "nbformat": 4,
 "nbformat_minor": 5
}
