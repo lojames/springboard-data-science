{
 "cells": [
  {
   "cell_type": "markdown",
   "id": "3f936dbe",
   "metadata": {},
   "source": [
    "## Inner Join\n",
    "\n",
    "Inner joins only return rows with matching values on both tables.\n",
    "\n",
    "To merge, find similar column to merge on.\n",
    "\n",
    "```<MERGED TABLE> = <TABLE 1>.merge(<TABLE2>, on='<SIMILAR COL>', suffixes=('_<SUFFIX 1>', '_<SUFFIX 2>'))```\n",
    "\n",
    "*Note: the ```on``` argument also accepts a list of columns.*"
   ]
  },
  {
   "cell_type": "code",
   "execution_count": 5,
   "id": "9b417cd7",
   "metadata": {},
   "outputs": [],
   "source": [
    "import pandas as pd\n"
   ]
  },
  {
   "cell_type": "markdown",
   "id": "9c8c8ce9",
   "metadata": {},
   "source": [
    "## One-to-one Relationship\n",
    "Every row in the left table is related to only one row in the right table.\n",
    "\n",
    "e.g. Let's say we have a ward table and a census table.  It makes sense that there is only one population that corresponds to each ward."
   ]
  },
  {
   "cell_type": "markdown",
   "id": "97c3de8b",
   "metadata": {},
   "source": [
    "## One-to-many Relationship\n",
    "Every row in the left table is related to one or more rows in the right table.\n",
    "\n",
    "e.g. Let's say we have a ward table and a businesses table.  Each ward may have multiple businesses."
   ]
  },
  {
   "cell_type": "markdown",
   "id": "d18f3be9",
   "metadata": {},
   "source": [
    "## Left Join\n",
    "\n",
    "Left join returns all rows in the left table and only those on the right table where the key columns match.\n",
    "\n",
    "By default, merge does inner join.  To do a left join, we specify with the ```how='left'``` argument.\n",
    "\n",
    "```<MERGED TABLE> = <TABLE 1>.merge(<TABLE2>, on='<SIMILAR COL>', suffixes=('_<SUFFIX 1>', '_<SUFFIX 2>', how='left')```"
   ]
  },
  {
   "cell_type": "markdown",
   "id": "7680bd21",
   "metadata": {},
   "source": [
    "## Right Join\n",
    "\n",
    "Mirror opposite of left join.\n"
   ]
  },
  {
   "cell_type": "markdown",
   "id": "ef8df8c9",
   "metadata": {},
   "source": [
    "If columns on merging tables are differently named, but the same thing use the ```left_on``` and ```right_on``` arguments.\n",
    "\n",
    "```<MERGED TABLE> = <TABLE 1>.merge(<TABLE2>, on='<SIMILAR COL>', left_on='<LEFT COL NAME>', right_on='<RIGHT COL NAME>')```"
   ]
  },
  {
   "cell_type": "markdown",
   "id": "a1748e6d",
   "metadata": {},
   "source": [
    "## Outer Join\n",
    "\n",
    "Will return all rows from both tables, whether or not there is a match.\n",
    "\n",
    "Use argument ```how='outer'```."
   ]
  },
  {
   "cell_type": "markdown",
   "id": "859b0687",
   "metadata": {},
   "source": [
    "## Self Join\n",
    "Any left/right/inner join on the same table.\n",
    "\n",
    "e.g. The movie sequels table example.  Doing inner join shows only movies with sequels.  Left join will show all movies."
   ]
  },
  {
   "cell_type": "markdown",
   "id": "af0e1ad6",
   "metadata": {},
   "source": [
    "## Merging on Indexes\n",
    "Virtually the same, except when merging with `left_on` and `right_on` arguments we must also include ```left_index=True``` and `right_index=True`"
   ]
  },
  {
   "cell_type": "markdown",
   "id": "7da7c4fb",
   "metadata": {},
   "source": [
    "## Filtering Joins\n",
    "Filter observations from table based on whether or not they match an observation in another table."
   ]
  },
  {
   "cell_type": "markdown",
   "id": "3e7b3f3a",
   "metadata": {},
   "source": [
    "## Semi join\n",
    "Returns the intersection similar to an inner join, but returns columns from the left table only.  No duplicates are returned.\n",
    "\n",
    "If Table A is the left table and Table B is the right table, and we want to do a semi-join:\n",
    "1. Merge Tables A and B: `<TAB_A-B> = <TAB_A>.merge(<TAB_B>, on='<COL>)`\n",
    "2. Filter: `<TAB_A>[<TAB_A>['<COL>'].isin(<TAB_A-B>['<COL>'])]`"
   ]
  },
  {
   "cell_type": "markdown",
   "id": "b0e4ad55",
   "metadata": {},
   "source": [
    "## Anti join\n",
    "Return the left table, excluding the intersection. Returns columns only from left table.\n",
    "\n",
    "If Table A is the left table and Table B is the right table, and we want to do an anti-join:\n",
    "1. Left Join Tables A and B with `indicator=True`: `<TAB_A-B> = <TAB_A>.merge(<TAB_B>, on='<COL>, how='left', indicator=True)`\n",
    "2. Filtered List: `<NOT_IN_B> = <TAB_A-B>.loc[<TAB_A-B>['_merge'] == 'left_only', '<COL>']`\n",
    "3. Selecting from Filtered List: `<TAB A>[<TAB A>['<COL>'.isin(NOT_IN_B>)]`"
   ]
  },
  {
   "cell_type": "markdown",
   "id": "bfe96761",
   "metadata": {},
   "source": [
    "## Concatenating Tables Vertically\n",
    "\n",
    "* If all tables have same column names, use `pd.concat([<LIST OF TABLES TO CONCATENATE>])`\n",
    "* Can use `ignore_index=True` to set default index from 0 to n-1.\n",
    "* When using `ignore_index=False`, we can specify argument `keys=[<AN ADDITIONAL LABEL FOR INDEX>]`\n",
    "* By default, concatenation is an outer join.  If we wish to specify, we can use argument `join='inner'`"
   ]
  },
  {
   "cell_type": "markdown",
   "id": "b95c66a1",
   "metadata": {},
   "source": [
    "## Verifying Integrity of Data\n",
    "When calling `.merge()` we can specify a `validate` argument as follows: `.merge(validate=None)`\n",
    "\n",
    "Possible options for validation include:\n",
    "* `'one_to_one'`\n",
    "* `'one_to_many'`\n",
    "* `'many_to_one'`\n",
    "* `'many_to_many'`\n",
    "\n",
    "When calling `.concat()` we can specify a `verify_integrity` argument as follows: `.concat(verify_integrity=True)`\n",
    "\n",
    "The default value of `verify_integrity` is `False`.  When set to true the method checks whether the concatenated index contains duplicates."
   ]
  },
  {
   "cell_type": "markdown",
   "id": "d5390001",
   "metadata": {},
   "source": [
    "## merge_ordered()\n",
    "The `merge_ordered()` function defaults with an outer join.  Can use arguments `on`, `how`, and `suffixes`.\n",
    "\n",
    "e.g.: `pd.merge_ordered(<TAB1>,<TAB2>)`\n",
    "\n",
    "For almost all missing data, we can use forward filling (fill missing col data with previous value) by specifying the `fill_method` argument with `fill_method='ffill'`"
   ]
  },
  {
   "cell_type": "markdown",
   "id": "e4191d4b",
   "metadata": {},
   "source": [
    "## merge_asof()\n",
    "Similar to a left ordered merge, except will match on the nearest key column and not always exact matches.\n",
    "\n",
    "*Note: Merged 'on' columns must be sorted.*\n",
    "\n",
    "By default, the `direction` argument is takes the  closest that is less than or equal to the value in question.  We can change this to greater than or equal to by setting `direction='forward'`.  The `nearest` is another option."
   ]
  },
  {
   "cell_type": "markdown",
   "id": "1e1a1ed2",
   "metadata": {},
   "source": [
    "## Selecting Data with the .query() method\n",
    "Very much like SQL `where` clause.  Can query on multiple conditions with `and` and `or`.\n",
    "\n",
    "Some examples:\n",
    "* `stocks.query('nike >= 90')`\n",
    "* `stocks.query('nike > 90 and disney < 140')`\n",
    "* `stocks.query('date == \"2019-04-01\"')`"
   ]
  },
  {
   "cell_type": "markdown",
   "id": "c4ec51cb",
   "metadata": {},
   "source": [
    "##  Melt Method\n",
    "Unpivots a table from wide to long format.\n",
    "\n",
    "The **wide** data format indicates that every row relates to one subject.  The columns correspond to different attributes of each row-wise subject.\n",
    "\n",
    "The **long** or **tall** data format occurs when data about a subject can be found over multiple rows and each row corresponds to an attribute about the subject.\n",
    "\n",
    "Example:\n",
    "* `social_fin.melt(id_vars=['financial','company'])` where 'financial' and 'company' are the columns we want to keep as columns and all other columns are \"melted\"\n",
    "* `social_fin.melt(id_vars=['financial','company'], value_vars=['2018','2017'])` in this case we specify which columns we want to \"melt\"\n",
    "\n",
    "The `var_name` and `value_name` arguments allow us to specify names for the the respective column names in the melted table.\n"
   ]
  },
  {
   "cell_type": "code",
   "execution_count": null,
   "id": "6db49b30",
   "metadata": {},
   "outputs": [],
   "source": []
  }
 ],
 "metadata": {
  "kernelspec": {
   "display_name": "Python 3 (ipykernel)",
   "language": "python",
   "name": "python3"
  },
  "language_info": {
   "codemirror_mode": {
    "name": "ipython",
    "version": 3
   },
   "file_extension": ".py",
   "mimetype": "text/x-python",
   "name": "python",
   "nbconvert_exporter": "python",
   "pygments_lexer": "ipython3",
   "version": "3.9.13"
  }
 },
 "nbformat": 4,
 "nbformat_minor": 5
}
