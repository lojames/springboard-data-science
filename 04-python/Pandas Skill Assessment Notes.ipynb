{
 "cells": [
  {
   "cell_type": "code",
   "execution_count": 10,
   "id": "53dd3add",
   "metadata": {},
   "outputs": [],
   "source": [
    "import pandas as pd\n",
    "import matplotlib.pyplot as plt"
   ]
  },
  {
   "cell_type": "code",
   "execution_count": 11,
   "id": "0dbb9a18",
   "metadata": {},
   "outputs": [
    {
     "name": "stdout",
     "output_type": "stream",
     "text": [
      "5.333333333333333\n",
      "1.75\n"
     ]
    }
   ],
   "source": [
    "import numpy as np\n",
    "\n",
    "\n",
    "age = [5,6,7,8,5,4,6,7,1,5,4,6]\n",
    "average_age = np.mean(age)\n",
    "spread_age = np.std(age)\n",
    "\n",
    "print(average_age)\n",
    "print(spread_age.round(2))"
   ]
  },
  {
   "cell_type": "code",
   "execution_count": 13,
   "id": "5384df03",
   "metadata": {},
   "outputs": [
    {
     "name": "stdout",
     "output_type": "stream",
     "text": [
      "     gh owner\n",
      "0  pandas-dev\n",
      "1   tidyverse\n",
      "2   tidyverse\n",
      "3      has2k1\n"
     ]
    }
   ],
   "source": [
    "df = pd.DataFrame({\n",
    "    'gh owner': ['pandas-dev', 'tidyverse', 'tidyverse', 'has2k1'],\n",
    "    'language': ['python', 'R', 'R', 'python'],\n",
    "    'repo': ['pandas', 'dplyr', 'ggplot2', 'plotnine'],\n",
    "    'stars': [17800, 2800, 3500, 1450],\n",
    "    'age': [5,34,26,94]\n",
    "    })\n",
    "print(df.loc[:,[\"gh owner\"]])"
   ]
  },
  {
   "cell_type": "code",
   "execution_count": 14,
   "id": "2e7fcf6f",
   "metadata": {},
   "outputs": [
    {
     "name": "stdout",
     "output_type": "stream",
     "text": [
      "28.25\n"
     ]
    }
   ],
   "source": [
    "import pandas as pd \n",
    "\n",
    "Q1 = df['age'].quantile(0.25)\n",
    "Q3 = df['age'].quantile(0.75)\n",
    "\n",
    "print(Q3-Q1)"
   ]
  },
  {
   "cell_type": "code",
   "execution_count": 26,
   "id": "e29ef601",
   "metadata": {},
   "outputs": [
    {
     "data": {
      "image/png": "[encoded data removed]",
      "text/plain": [
       "<Figure size 640x480 with 1 Axes>"
      ]
     },
     "metadata": {},
     "output_type": "display_data"
    }
   ],
   "source": [
    "import matplotlib.pyplot as plt\n",
    "import seaborn as sns\n",
    "\n",
    "steam = pd.DataFrame({\n",
    "    'temp': [21.3,  24.7, 30.0, 32.1, 41.6],\n",
    "    'usage': [125, 210, 274, 290, 375],\n",
    "    })\n",
    "\n",
    "ax = sns.lineplot(data=steam, \n",
    "                    x=\"temp\", \n",
    "                    y=\"usage\")\n",
    "\n",
    "plt.show()\n",
    "\n",
    "\n",
    "# The sns plotting method can be either lineplot, barplot, or scatterplot.\n",
    "# Additional arguments include: *size* which excepts a col name"
   ]
  },
  {
   "cell_type": "code",
   "execution_count": 20,
   "id": "6aa6b9c5",
   "metadata": {},
   "outputs": [
    {
     "data": {
      "text/html": [
       "<div>\n",
       "<style scoped>\n",
       "    .dataframe tbody tr th:only-of-type {\n",
       "        vertical-align: middle;\n",
       "    }\n",
       "\n",
       "    .dataframe tbody tr th {\n",
       "        vertical-align: top;\n",
       "    }\n",
       "\n",
       "    .dataframe thead th {\n",
       "        text-align: right;\n",
       "    }\n",
       "</style>\n",
       "<table border=\"1\" class=\"dataframe\">\n",
       "  <thead>\n",
       "    <tr style=\"text-align: right;\">\n",
       "      <th></th>\n",
       "      <th>x</th>\n",
       "      <th>y</th>\n",
       "    </tr>\n",
       "  </thead>\n",
       "  <tbody>\n",
       "    <tr>\n",
       "      <th>0</th>\n",
       "      <td>2.0</td>\n",
       "      <td>4.0</td>\n",
       "    </tr>\n",
       "    <tr>\n",
       "      <th>1</th>\n",
       "      <td>4.0</td>\n",
       "      <td>5.0</td>\n",
       "    </tr>\n",
       "  </tbody>\n",
       "</table>\n",
       "</div>"
      ],
      "text/plain": [
       "     x    y\n",
       "0  2.0  4.0\n",
       "1  4.0  5.0"
      ]
     },
     "execution_count": 20,
     "metadata": {},
     "output_type": "execute_result"
    }
   ],
   "source": [
    "dfa = pd.DataFrame({\n",
    "    'x': [4, 16],\n",
    "    'y': [16, 25]\n",
    "})\n",
    "\n",
    "dfa.agg(np.sqrt)"
   ]
  },
  {
   "cell_type": "code",
   "execution_count": 30,
   "id": "8f5fb2e5",
   "metadata": {},
   "outputs": [
    {
     "data": {
      "text/plain": [
       "Index(['temp', 'usage'], dtype='object')"
      ]
     },
     "execution_count": 30,
     "metadata": {},
     "output_type": "execute_result"
    }
   ],
   "source": [
    "steam.columns"
   ]
  },
  {
   "cell_type": "code",
   "execution_count": null,
   "id": "13b771ea",
   "metadata": {},
   "outputs": [],
   "source": []
  }
 ],
 "metadata": {
  "kernelspec": {
   "display_name": "Python 3 (ipykernel)",
   "language": "python",
   "name": "python3"
  },
  "language_info": {
   "codemirror_mode": {
    "name": "ipython",
    "version": 3
   },
   "file_extension": ".py",
   "mimetype": "text/x-python",
   "name": "python",
   "nbconvert_exporter": "python",
   "pygments_lexer": "ipython3",
   "version": "3.9.13"
  }
 },
 "nbformat": 4,
 "nbformat_minor": 5
}
