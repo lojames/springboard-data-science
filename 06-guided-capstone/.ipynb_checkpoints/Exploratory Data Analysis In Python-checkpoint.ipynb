{
 "cells": [
  {
   "cell_type": "markdown",
   "id": "a7210a1b",
   "metadata": {},
   "source": [
    "## Exploratory Data Analysis"
   ]
  },
  {
   "cell_type": "code",
   "execution_count": 3,
   "id": "f1d828f3",
   "metadata": {},
   "outputs": [],
   "source": [
    "import pandas as pd"
   ]
  },
  {
   "cell_type": "code",
   "execution_count": 5,
   "id": "1b0a91ba",
   "metadata": {},
   "outputs": [
    {
     "data": {
      "text/html": [
       "<div>\n",
       "<style scoped>\n",
       "    .dataframe tbody tr th:only-of-type {\n",
       "        vertical-align: middle;\n",
       "    }\n",
       "\n",
       "    .dataframe tbody tr th {\n",
       "        vertical-align: top;\n",
       "    }\n",
       "\n",
       "    .dataframe thead th {\n",
       "        text-align: right;\n",
       "    }\n",
       "</style>\n",
       "<table border=\"1\" class=\"dataframe\">\n",
       "  <thead>\n",
       "    <tr style=\"text-align: right;\">\n",
       "      <th></th>\n",
       "      <th>name</th>\n",
       "      <th>author</th>\n",
       "      <th>rating</th>\n",
       "      <th>year</th>\n",
       "      <th>genre</th>\n",
       "    </tr>\n",
       "  </thead>\n",
       "  <tbody>\n",
       "    <tr>\n",
       "      <th>0</th>\n",
       "      <td>10-Day Green Smoothie Cleanse</td>\n",
       "      <td>JJ Smith</td>\n",
       "      <td>4.7</td>\n",
       "      <td>2016</td>\n",
       "      <td>Non Fiction</td>\n",
       "    </tr>\n",
       "    <tr>\n",
       "      <th>1</th>\n",
       "      <td>11/22/63: A Novel</td>\n",
       "      <td>Stephen King</td>\n",
       "      <td>4.6</td>\n",
       "      <td>2011</td>\n",
       "      <td>Fiction</td>\n",
       "    </tr>\n",
       "    <tr>\n",
       "      <th>2</th>\n",
       "      <td>12 Rules for Life: An Antidote to Chaos</td>\n",
       "      <td>Jordan B. Peterson</td>\n",
       "      <td>4.7</td>\n",
       "      <td>2018</td>\n",
       "      <td>Non Fiction</td>\n",
       "    </tr>\n",
       "    <tr>\n",
       "      <th>3</th>\n",
       "      <td>1984 (Signet Classics)</td>\n",
       "      <td>George Orwell</td>\n",
       "      <td>4.7</td>\n",
       "      <td>2017</td>\n",
       "      <td>Fiction</td>\n",
       "    </tr>\n",
       "    <tr>\n",
       "      <th>4</th>\n",
       "      <td>5,000 Awesome Facts (About Everything!) (Natio...</td>\n",
       "      <td>National Geographic Kids</td>\n",
       "      <td>4.8</td>\n",
       "      <td>2019</td>\n",
       "      <td>Childrens</td>\n",
       "    </tr>\n",
       "  </tbody>\n",
       "</table>\n",
       "</div>"
      ],
      "text/plain": [
       "                                                name  \\\n",
       "0                      10-Day Green Smoothie Cleanse   \n",
       "1                                  11/22/63: A Novel   \n",
       "2            12 Rules for Life: An Antidote to Chaos   \n",
       "3                             1984 (Signet Classics)   \n",
       "4  5,000 Awesome Facts (About Everything!) (Natio...   \n",
       "\n",
       "                     author  rating  year        genre  \n",
       "0                  JJ Smith     4.7  2016  Non Fiction  \n",
       "1              Stephen King     4.6  2011      Fiction  \n",
       "2        Jordan B. Peterson     4.7  2018  Non Fiction  \n",
       "3             George Orwell     4.7  2017      Fiction  \n",
       "4  National Geographic Kids     4.8  2019    Childrens  "
      ]
     },
     "execution_count": 5,
     "metadata": {},
     "output_type": "execute_result"
    }
   ],
   "source": [
    "books = pd.read_csv('clean_books.csv')\n",
    "books.head()"
   ]
  },
  {
   "cell_type": "markdown",
   "id": "94ce4d4b",
   "metadata": {},
   "source": [
    "####  .info() method\n",
    "Returns a summary of column non-missing values and data types from the DataFrame"
   ]
  },
  {
   "cell_type": "code",
   "execution_count": 19,
   "id": "34d98052",
   "metadata": {},
   "outputs": [
    {
     "name": "stdout",
     "output_type": "stream",
     "text": [
      "<class 'pandas.core.frame.DataFrame'>\n",
      "RangeIndex: 350 entries, 0 to 349\n",
      "Data columns (total 5 columns):\n",
      " #   Column  Non-Null Count  Dtype  \n",
      "---  ------  --------------  -----  \n",
      " 0   name    350 non-null    object \n",
      " 1   author  350 non-null    object \n",
      " 2   rating  350 non-null    float64\n",
      " 3   year    350 non-null    int64  \n",
      " 4   genre   350 non-null    object \n",
      "dtypes: float64(1), int64(1), object(3)\n",
      "memory usage: 13.8+ KB\n"
     ]
    }
   ],
   "source": [
    "books.info()"
   ]
  },
  {
   "cell_type": "markdown",
   "id": "8ed54abf",
   "metadata": {},
   "source": [
    "#### .describe() method\n",
    "Returns summary statistics (count, mean, standard deviation, min, max, and quartile values) of each numerical column in DataFrame"
   ]
  },
  {
   "cell_type": "code",
   "execution_count": 20,
   "id": "1c1a3b6d",
   "metadata": {},
   "outputs": [
    {
     "data": {
      "text/html": [
       "<div>\n",
       "<style scoped>\n",
       "    .dataframe tbody tr th:only-of-type {\n",
       "        vertical-align: middle;\n",
       "    }\n",
       "\n",
       "    .dataframe tbody tr th {\n",
       "        vertical-align: top;\n",
       "    }\n",
       "\n",
       "    .dataframe thead th {\n",
       "        text-align: right;\n",
       "    }\n",
       "</style>\n",
       "<table border=\"1\" class=\"dataframe\">\n",
       "  <thead>\n",
       "    <tr style=\"text-align: right;\">\n",
       "      <th></th>\n",
       "      <th>rating</th>\n",
       "      <th>year</th>\n",
       "    </tr>\n",
       "  </thead>\n",
       "  <tbody>\n",
       "    <tr>\n",
       "      <th>count</th>\n",
       "      <td>350.000000</td>\n",
       "      <td>350.000000</td>\n",
       "    </tr>\n",
       "    <tr>\n",
       "      <th>mean</th>\n",
       "      <td>4.608571</td>\n",
       "      <td>2013.508571</td>\n",
       "    </tr>\n",
       "    <tr>\n",
       "      <th>std</th>\n",
       "      <td>0.226941</td>\n",
       "      <td>3.284711</td>\n",
       "    </tr>\n",
       "    <tr>\n",
       "      <th>min</th>\n",
       "      <td>3.300000</td>\n",
       "      <td>2009.000000</td>\n",
       "    </tr>\n",
       "    <tr>\n",
       "      <th>25%</th>\n",
       "      <td>4.500000</td>\n",
       "      <td>2010.000000</td>\n",
       "    </tr>\n",
       "    <tr>\n",
       "      <th>50%</th>\n",
       "      <td>4.600000</td>\n",
       "      <td>2013.000000</td>\n",
       "    </tr>\n",
       "    <tr>\n",
       "      <th>75%</th>\n",
       "      <td>4.800000</td>\n",
       "      <td>2016.000000</td>\n",
       "    </tr>\n",
       "    <tr>\n",
       "      <th>max</th>\n",
       "      <td>4.900000</td>\n",
       "      <td>2019.000000</td>\n",
       "    </tr>\n",
       "  </tbody>\n",
       "</table>\n",
       "</div>"
      ],
      "text/plain": [
       "           rating         year\n",
       "count  350.000000   350.000000\n",
       "mean     4.608571  2013.508571\n",
       "std      0.226941     3.284711\n",
       "min      3.300000  2009.000000\n",
       "25%      4.500000  2010.000000\n",
       "50%      4.600000  2013.000000\n",
       "75%      4.800000  2016.000000\n",
       "max      4.900000  2019.000000"
      ]
     },
     "execution_count": 20,
     "metadata": {},
     "output_type": "execute_result"
    }
   ],
   "source": [
    "books.describe()"
   ]
  },
  {
   "cell_type": "markdown",
   "id": "49569c9c",
   "metadata": {},
   "source": [
    "#### .value_counts(col) method\n",
    "\n",
    "returns a count of the values in the specified column"
   ]
  },
  {
   "cell_type": "code",
   "execution_count": 12,
   "id": "e532f38c",
   "metadata": {},
   "outputs": [
    {
     "data": {
      "text/plain": [
       "genre\n",
       "Non Fiction    179\n",
       "Fiction        131\n",
       "Childrens       40\n",
       "dtype: int64"
      ]
     },
     "execution_count": 12,
     "metadata": {},
     "output_type": "execute_result"
    }
   ],
   "source": [
    "books.value_counts('genre')"
   ]
  },
  {
   "cell_type": "markdown",
   "id": "22cd973f",
   "metadata": {},
   "source": [
    "#### Seaborn\n",
    "Python package for data visualization"
   ]
  },
  {
   "cell_type": "code",
   "execution_count": 13,
   "id": "0954656d",
   "metadata": {},
   "outputs": [],
   "source": [
    "import seaborn as sns\n",
    "import matplotlib.pyplot as plt"
   ]
  },
  {
   "cell_type": "markdown",
   "id": "20640c7c",
   "metadata": {},
   "source": [
    "#### Histograms with Seaborn"
   ]
  },
  {
   "cell_type": "code",
   "execution_count": 22,
   "id": "34e1c6bd",
   "metadata": {},
   "outputs": [
    {
     "data": {
      "image/png": "[encoded data removed]",
      "text/plain": [
       "<Figure size 640x480 with 1 Axes>"
      ]
     },
     "metadata": {},
     "output_type": "display_data"
    }
   ],
   "source": [
    "sns.histplot(data=books, x='rating', binwidth=.1)\n",
    "plt.show()"
   ]
  },
  {
   "cell_type": "markdown",
   "id": "85cdfb41",
   "metadata": {},
   "source": [
    "#### Updating Data Types with .astype(type)"
   ]
  },
  {
   "cell_type": "code",
   "execution_count": 28,
   "id": "690a93f7",
   "metadata": {},
   "outputs": [
    {
     "name": "stdout",
     "output_type": "stream",
     "text": [
      "<class 'pandas.core.series.Series'>\n",
      "RangeIndex: 350 entries, 0 to 349\n",
      "Series name: year\n",
      "Non-Null Count  Dtype  \n",
      "--------------  -----  \n",
      "350 non-null    float64\n",
      "dtypes: float64(1)\n",
      "memory usage: 2.9 KB\n"
     ]
    }
   ],
   "source": [
    "books['year'] = books['year'].astype(float)\n",
    "books.year.info()"
   ]
  },
  {
   "cell_type": "code",
   "execution_count": 29,
   "id": "e33d923e",
   "metadata": {},
   "outputs": [],
   "source": [
    "books['year'] = books['year'].astype(int)"
   ]
  },
  {
   "cell_type": "markdown",
   "id": "f41edbf0",
   "metadata": {},
   "source": [
    "Python Data Types:\n",
    "* str\n",
    "* int\n",
    "* float\n",
    "* dict\n",
    "* list\n",
    "* bool"
   ]
  },
  {
   "cell_type": "markdown",
   "id": "59d53827",
   "metadata": {},
   "source": [
    "#### .isin(list)\n",
    "Return boolean series of same dimension as DataFrame with whether value in list is in the DataFrame"
   ]
  },
  {
   "cell_type": "code",
   "execution_count": 55,
   "id": "3e6267d5",
   "metadata": {},
   "outputs": [
    {
     "data": {
      "text/plain": [
       "0       True\n",
       "1       True\n",
       "2       True\n",
       "3       True\n",
       "4      False\n",
       "       ...  \n",
       "345     True\n",
       "346     True\n",
       "347     True\n",
       "348     True\n",
       "349    False\n",
       "Name: genre, Length: 350, dtype: bool"
      ]
     },
     "execution_count": 55,
     "metadata": {},
     "output_type": "execute_result"
    }
   ],
   "source": [
    "books['genre'].isin(['Non Fiction', 'Fiction'])"
   ]
  },
  {
   "cell_type": "code",
   "execution_count": 56,
   "id": "3fe84857",
   "metadata": {},
   "outputs": [
    {
     "data": {
      "text/plain": [
       "0      False\n",
       "1      False\n",
       "2      False\n",
       "3      False\n",
       "4       True\n",
       "       ...  \n",
       "345    False\n",
       "346    False\n",
       "347    False\n",
       "348    False\n",
       "349     True\n",
       "Name: genre, Length: 350, dtype: bool"
      ]
     },
     "execution_count": 56,
     "metadata": {},
     "output_type": "execute_result"
    }
   ],
   "source": [
    "~books['genre'].isin(['Non Fiction', 'Fiction'])"
   ]
  },
  {
   "cell_type": "markdown",
   "id": "dae77bb8",
   "metadata": {},
   "source": [
    "Using the above .isin() code as a filter."
   ]
  },
  {
   "cell_type": "code",
   "execution_count": 57,
   "id": "77a396ab",
   "metadata": {},
   "outputs": [
    {
     "data": {
      "text/html": [
       "<div>\n",
       "<style scoped>\n",
       "    .dataframe tbody tr th:only-of-type {\n",
       "        vertical-align: middle;\n",
       "    }\n",
       "\n",
       "    .dataframe tbody tr th {\n",
       "        vertical-align: top;\n",
       "    }\n",
       "\n",
       "    .dataframe thead th {\n",
       "        text-align: right;\n",
       "    }\n",
       "</style>\n",
       "<table border=\"1\" class=\"dataframe\">\n",
       "  <thead>\n",
       "    <tr style=\"text-align: right;\">\n",
       "      <th></th>\n",
       "      <th>name</th>\n",
       "      <th>author</th>\n",
       "      <th>rating</th>\n",
       "      <th>year</th>\n",
       "      <th>genre</th>\n",
       "    </tr>\n",
       "  </thead>\n",
       "  <tbody>\n",
       "    <tr>\n",
       "      <th>0</th>\n",
       "      <td>10-Day Green Smoothie Cleanse</td>\n",
       "      <td>JJ Smith</td>\n",
       "      <td>4.7</td>\n",
       "      <td>2016</td>\n",
       "      <td>Non Fiction</td>\n",
       "    </tr>\n",
       "    <tr>\n",
       "      <th>1</th>\n",
       "      <td>11/22/63: A Novel</td>\n",
       "      <td>Stephen King</td>\n",
       "      <td>4.6</td>\n",
       "      <td>2011</td>\n",
       "      <td>Fiction</td>\n",
       "    </tr>\n",
       "    <tr>\n",
       "      <th>2</th>\n",
       "      <td>12 Rules for Life: An Antidote to Chaos</td>\n",
       "      <td>Jordan B. Peterson</td>\n",
       "      <td>4.7</td>\n",
       "      <td>2018</td>\n",
       "      <td>Non Fiction</td>\n",
       "    </tr>\n",
       "    <tr>\n",
       "      <th>3</th>\n",
       "      <td>1984 (Signet Classics)</td>\n",
       "      <td>George Orwell</td>\n",
       "      <td>4.7</td>\n",
       "      <td>2017</td>\n",
       "      <td>Fiction</td>\n",
       "    </tr>\n",
       "    <tr>\n",
       "      <th>5</th>\n",
       "      <td>A Dance with Dragons (A Song of Ice and Fire)</td>\n",
       "      <td>George R. R. Martin</td>\n",
       "      <td>4.4</td>\n",
       "      <td>2011</td>\n",
       "      <td>Fiction</td>\n",
       "    </tr>\n",
       "    <tr>\n",
       "      <th>...</th>\n",
       "      <td>...</td>\n",
       "      <td>...</td>\n",
       "      <td>...</td>\n",
       "      <td>...</td>\n",
       "      <td>...</td>\n",
       "    </tr>\n",
       "    <tr>\n",
       "      <th>344</th>\n",
       "      <td>Whose Boat Is This Boat?: Comments That Don't ...</td>\n",
       "      <td>The Staff of The Late Show with</td>\n",
       "      <td>4.6</td>\n",
       "      <td>2018</td>\n",
       "      <td>Non Fiction</td>\n",
       "    </tr>\n",
       "    <tr>\n",
       "      <th>345</th>\n",
       "      <td>Wild: From Lost to Found on the Pacific Crest ...</td>\n",
       "      <td>Cheryl Strayed</td>\n",
       "      <td>4.4</td>\n",
       "      <td>2012</td>\n",
       "      <td>Non Fiction</td>\n",
       "    </tr>\n",
       "    <tr>\n",
       "      <th>346</th>\n",
       "      <td>Winter of the World: Book Two of the Century T...</td>\n",
       "      <td>Ken Follett</td>\n",
       "      <td>4.5</td>\n",
       "      <td>2012</td>\n",
       "      <td>Fiction</td>\n",
       "    </tr>\n",
       "    <tr>\n",
       "      <th>347</th>\n",
       "      <td>Women Food and God: An Unexpected Path to Almo...</td>\n",
       "      <td>Geneen Roth</td>\n",
       "      <td>4.2</td>\n",
       "      <td>2010</td>\n",
       "      <td>Non Fiction</td>\n",
       "    </tr>\n",
       "    <tr>\n",
       "      <th>348</th>\n",
       "      <td>Wonder</td>\n",
       "      <td>R. J. Palacio</td>\n",
       "      <td>4.8</td>\n",
       "      <td>2013</td>\n",
       "      <td>Fiction</td>\n",
       "    </tr>\n",
       "  </tbody>\n",
       "</table>\n",
       "<p>310 rows × 5 columns</p>\n",
       "</div>"
      ],
      "text/plain": [
       "                                                  name  \\\n",
       "0                        10-Day Green Smoothie Cleanse   \n",
       "1                                    11/22/63: A Novel   \n",
       "2              12 Rules for Life: An Antidote to Chaos   \n",
       "3                               1984 (Signet Classics)   \n",
       "5        A Dance with Dragons (A Song of Ice and Fire)   \n",
       "..                                                 ...   \n",
       "344  Whose Boat Is This Boat?: Comments That Don't ...   \n",
       "345  Wild: From Lost to Found on the Pacific Crest ...   \n",
       "346  Winter of the World: Book Two of the Century T...   \n",
       "347  Women Food and God: An Unexpected Path to Almo...   \n",
       "348                                             Wonder   \n",
       "\n",
       "                               author  rating  year        genre  \n",
       "0                            JJ Smith     4.7  2016  Non Fiction  \n",
       "1                        Stephen King     4.6  2011      Fiction  \n",
       "2                  Jordan B. Peterson     4.7  2018  Non Fiction  \n",
       "3                       George Orwell     4.7  2017      Fiction  \n",
       "5                 George R. R. Martin     4.4  2011      Fiction  \n",
       "..                                ...     ...   ...          ...  \n",
       "344  The Staff of The Late Show with\n",
       "     4.6  2018  Non Fiction  \n",
       "345                    Cheryl Strayed     4.4  2012  Non Fiction  \n",
       "346                       Ken Follett     4.5  2012      Fiction  \n",
       "347                       Geneen Roth     4.2  2010  Non Fiction  \n",
       "348                     R. J. Palacio     4.8  2013      Fiction  \n",
       "\n",
       "[310 rows x 5 columns]"
      ]
     },
     "execution_count": 57,
     "metadata": {},
     "output_type": "execute_result"
    }
   ],
   "source": [
    "books[books['genre'].isin(['Non Fiction', 'Fiction'])]"
   ]
  },
  {
   "cell_type": "markdown",
   "id": "13b0dfa1",
   "metadata": {},
   "source": [
    "#### .select_dtypes(type) method\n",
    "Returns columns of specified type."
   ]
  },
  {
   "cell_type": "code",
   "execution_count": 64,
   "id": "aab5c260",
   "metadata": {},
   "outputs": [
    {
     "data": {
      "text/html": [
       "<div>\n",
       "<style scoped>\n",
       "    .dataframe tbody tr th:only-of-type {\n",
       "        vertical-align: middle;\n",
       "    }\n",
       "\n",
       "    .dataframe tbody tr th {\n",
       "        vertical-align: top;\n",
       "    }\n",
       "\n",
       "    .dataframe thead th {\n",
       "        text-align: right;\n",
       "    }\n",
       "</style>\n",
       "<table border=\"1\" class=\"dataframe\">\n",
       "  <thead>\n",
       "    <tr style=\"text-align: right;\">\n",
       "      <th></th>\n",
       "      <th>rating</th>\n",
       "      <th>year</th>\n",
       "    </tr>\n",
       "  </thead>\n",
       "  <tbody>\n",
       "    <tr>\n",
       "      <th>0</th>\n",
       "      <td>4.7</td>\n",
       "      <td>2016</td>\n",
       "    </tr>\n",
       "    <tr>\n",
       "      <th>1</th>\n",
       "      <td>4.6</td>\n",
       "      <td>2011</td>\n",
       "    </tr>\n",
       "    <tr>\n",
       "      <th>2</th>\n",
       "      <td>4.7</td>\n",
       "      <td>2018</td>\n",
       "    </tr>\n",
       "    <tr>\n",
       "      <th>3</th>\n",
       "      <td>4.7</td>\n",
       "      <td>2017</td>\n",
       "    </tr>\n",
       "    <tr>\n",
       "      <th>4</th>\n",
       "      <td>4.8</td>\n",
       "      <td>2019</td>\n",
       "    </tr>\n",
       "    <tr>\n",
       "      <th>...</th>\n",
       "      <td>...</td>\n",
       "      <td>...</td>\n",
       "    </tr>\n",
       "    <tr>\n",
       "      <th>345</th>\n",
       "      <td>4.4</td>\n",
       "      <td>2012</td>\n",
       "    </tr>\n",
       "    <tr>\n",
       "      <th>346</th>\n",
       "      <td>4.5</td>\n",
       "      <td>2012</td>\n",
       "    </tr>\n",
       "    <tr>\n",
       "      <th>347</th>\n",
       "      <td>4.2</td>\n",
       "      <td>2010</td>\n",
       "    </tr>\n",
       "    <tr>\n",
       "      <th>348</th>\n",
       "      <td>4.8</td>\n",
       "      <td>2013</td>\n",
       "    </tr>\n",
       "    <tr>\n",
       "      <th>349</th>\n",
       "      <td>4.9</td>\n",
       "      <td>2019</td>\n",
       "    </tr>\n",
       "  </tbody>\n",
       "</table>\n",
       "<p>350 rows × 2 columns</p>\n",
       "</div>"
      ],
      "text/plain": [
       "     rating  year\n",
       "0       4.7  2016\n",
       "1       4.6  2011\n",
       "2       4.7  2018\n",
       "3       4.7  2017\n",
       "4       4.8  2019\n",
       "..      ...   ...\n",
       "345     4.4  2012\n",
       "346     4.5  2012\n",
       "347     4.2  2010\n",
       "348     4.8  2013\n",
       "349     4.9  2019\n",
       "\n",
       "[350 rows x 2 columns]"
      ]
     },
     "execution_count": 64,
     "metadata": {},
     "output_type": "execute_result"
    }
   ],
   "source": [
    "books.select_dtypes('number')"
   ]
  },
  {
   "cell_type": "markdown",
   "id": "32f8537f",
   "metadata": {},
   "source": [
    "#### .min() and .max() methods"
   ]
  },
  {
   "cell_type": "code",
   "execution_count": 65,
   "id": "aa886394",
   "metadata": {},
   "outputs": [
    {
     "data": {
      "text/plain": [
       "2009"
      ]
     },
     "execution_count": 65,
     "metadata": {},
     "output_type": "execute_result"
    }
   ],
   "source": [
    "books['year'].min()"
   ]
  },
  {
   "cell_type": "markdown",
   "id": "3a0ebee7",
   "metadata": {},
   "source": [
    "#### Boxplot Example"
   ]
  },
  {
   "cell_type": "code",
   "execution_count": 67,
   "id": "9c697559",
   "metadata": {},
   "outputs": [
    {
     "data": {
      "image/png": "[encoded data removed]",
      "text/plain": [
       "<Figure size 640x480 with 1 Axes>"
      ]
     },
     "metadata": {},
     "output_type": "display_data"
    }
   ],
   "source": [
    "sns.boxplot(data=books, x='year',  y='genre');\n",
    "plt.show()"
   ]
  },
  {
   "cell_type": "markdown",
   "id": "68bf0db6",
   "metadata": {},
   "source": [
    "#### .groupby(col) method\n",
    "Returns grouped dataset by specified category summarized by an aggregating function"
   ]
  },
  {
   "cell_type": "code",
   "execution_count": 68,
   "id": "e6f79d80",
   "metadata": {},
   "outputs": [
    {
     "data": {
      "text/html": [
       "<div>\n",
       "<style scoped>\n",
       "    .dataframe tbody tr th:only-of-type {\n",
       "        vertical-align: middle;\n",
       "    }\n",
       "\n",
       "    .dataframe tbody tr th {\n",
       "        vertical-align: top;\n",
       "    }\n",
       "\n",
       "    .dataframe thead th {\n",
       "        text-align: right;\n",
       "    }\n",
       "</style>\n",
       "<table border=\"1\" class=\"dataframe\">\n",
       "  <thead>\n",
       "    <tr style=\"text-align: right;\">\n",
       "      <th></th>\n",
       "      <th>rating</th>\n",
       "      <th>year</th>\n",
       "    </tr>\n",
       "    <tr>\n",
       "      <th>genre</th>\n",
       "      <th></th>\n",
       "      <th></th>\n",
       "    </tr>\n",
       "  </thead>\n",
       "  <tbody>\n",
       "    <tr>\n",
       "      <th>Childrens</th>\n",
       "      <td>4.780000</td>\n",
       "      <td>2015.075000</td>\n",
       "    </tr>\n",
       "    <tr>\n",
       "      <th>Fiction</th>\n",
       "      <td>4.570229</td>\n",
       "      <td>2013.022901</td>\n",
       "    </tr>\n",
       "    <tr>\n",
       "      <th>Non Fiction</th>\n",
       "      <td>4.598324</td>\n",
       "      <td>2013.513966</td>\n",
       "    </tr>\n",
       "  </tbody>\n",
       "</table>\n",
       "</div>"
      ],
      "text/plain": [
       "               rating         year\n",
       "genre                             \n",
       "Childrens    4.780000  2015.075000\n",
       "Fiction      4.570229  2013.022901\n",
       "Non Fiction  4.598324  2013.513966"
      ]
     },
     "execution_count": 68,
     "metadata": {},
     "output_type": "execute_result"
    }
   ],
   "source": [
    "books.groupby('genre').mean()"
   ]
  },
  {
   "cell_type": "markdown",
   "id": "31016369",
   "metadata": {},
   "source": [
    "Aggregating Functions of note to be used with .groupby:\n",
    "* `.mean()`\n",
    "* `.sum()`\n",
    "* `.count()`\n",
    "* `.min()`\n",
    "* `.max()`\n",
    "* `.var()`\n",
    "* `.std()`"
   ]
  },
  {
   "cell_type": "markdown",
   "id": "5c161a5e",
   "metadata": {},
   "source": [
    "#### .agg() method\n",
    "Applies aggregating function accross the DataFrame"
   ]
  },
  {
   "cell_type": "code",
   "execution_count": 69,
   "id": "025b968b",
   "metadata": {},
   "outputs": [
    {
     "name": "stderr",
     "output_type": "stream",
     "text": [
      "C:\\Users\\James\\AppData\\Local\\Temp\\ipykernel_1876\\2787969173.py:1: FutureWarning: ['name', 'author', 'genre'] did not aggregate successfully. If any error is raised this will raise in a future version of pandas. Drop these columns/ops to avoid this warning.\n",
      "  books.agg(['mean','std'])\n"
     ]
    },
    {
     "data": {
      "text/html": [
       "<div>\n",
       "<style scoped>\n",
       "    .dataframe tbody tr th:only-of-type {\n",
       "        vertical-align: middle;\n",
       "    }\n",
       "\n",
       "    .dataframe tbody tr th {\n",
       "        vertical-align: top;\n",
       "    }\n",
       "\n",
       "    .dataframe thead th {\n",
       "        text-align: right;\n",
       "    }\n",
       "</style>\n",
       "<table border=\"1\" class=\"dataframe\">\n",
       "  <thead>\n",
       "    <tr style=\"text-align: right;\">\n",
       "      <th></th>\n",
       "      <th>rating</th>\n",
       "      <th>year</th>\n",
       "    </tr>\n",
       "  </thead>\n",
       "  <tbody>\n",
       "    <tr>\n",
       "      <th>mean</th>\n",
       "      <td>4.608571</td>\n",
       "      <td>2013.508571</td>\n",
       "    </tr>\n",
       "    <tr>\n",
       "      <th>std</th>\n",
       "      <td>0.226941</td>\n",
       "      <td>3.284711</td>\n",
       "    </tr>\n",
       "  </tbody>\n",
       "</table>\n",
       "</div>"
      ],
      "text/plain": [
       "        rating         year\n",
       "mean  4.608571  2013.508571\n",
       "std   0.226941     3.284711"
      ]
     },
     "execution_count": 69,
     "metadata": {},
     "output_type": "execute_result"
    }
   ],
   "source": [
    "books.agg(['mean','std'])"
   ]
  },
  {
   "cell_type": "markdown",
   "id": "eb502c8a",
   "metadata": {},
   "source": [
    "We can specify which aggregating function to apply to each column by passing an object."
   ]
  },
  {
   "cell_type": "code",
   "execution_count": 70,
   "id": "57a5b667",
   "metadata": {},
   "outputs": [
    {
     "data": {
      "text/html": [
       "<div>\n",
       "<style scoped>\n",
       "    .dataframe tbody tr th:only-of-type {\n",
       "        vertical-align: middle;\n",
       "    }\n",
       "\n",
       "    .dataframe tbody tr th {\n",
       "        vertical-align: top;\n",
       "    }\n",
       "\n",
       "    .dataframe thead th {\n",
       "        text-align: right;\n",
       "    }\n",
       "</style>\n",
       "<table border=\"1\" class=\"dataframe\">\n",
       "  <thead>\n",
       "    <tr style=\"text-align: right;\">\n",
       "      <th></th>\n",
       "      <th>rating</th>\n",
       "      <th>year</th>\n",
       "    </tr>\n",
       "  </thead>\n",
       "  <tbody>\n",
       "    <tr>\n",
       "      <th>mean</th>\n",
       "      <td>4.608571</td>\n",
       "      <td>NaN</td>\n",
       "    </tr>\n",
       "    <tr>\n",
       "      <th>std</th>\n",
       "      <td>0.226941</td>\n",
       "      <td>NaN</td>\n",
       "    </tr>\n",
       "    <tr>\n",
       "      <th>median</th>\n",
       "      <td>NaN</td>\n",
       "      <td>2013.0</td>\n",
       "    </tr>\n",
       "  </tbody>\n",
       "</table>\n",
       "</div>"
      ],
      "text/plain": [
       "          rating    year\n",
       "mean    4.608571     NaN\n",
       "std     0.226941     NaN\n",
       "median       NaN  2013.0"
      ]
     },
     "execution_count": 70,
     "metadata": {},
     "output_type": "execute_result"
    }
   ],
   "source": [
    "books.agg({\n",
    "    'rating': ['mean', 'std'],\n",
    "    'year': ['median']\n",
    "})"
   ]
  },
  {
   "cell_type": "markdown",
   "id": "aa9b2849",
   "metadata": {},
   "source": [
    "We can assign and display aggregating functions to particular columns when using `groupby` as follows:"
   ]
  },
  {
   "cell_type": "code",
   "execution_count": 71,
   "id": "226dff6e",
   "metadata": {},
   "outputs": [
    {
     "data": {
      "text/html": [
       "<div>\n",
       "<style scoped>\n",
       "    .dataframe tbody tr th:only-of-type {\n",
       "        vertical-align: middle;\n",
       "    }\n",
       "\n",
       "    .dataframe tbody tr th {\n",
       "        vertical-align: top;\n",
       "    }\n",
       "\n",
       "    .dataframe thead th {\n",
       "        text-align: right;\n",
       "    }\n",
       "</style>\n",
       "<table border=\"1\" class=\"dataframe\">\n",
       "  <thead>\n",
       "    <tr style=\"text-align: right;\">\n",
       "      <th></th>\n",
       "      <th>mean_rating</th>\n",
       "      <th>std_rating</th>\n",
       "      <th>median_year</th>\n",
       "    </tr>\n",
       "    <tr>\n",
       "      <th>genre</th>\n",
       "      <th></th>\n",
       "      <th></th>\n",
       "      <th></th>\n",
       "    </tr>\n",
       "  </thead>\n",
       "  <tbody>\n",
       "    <tr>\n",
       "      <th>Childrens</th>\n",
       "      <td>4.780000</td>\n",
       "      <td>0.122370</td>\n",
       "      <td>2015.0</td>\n",
       "    </tr>\n",
       "    <tr>\n",
       "      <th>Fiction</th>\n",
       "      <td>4.570229</td>\n",
       "      <td>0.281123</td>\n",
       "      <td>2013.0</td>\n",
       "    </tr>\n",
       "    <tr>\n",
       "      <th>Non Fiction</th>\n",
       "      <td>4.598324</td>\n",
       "      <td>0.179411</td>\n",
       "      <td>2013.0</td>\n",
       "    </tr>\n",
       "  </tbody>\n",
       "</table>\n",
       "</div>"
      ],
      "text/plain": [
       "             mean_rating  std_rating  median_year\n",
       "genre                                            \n",
       "Childrens       4.780000    0.122370       2015.0\n",
       "Fiction         4.570229    0.281123       2013.0\n",
       "Non Fiction     4.598324    0.179411       2013.0"
      ]
     },
     "execution_count": 71,
     "metadata": {},
     "output_type": "execute_result"
    }
   ],
   "source": [
    "books.groupby('genre').agg(\n",
    "    mean_rating=('rating', 'mean'),\n",
    "    std_rating=('rating', 'std'),\n",
    "    median_year=('year', 'median')\n",
    ")"
   ]
  },
  {
   "cell_type": "markdown",
   "id": "b76c7cc3",
   "metadata": {},
   "source": [
    "#### Barplot Example"
   ]
  },
  {
   "cell_type": "code",
   "execution_count": null,
   "id": "b758417b",
   "metadata": {},
   "outputs": [],
   "source": []
  }
 ],
 "metadata": {
  "kernelspec": {
   "display_name": "Python 3 (ipykernel)",
   "language": "python",
   "name": "python3"
  },
  "language_info": {
   "codemirror_mode": {
    "name": "ipython",
    "version": 3
   },
   "file_extension": ".py",
   "mimetype": "text/x-python",
   "name": "python",
   "nbconvert_exporter": "python",
   "pygments_lexer": "ipython3",
   "version": "3.9.13"
  }
 },
 "nbformat": 4,
 "nbformat_minor": 5
}
