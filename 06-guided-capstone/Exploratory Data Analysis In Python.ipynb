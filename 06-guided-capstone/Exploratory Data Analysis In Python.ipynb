{
 "cells": [
  {
   "cell_type": "markdown",
   "id": "fada4119",
   "metadata": {},
   "source": [
    "## Exploratory Data Analysis"
   ]
  },
  {
   "cell_type": "code",
   "execution_count": 50,
   "id": "74c87f29",
   "metadata": {},
   "outputs": [],
   "source": [
    "import pandas as pd\n",
    "import numpy as np"
   ]
  },
  {
   "cell_type": "code",
   "execution_count": 28,
   "id": "e6a4711c",
   "metadata": {},
   "outputs": [
    {
     "data": {
      "text/html": [
       "<div>\n",
       "<style scoped>\n",
       "    .dataframe tbody tr th:only-of-type {\n",
       "        vertical-align: middle;\n",
       "    }\n",
       "\n",
       "    .dataframe tbody tr th {\n",
       "        vertical-align: top;\n",
       "    }\n",
       "\n",
       "    .dataframe thead th {\n",
       "        text-align: right;\n",
       "    }\n",
       "</style>\n",
       "<table border=\"1\" class=\"dataframe\">\n",
       "  <thead>\n",
       "    <tr style=\"text-align: right;\">\n",
       "      <th></th>\n",
       "      <th>name</th>\n",
       "      <th>author</th>\n",
       "      <th>rating</th>\n",
       "      <th>year</th>\n",
       "      <th>genre</th>\n",
       "    </tr>\n",
       "  </thead>\n",
       "  <tbody>\n",
       "    <tr>\n",
       "      <th>0</th>\n",
       "      <td>10-Day Green Smoothie Cleanse</td>\n",
       "      <td>JJ Smith</td>\n",
       "      <td>4.7</td>\n",
       "      <td>2016</td>\n",
       "      <td>Non Fiction</td>\n",
       "    </tr>\n",
       "    <tr>\n",
       "      <th>1</th>\n",
       "      <td>11/22/63: A Novel</td>\n",
       "      <td>Stephen King</td>\n",
       "      <td>4.6</td>\n",
       "      <td>2011</td>\n",
       "      <td>Fiction</td>\n",
       "    </tr>\n",
       "    <tr>\n",
       "      <th>2</th>\n",
       "      <td>12 Rules for Life: An Antidote to Chaos</td>\n",
       "      <td>Jordan B. Peterson</td>\n",
       "      <td>4.7</td>\n",
       "      <td>2018</td>\n",
       "      <td>Non Fiction</td>\n",
       "    </tr>\n",
       "    <tr>\n",
       "      <th>3</th>\n",
       "      <td>1984 (Signet Classics)</td>\n",
       "      <td>George Orwell</td>\n",
       "      <td>4.7</td>\n",
       "      <td>2017</td>\n",
       "      <td>Fiction</td>\n",
       "    </tr>\n",
       "    <tr>\n",
       "      <th>4</th>\n",
       "      <td>5,000 Awesome Facts (About Everything!) (Natio...</td>\n",
       "      <td>National Geographic Kids</td>\n",
       "      <td>4.8</td>\n",
       "      <td>2019</td>\n",
       "      <td>Childrens</td>\n",
       "    </tr>\n",
       "  </tbody>\n",
       "</table>\n",
       "</div>"
      ],
      "text/plain": [
       "                                                name  \\\n",
       "0                      10-Day Green Smoothie Cleanse   \n",
       "1                                  11/22/63: A Novel   \n",
       "2            12 Rules for Life: An Antidote to Chaos   \n",
       "3                             1984 (Signet Classics)   \n",
       "4  5,000 Awesome Facts (About Everything!) (Natio...   \n",
       "\n",
       "                     author  rating  year        genre  \n",
       "0                  JJ Smith     4.7  2016  Non Fiction  \n",
       "1              Stephen King     4.6  2011      Fiction  \n",
       "2        Jordan B. Peterson     4.7  2018  Non Fiction  \n",
       "3             George Orwell     4.7  2017      Fiction  \n",
       "4  National Geographic Kids     4.8  2019    Childrens  "
      ]
     },
     "execution_count": 28,
     "metadata": {},
     "output_type": "execute_result"
    }
   ],
   "source": [
    "salaries = pd.read_csv('ds_salaries_clean.csv')\n",
    "books = pd.read_csv('clean_books.csv')\n",
    "books.head()"
   ]
  },
  {
   "cell_type": "markdown",
   "id": "90d179e8",
   "metadata": {},
   "source": [
    "####  .info() method\n",
    "Returns a summary of column non-missing values and data types from the DataFrame"
   ]
  },
  {
   "cell_type": "code",
   "execution_count": 4,
   "id": "dfe6f55e",
   "metadata": {},
   "outputs": [
    {
     "name": "stdout",
     "output_type": "stream",
     "text": [
      "<class 'pandas.core.frame.DataFrame'>\n",
      "RangeIndex: 350 entries, 0 to 349\n",
      "Data columns (total 5 columns):\n",
      " #   Column  Non-Null Count  Dtype  \n",
      "---  ------  --------------  -----  \n",
      " 0   name    350 non-null    object \n",
      " 1   author  350 non-null    object \n",
      " 2   rating  350 non-null    float64\n",
      " 3   year    350 non-null    int64  \n",
      " 4   genre   350 non-null    object \n",
      "dtypes: float64(1), int64(1), object(3)\n",
      "memory usage: 13.8+ KB\n"
     ]
    }
   ],
   "source": [
    "books.info()"
   ]
  },
  {
   "cell_type": "markdown",
   "id": "9fd28a0c",
   "metadata": {},
   "source": [
    "#### .describe() method\n",
    "Returns summary statistics (count, mean, standard deviation, min, max, and quartile values) of each numerical column in DataFrame"
   ]
  },
  {
   "cell_type": "code",
   "execution_count": 5,
   "id": "52e4a8aa",
   "metadata": {},
   "outputs": [
    {
     "data": {
      "text/html": [
       "<div>\n",
       "<style scoped>\n",
       "    .dataframe tbody tr th:only-of-type {\n",
       "        vertical-align: middle;\n",
       "    }\n",
       "\n",
       "    .dataframe tbody tr th {\n",
       "        vertical-align: top;\n",
       "    }\n",
       "\n",
       "    .dataframe thead th {\n",
       "        text-align: right;\n",
       "    }\n",
       "</style>\n",
       "<table border=\"1\" class=\"dataframe\">\n",
       "  <thead>\n",
       "    <tr style=\"text-align: right;\">\n",
       "      <th></th>\n",
       "      <th>rating</th>\n",
       "      <th>year</th>\n",
       "    </tr>\n",
       "  </thead>\n",
       "  <tbody>\n",
       "    <tr>\n",
       "      <th>count</th>\n",
       "      <td>350.000000</td>\n",
       "      <td>350.000000</td>\n",
       "    </tr>\n",
       "    <tr>\n",
       "      <th>mean</th>\n",
       "      <td>4.608571</td>\n",
       "      <td>2013.508571</td>\n",
       "    </tr>\n",
       "    <tr>\n",
       "      <th>std</th>\n",
       "      <td>0.226941</td>\n",
       "      <td>3.284711</td>\n",
       "    </tr>\n",
       "    <tr>\n",
       "      <th>min</th>\n",
       "      <td>3.300000</td>\n",
       "      <td>2009.000000</td>\n",
       "    </tr>\n",
       "    <tr>\n",
       "      <th>25%</th>\n",
       "      <td>4.500000</td>\n",
       "      <td>2010.000000</td>\n",
       "    </tr>\n",
       "    <tr>\n",
       "      <th>50%</th>\n",
       "      <td>4.600000</td>\n",
       "      <td>2013.000000</td>\n",
       "    </tr>\n",
       "    <tr>\n",
       "      <th>75%</th>\n",
       "      <td>4.800000</td>\n",
       "      <td>2016.000000</td>\n",
       "    </tr>\n",
       "    <tr>\n",
       "      <th>max</th>\n",
       "      <td>4.900000</td>\n",
       "      <td>2019.000000</td>\n",
       "    </tr>\n",
       "  </tbody>\n",
       "</table>\n",
       "</div>"
      ],
      "text/plain": [
       "           rating         year\n",
       "count  350.000000   350.000000\n",
       "mean     4.608571  2013.508571\n",
       "std      0.226941     3.284711\n",
       "min      3.300000  2009.000000\n",
       "25%      4.500000  2010.000000\n",
       "50%      4.600000  2013.000000\n",
       "75%      4.800000  2016.000000\n",
       "max      4.900000  2019.000000"
      ]
     },
     "execution_count": 5,
     "metadata": {},
     "output_type": "execute_result"
    }
   ],
   "source": [
    "books.describe()"
   ]
  },
  {
   "cell_type": "markdown",
   "id": "109e163d",
   "metadata": {},
   "source": [
    "#### .value_counts(col) method\n",
    "\n",
    "returns a count of the values in the specified column"
   ]
  },
  {
   "cell_type": "code",
   "execution_count": 6,
   "id": "69b91617",
   "metadata": {},
   "outputs": [
    {
     "data": {
      "text/plain": [
       "genre\n",
       "Non Fiction    179\n",
       "Fiction        131\n",
       "Childrens       40\n",
       "dtype: int64"
      ]
     },
     "execution_count": 6,
     "metadata": {},
     "output_type": "execute_result"
    }
   ],
   "source": [
    "books.value_counts('genre')"
   ]
  },
  {
   "cell_type": "markdown",
   "id": "5bcbbac9",
   "metadata": {},
   "source": [
    "#### Seaborn\n",
    "Python package for data visualization"
   ]
  },
  {
   "cell_type": "code",
   "execution_count": 7,
   "id": "89b3097b",
   "metadata": {},
   "outputs": [],
   "source": [
    "import seaborn as sns\n",
    "import matplotlib.pyplot as plt"
   ]
  },
  {
   "cell_type": "markdown",
   "id": "d03f3e6f",
   "metadata": {},
   "source": [
    "#### Histograms with Seaborn"
   ]
  },
  {
   "cell_type": "code",
   "execution_count": 8,
   "id": "8a0c457b",
   "metadata": {},
   "outputs": [
    {
     "data": {
      "image/png": "[encoded data removed]",
      "text/plain": [
       "<Figure size 640x480 with 1 Axes>"
      ]
     },
     "metadata": {},
     "output_type": "display_data"
    }
   ],
   "source": [
    "sns.histplot(data=books, x='rating', binwidth=.1)\n",
    "plt.show()"
   ]
  },
  {
   "cell_type": "markdown",
   "id": "c09164f8",
   "metadata": {},
   "source": [
    "#### Updating Data Types with .astype(type)"
   ]
  },
  {
   "cell_type": "code",
   "execution_count": 9,
   "id": "cece2c19",
   "metadata": {},
   "outputs": [
    {
     "name": "stdout",
     "output_type": "stream",
     "text": [
      "<class 'pandas.core.series.Series'>\n",
      "RangeIndex: 350 entries, 0 to 349\n",
      "Series name: year\n",
      "Non-Null Count  Dtype  \n",
      "--------------  -----  \n",
      "350 non-null    float64\n",
      "dtypes: float64(1)\n",
      "memory usage: 2.9 KB\n"
     ]
    }
   ],
   "source": [
    "books['year'] = books['year'].astype(float)\n",
    "books.year.info()"
   ]
  },
  {
   "cell_type": "code",
   "execution_count": 10,
   "id": "b963e540",
   "metadata": {},
   "outputs": [],
   "source": [
    "books['year'] = books['year'].astype(int)"
   ]
  },
  {
   "cell_type": "markdown",
   "id": "b7def3b0",
   "metadata": {},
   "source": [
    "Python Data Types:\n",
    "* str\n",
    "* int\n",
    "* float\n",
    "* dict\n",
    "* list\n",
    "* bool"
   ]
  },
  {
   "cell_type": "markdown",
   "id": "1b86993d",
   "metadata": {},
   "source": [
    "#### .isin(list)\n",
    "Return boolean series of same dimension as DataFrame with whether value in list is in the DataFrame"
   ]
  },
  {
   "cell_type": "code",
   "execution_count": 11,
   "id": "3a7d6d68",
   "metadata": {},
   "outputs": [
    {
     "data": {
      "text/plain": [
       "0       True\n",
       "1       True\n",
       "2       True\n",
       "3       True\n",
       "4      False\n",
       "       ...  \n",
       "345     True\n",
       "346     True\n",
       "347     True\n",
       "348     True\n",
       "349    False\n",
       "Name: genre, Length: 350, dtype: bool"
      ]
     },
     "execution_count": 11,
     "metadata": {},
     "output_type": "execute_result"
    }
   ],
   "source": [
    "books['genre'].isin(['Non Fiction', 'Fiction'])"
   ]
  },
  {
   "cell_type": "code",
   "execution_count": 12,
   "id": "f698c955",
   "metadata": {},
   "outputs": [
    {
     "data": {
      "text/plain": [
       "0      False\n",
       "1      False\n",
       "2      False\n",
       "3      False\n",
       "4       True\n",
       "       ...  \n",
       "345    False\n",
       "346    False\n",
       "347    False\n",
       "348    False\n",
       "349     True\n",
       "Name: genre, Length: 350, dtype: bool"
      ]
     },
     "execution_count": 12,
     "metadata": {},
     "output_type": "execute_result"
    }
   ],
   "source": [
    "~books['genre'].isin(['Non Fiction', 'Fiction'])"
   ]
  },
  {
   "cell_type": "markdown",
   "id": "1f7b74c9",
   "metadata": {},
   "source": [
    "Using the above .isin() code as a filter."
   ]
  },
  {
   "cell_type": "code",
   "execution_count": 13,
   "id": "70143599",
   "metadata": {},
   "outputs": [
    {
     "data": {
      "text/html": [
       "<div>\n",
       "<style scoped>\n",
       "    .dataframe tbody tr th:only-of-type {\n",
       "        vertical-align: middle;\n",
       "    }\n",
       "\n",
       "    .dataframe tbody tr th {\n",
       "        vertical-align: top;\n",
       "    }\n",
       "\n",
       "    .dataframe thead th {\n",
       "        text-align: right;\n",
       "    }\n",
       "</style>\n",
       "<table border=\"1\" class=\"dataframe\">\n",
       "  <thead>\n",
       "    <tr style=\"text-align: right;\">\n",
       "      <th></th>\n",
       "      <th>name</th>\n",
       "      <th>author</th>\n",
       "      <th>rating</th>\n",
       "      <th>year</th>\n",
       "      <th>genre</th>\n",
       "    </tr>\n",
       "  </thead>\n",
       "  <tbody>\n",
       "    <tr>\n",
       "      <th>0</th>\n",
       "      <td>10-Day Green Smoothie Cleanse</td>\n",
       "      <td>JJ Smith</td>\n",
       "      <td>4.7</td>\n",
       "      <td>2016</td>\n",
       "      <td>Non Fiction</td>\n",
       "    </tr>\n",
       "    <tr>\n",
       "      <th>1</th>\n",
       "      <td>11/22/63: A Novel</td>\n",
       "      <td>Stephen King</td>\n",
       "      <td>4.6</td>\n",
       "      <td>2011</td>\n",
       "      <td>Fiction</td>\n",
       "    </tr>\n",
       "    <tr>\n",
       "      <th>2</th>\n",
       "      <td>12 Rules for Life: An Antidote to Chaos</td>\n",
       "      <td>Jordan B. Peterson</td>\n",
       "      <td>4.7</td>\n",
       "      <td>2018</td>\n",
       "      <td>Non Fiction</td>\n",
       "    </tr>\n",
       "    <tr>\n",
       "      <th>3</th>\n",
       "      <td>1984 (Signet Classics)</td>\n",
       "      <td>George Orwell</td>\n",
       "      <td>4.7</td>\n",
       "      <td>2017</td>\n",
       "      <td>Fiction</td>\n",
       "    </tr>\n",
       "    <tr>\n",
       "      <th>5</th>\n",
       "      <td>A Dance with Dragons (A Song of Ice and Fire)</td>\n",
       "      <td>George R. R. Martin</td>\n",
       "      <td>4.4</td>\n",
       "      <td>2011</td>\n",
       "      <td>Fiction</td>\n",
       "    </tr>\n",
       "    <tr>\n",
       "      <th>...</th>\n",
       "      <td>...</td>\n",
       "      <td>...</td>\n",
       "      <td>...</td>\n",
       "      <td>...</td>\n",
       "      <td>...</td>\n",
       "    </tr>\n",
       "    <tr>\n",
       "      <th>344</th>\n",
       "      <td>Whose Boat Is This Boat?: Comments That Don't ...</td>\n",
       "      <td>The Staff of The Late Show with</td>\n",
       "      <td>4.6</td>\n",
       "      <td>2018</td>\n",
       "      <td>Non Fiction</td>\n",
       "    </tr>\n",
       "    <tr>\n",
       "      <th>345</th>\n",
       "      <td>Wild: From Lost to Found on the Pacific Crest ...</td>\n",
       "      <td>Cheryl Strayed</td>\n",
       "      <td>4.4</td>\n",
       "      <td>2012</td>\n",
       "      <td>Non Fiction</td>\n",
       "    </tr>\n",
       "    <tr>\n",
       "      <th>346</th>\n",
       "      <td>Winter of the World: Book Two of the Century T...</td>\n",
       "      <td>Ken Follett</td>\n",
       "      <td>4.5</td>\n",
       "      <td>2012</td>\n",
       "      <td>Fiction</td>\n",
       "    </tr>\n",
       "    <tr>\n",
       "      <th>347</th>\n",
       "      <td>Women Food and God: An Unexpected Path to Almo...</td>\n",
       "      <td>Geneen Roth</td>\n",
       "      <td>4.2</td>\n",
       "      <td>2010</td>\n",
       "      <td>Non Fiction</td>\n",
       "    </tr>\n",
       "    <tr>\n",
       "      <th>348</th>\n",
       "      <td>Wonder</td>\n",
       "      <td>R. J. Palacio</td>\n",
       "      <td>4.8</td>\n",
       "      <td>2013</td>\n",
       "      <td>Fiction</td>\n",
       "    </tr>\n",
       "  </tbody>\n",
       "</table>\n",
       "<p>310 rows × 5 columns</p>\n",
       "</div>"
      ],
      "text/plain": [
       "                                                  name  \\\n",
       "0                        10-Day Green Smoothie Cleanse   \n",
       "1                                    11/22/63: A Novel   \n",
       "2              12 Rules for Life: An Antidote to Chaos   \n",
       "3                               1984 (Signet Classics)   \n",
       "5        A Dance with Dragons (A Song of Ice and Fire)   \n",
       "..                                                 ...   \n",
       "344  Whose Boat Is This Boat?: Comments That Don't ...   \n",
       "345  Wild: From Lost to Found on the Pacific Crest ...   \n",
       "346  Winter of the World: Book Two of the Century T...   \n",
       "347  Women Food and God: An Unexpected Path to Almo...   \n",
       "348                                             Wonder   \n",
       "\n",
       "                               author  rating  year        genre  \n",
       "0                            JJ Smith     4.7  2016  Non Fiction  \n",
       "1                        Stephen King     4.6  2011      Fiction  \n",
       "2                  Jordan B. Peterson     4.7  2018  Non Fiction  \n",
       "3                       George Orwell     4.7  2017      Fiction  \n",
       "5                 George R. R. Martin     4.4  2011      Fiction  \n",
       "..                                ...     ...   ...          ...  \n",
       "344  The Staff of The Late Show with\n",
       "     4.6  2018  Non Fiction  \n",
       "345                    Cheryl Strayed     4.4  2012  Non Fiction  \n",
       "346                       Ken Follett     4.5  2012      Fiction  \n",
       "347                       Geneen Roth     4.2  2010  Non Fiction  \n",
       "348                     R. J. Palacio     4.8  2013      Fiction  \n",
       "\n",
       "[310 rows x 5 columns]"
      ]
     },
     "execution_count": 13,
     "metadata": {},
     "output_type": "execute_result"
    }
   ],
   "source": [
    "books[books['genre'].isin(['Non Fiction', 'Fiction'])]"
   ]
  },
  {
   "cell_type": "markdown",
   "id": "7922d9f4",
   "metadata": {},
   "source": [
    "#### .select_dtypes(type) method\n",
    "Returns columns of specified type."
   ]
  },
  {
   "cell_type": "code",
   "execution_count": 14,
   "id": "88463b99",
   "metadata": {},
   "outputs": [
    {
     "data": {
      "text/html": [
       "<div>\n",
       "<style scoped>\n",
       "    .dataframe tbody tr th:only-of-type {\n",
       "        vertical-align: middle;\n",
       "    }\n",
       "\n",
       "    .dataframe tbody tr th {\n",
       "        vertical-align: top;\n",
       "    }\n",
       "\n",
       "    .dataframe thead th {\n",
       "        text-align: right;\n",
       "    }\n",
       "</style>\n",
       "<table border=\"1\" class=\"dataframe\">\n",
       "  <thead>\n",
       "    <tr style=\"text-align: right;\">\n",
       "      <th></th>\n",
       "      <th>rating</th>\n",
       "      <th>year</th>\n",
       "    </tr>\n",
       "  </thead>\n",
       "  <tbody>\n",
       "    <tr>\n",
       "      <th>0</th>\n",
       "      <td>4.7</td>\n",
       "      <td>2016</td>\n",
       "    </tr>\n",
       "    <tr>\n",
       "      <th>1</th>\n",
       "      <td>4.6</td>\n",
       "      <td>2011</td>\n",
       "    </tr>\n",
       "    <tr>\n",
       "      <th>2</th>\n",
       "      <td>4.7</td>\n",
       "      <td>2018</td>\n",
       "    </tr>\n",
       "    <tr>\n",
       "      <th>3</th>\n",
       "      <td>4.7</td>\n",
       "      <td>2017</td>\n",
       "    </tr>\n",
       "    <tr>\n",
       "      <th>4</th>\n",
       "      <td>4.8</td>\n",
       "      <td>2019</td>\n",
       "    </tr>\n",
       "    <tr>\n",
       "      <th>...</th>\n",
       "      <td>...</td>\n",
       "      <td>...</td>\n",
       "    </tr>\n",
       "    <tr>\n",
       "      <th>345</th>\n",
       "      <td>4.4</td>\n",
       "      <td>2012</td>\n",
       "    </tr>\n",
       "    <tr>\n",
       "      <th>346</th>\n",
       "      <td>4.5</td>\n",
       "      <td>2012</td>\n",
       "    </tr>\n",
       "    <tr>\n",
       "      <th>347</th>\n",
       "      <td>4.2</td>\n",
       "      <td>2010</td>\n",
       "    </tr>\n",
       "    <tr>\n",
       "      <th>348</th>\n",
       "      <td>4.8</td>\n",
       "      <td>2013</td>\n",
       "    </tr>\n",
       "    <tr>\n",
       "      <th>349</th>\n",
       "      <td>4.9</td>\n",
       "      <td>2019</td>\n",
       "    </tr>\n",
       "  </tbody>\n",
       "</table>\n",
       "<p>350 rows × 2 columns</p>\n",
       "</div>"
      ],
      "text/plain": [
       "     rating  year\n",
       "0       4.7  2016\n",
       "1       4.6  2011\n",
       "2       4.7  2018\n",
       "3       4.7  2017\n",
       "4       4.8  2019\n",
       "..      ...   ...\n",
       "345     4.4  2012\n",
       "346     4.5  2012\n",
       "347     4.2  2010\n",
       "348     4.8  2013\n",
       "349     4.9  2019\n",
       "\n",
       "[350 rows x 2 columns]"
      ]
     },
     "execution_count": 14,
     "metadata": {},
     "output_type": "execute_result"
    }
   ],
   "source": [
    "books.select_dtypes('number')"
   ]
  },
  {
   "cell_type": "markdown",
   "id": "fc07d016",
   "metadata": {},
   "source": [
    "#### .min() and .max() methods"
   ]
  },
  {
   "cell_type": "code",
   "execution_count": 15,
   "id": "15a638e4",
   "metadata": {},
   "outputs": [
    {
     "data": {
      "text/plain": [
       "2009"
      ]
     },
     "execution_count": 15,
     "metadata": {},
     "output_type": "execute_result"
    }
   ],
   "source": [
    "books['year'].min()"
   ]
  },
  {
   "cell_type": "markdown",
   "id": "3c9b6ce9",
   "metadata": {},
   "source": [
    "#### Boxplot Example"
   ]
  },
  {
   "cell_type": "code",
   "execution_count": 16,
   "id": "d9a1674a",
   "metadata": {},
   "outputs": [
    {
     "data": {
      "image/png": "[encoded data removed]",
      "text/plain": [
       "<Figure size 640x480 with 1 Axes>"
      ]
     },
     "metadata": {},
     "output_type": "display_data"
    }
   ],
   "source": [
    "sns.boxplot(data=books, x='year',  y='genre');\n",
    "plt.show()"
   ]
  },
  {
   "cell_type": "markdown",
   "id": "fec31051",
   "metadata": {},
   "source": [
    "#### .groupby(col) method\n",
    "Returns grouped dataset by specified category summarized by an aggregating function"
   ]
  },
  {
   "cell_type": "code",
   "execution_count": 22,
   "id": "6feeee2b",
   "metadata": {},
   "outputs": [
    {
     "data": {
      "text/html": [
       "<div>\n",
       "<style scoped>\n",
       "    .dataframe tbody tr th:only-of-type {\n",
       "        vertical-align: middle;\n",
       "    }\n",
       "\n",
       "    .dataframe tbody tr th {\n",
       "        vertical-align: top;\n",
       "    }\n",
       "\n",
       "    .dataframe thead th {\n",
       "        text-align: right;\n",
       "    }\n",
       "</style>\n",
       "<table border=\"1\" class=\"dataframe\">\n",
       "  <thead>\n",
       "    <tr style=\"text-align: right;\">\n",
       "      <th></th>\n",
       "      <th>rating</th>\n",
       "      <th>year</th>\n",
       "    </tr>\n",
       "    <tr>\n",
       "      <th>genre</th>\n",
       "      <th></th>\n",
       "      <th></th>\n",
       "    </tr>\n",
       "  </thead>\n",
       "  <tbody>\n",
       "    <tr>\n",
       "      <th>Childrens</th>\n",
       "      <td>4.780000</td>\n",
       "      <td>2015.075000</td>\n",
       "    </tr>\n",
       "    <tr>\n",
       "      <th>Fiction</th>\n",
       "      <td>4.570229</td>\n",
       "      <td>2013.022901</td>\n",
       "    </tr>\n",
       "    <tr>\n",
       "      <th>Non Fiction</th>\n",
       "      <td>4.598324</td>\n",
       "      <td>2013.513966</td>\n",
       "    </tr>\n",
       "  </tbody>\n",
       "</table>\n",
       "</div>"
      ],
      "text/plain": [
       "               rating         year\n",
       "genre                             \n",
       "Childrens    4.780000  2015.075000\n",
       "Fiction      4.570229  2013.022901\n",
       "Non Fiction  4.598324  2013.513966"
      ]
     },
     "execution_count": 22,
     "metadata": {},
     "output_type": "execute_result"
    }
   ],
   "source": [
    "books.groupby('genre').mean()"
   ]
  },
  {
   "cell_type": "markdown",
   "id": "4d9a5f6e",
   "metadata": {},
   "source": [
    "Aggregating Functions of note to be used with .groupby:\n",
    "* `.mean()`\n",
    "* `.sum()`\n",
    "* `.count()`\n",
    "* `.min()`\n",
    "* `.max()`\n",
    "* `.var()`\n",
    "* `.std()`"
   ]
  },
  {
   "cell_type": "markdown",
   "id": "7e568f72",
   "metadata": {},
   "source": [
    "#### .agg() method\n",
    "Applies aggregating function accross the DataFrame"
   ]
  },
  {
   "cell_type": "code",
   "execution_count": 23,
   "id": "36d40492",
   "metadata": {},
   "outputs": [
    {
     "name": "stderr",
     "output_type": "stream",
     "text": [
      "C:\\Users\\James\\AppData\\Local\\Temp\\ipykernel_25240\\2787969173.py:1: FutureWarning: ['name', 'author', 'genre'] did not aggregate successfully. If any error is raised this will raise in a future version of pandas. Drop these columns/ops to avoid this warning.\n",
      "  books.agg(['mean','std'])\n"
     ]
    },
    {
     "data": {
      "text/html": [
       "<div>\n",
       "<style scoped>\n",
       "    .dataframe tbody tr th:only-of-type {\n",
       "        vertical-align: middle;\n",
       "    }\n",
       "\n",
       "    .dataframe tbody tr th {\n",
       "        vertical-align: top;\n",
       "    }\n",
       "\n",
       "    .dataframe thead th {\n",
       "        text-align: right;\n",
       "    }\n",
       "</style>\n",
       "<table border=\"1\" class=\"dataframe\">\n",
       "  <thead>\n",
       "    <tr style=\"text-align: right;\">\n",
       "      <th></th>\n",
       "      <th>rating</th>\n",
       "      <th>year</th>\n",
       "    </tr>\n",
       "  </thead>\n",
       "  <tbody>\n",
       "    <tr>\n",
       "      <th>mean</th>\n",
       "      <td>4.608571</td>\n",
       "      <td>2013.508571</td>\n",
       "    </tr>\n",
       "    <tr>\n",
       "      <th>std</th>\n",
       "      <td>0.226941</td>\n",
       "      <td>3.284711</td>\n",
       "    </tr>\n",
       "  </tbody>\n",
       "</table>\n",
       "</div>"
      ],
      "text/plain": [
       "        rating         year\n",
       "mean  4.608571  2013.508571\n",
       "std   0.226941     3.284711"
      ]
     },
     "execution_count": 23,
     "metadata": {},
     "output_type": "execute_result"
    }
   ],
   "source": [
    "books.agg(['mean','std'])"
   ]
  },
  {
   "cell_type": "markdown",
   "id": "81cc8036",
   "metadata": {},
   "source": [
    "We can specify which aggregating function to apply to each column by passing an object."
   ]
  },
  {
   "cell_type": "code",
   "execution_count": 24,
   "id": "590b820e",
   "metadata": {},
   "outputs": [
    {
     "data": {
      "text/html": [
       "<div>\n",
       "<style scoped>\n",
       "    .dataframe tbody tr th:only-of-type {\n",
       "        vertical-align: middle;\n",
       "    }\n",
       "\n",
       "    .dataframe tbody tr th {\n",
       "        vertical-align: top;\n",
       "    }\n",
       "\n",
       "    .dataframe thead th {\n",
       "        text-align: right;\n",
       "    }\n",
       "</style>\n",
       "<table border=\"1\" class=\"dataframe\">\n",
       "  <thead>\n",
       "    <tr style=\"text-align: right;\">\n",
       "      <th></th>\n",
       "      <th>rating</th>\n",
       "      <th>year</th>\n",
       "    </tr>\n",
       "  </thead>\n",
       "  <tbody>\n",
       "    <tr>\n",
       "      <th>mean</th>\n",
       "      <td>4.608571</td>\n",
       "      <td>NaN</td>\n",
       "    </tr>\n",
       "    <tr>\n",
       "      <th>std</th>\n",
       "      <td>0.226941</td>\n",
       "      <td>NaN</td>\n",
       "    </tr>\n",
       "    <tr>\n",
       "      <th>median</th>\n",
       "      <td>NaN</td>\n",
       "      <td>2013.0</td>\n",
       "    </tr>\n",
       "  </tbody>\n",
       "</table>\n",
       "</div>"
      ],
      "text/plain": [
       "          rating    year\n",
       "mean    4.608571     NaN\n",
       "std     0.226941     NaN\n",
       "median       NaN  2013.0"
      ]
     },
     "execution_count": 24,
     "metadata": {},
     "output_type": "execute_result"
    }
   ],
   "source": [
    "books.agg({\n",
    "    'rating': ['mean', 'std'],\n",
    "    'year': ['median']\n",
    "})"
   ]
  },
  {
   "cell_type": "markdown",
   "id": "634601f6",
   "metadata": {},
   "source": [
    "We can assign and display aggregating functions to particular columns when using `groupby` as follows:"
   ]
  },
  {
   "cell_type": "code",
   "execution_count": 25,
   "id": "d8f2c053",
   "metadata": {},
   "outputs": [
    {
     "data": {
      "text/html": [
       "<div>\n",
       "<style scoped>\n",
       "    .dataframe tbody tr th:only-of-type {\n",
       "        vertical-align: middle;\n",
       "    }\n",
       "\n",
       "    .dataframe tbody tr th {\n",
       "        vertical-align: top;\n",
       "    }\n",
       "\n",
       "    .dataframe thead th {\n",
       "        text-align: right;\n",
       "    }\n",
       "</style>\n",
       "<table border=\"1\" class=\"dataframe\">\n",
       "  <thead>\n",
       "    <tr style=\"text-align: right;\">\n",
       "      <th></th>\n",
       "      <th>mean_rating</th>\n",
       "      <th>std_rating</th>\n",
       "      <th>median_year</th>\n",
       "    </tr>\n",
       "    <tr>\n",
       "      <th>genre</th>\n",
       "      <th></th>\n",
       "      <th></th>\n",
       "      <th></th>\n",
       "    </tr>\n",
       "  </thead>\n",
       "  <tbody>\n",
       "    <tr>\n",
       "      <th>Childrens</th>\n",
       "      <td>4.780000</td>\n",
       "      <td>0.122370</td>\n",
       "      <td>2015.0</td>\n",
       "    </tr>\n",
       "    <tr>\n",
       "      <th>Fiction</th>\n",
       "      <td>4.570229</td>\n",
       "      <td>0.281123</td>\n",
       "      <td>2013.0</td>\n",
       "    </tr>\n",
       "    <tr>\n",
       "      <th>Non Fiction</th>\n",
       "      <td>4.598324</td>\n",
       "      <td>0.179411</td>\n",
       "      <td>2013.0</td>\n",
       "    </tr>\n",
       "  </tbody>\n",
       "</table>\n",
       "</div>"
      ],
      "text/plain": [
       "             mean_rating  std_rating  median_year\n",
       "genre                                            \n",
       "Childrens       4.780000    0.122370       2015.0\n",
       "Fiction         4.570229    0.281123       2013.0\n",
       "Non Fiction     4.598324    0.179411       2013.0"
      ]
     },
     "execution_count": 25,
     "metadata": {},
     "output_type": "execute_result"
    }
   ],
   "source": [
    "books.groupby('genre').agg(\n",
    "    mean_rating=('rating', 'mean'),\n",
    "    std_rating=('rating', 'std'),\n",
    "    median_year=('year', 'median')\n",
    ")"
   ]
  },
  {
   "cell_type": "markdown",
   "id": "3c3a1485",
   "metadata": {},
   "source": [
    "#### Barplot Example\n",
    "The vertical line on top of each bar indicates a 95% confidence interval."
   ]
  },
  {
   "cell_type": "code",
   "execution_count": 26,
   "id": "eb090f16",
   "metadata": {},
   "outputs": [
    {
     "data": {
      "image/png": "[encoded data removed]",
      "text/plain": [
       "<Figure size 640x480 with 1 Axes>"
      ]
     },
     "metadata": {},
     "output_type": "display_data"
    }
   ],
   "source": [
    "sns.barplot(data=books, x='genre',  y='rating')\n",
    "plt.show()"
   ]
  },
  {
   "cell_type": "markdown",
   "id": "b3ed3c49",
   "metadata": {},
   "source": [
    "## Handling Missing Values\n",
    "\n",
    "We can count the number of missing values per column by chaining `.isna().` and `.sum()`."
   ]
  },
  {
   "cell_type": "code",
   "execution_count": 29,
   "id": "05eb48f0",
   "metadata": {},
   "outputs": [
    {
     "name": "stdout",
     "output_type": "stream",
     "text": [
      "Working_Year            0\n",
      "Designation             0\n",
      "Experience              0\n",
      "Employment_Status       0\n",
      "Employee_Location       0\n",
      "Company_Size            0\n",
      "Remote_Working_Ratio    0\n",
      "Salary_USD              0\n",
      "dtype: int64\n"
     ]
    }
   ],
   "source": [
    "print(salaries.isna().sum())"
   ]
  },
  {
   "cell_type": "markdown",
   "id": "455cec9e",
   "metadata": {},
   "source": [
    "#### Rule of Thumb: Drop missing values if the they amount to 5% or less of total values.\n",
    "\n",
    "#### If more than 5%, we can replace the values with summary statistics (impute)\n",
    "\n",
    "#### Determining 5% theshold:"
   ]
  },
  {
   "cell_type": "code",
   "execution_count": 30,
   "id": "dd7916c3",
   "metadata": {},
   "outputs": [
    {
     "data": {
      "text/plain": [
       "30"
      ]
     },
     "execution_count": 30,
     "metadata": {},
     "output_type": "execute_result"
    }
   ],
   "source": [
    "threshold = int(len(salaries) *.05)\n",
    "threshold"
   ]
  },
  {
   "cell_type": "markdown",
   "id": "37647576",
   "metadata": {},
   "source": [
    "#### Filter by columns to drop:"
   ]
  },
  {
   "cell_type": "code",
   "execution_count": 31,
   "id": "16c097dc",
   "metadata": {},
   "outputs": [
    {
     "data": {
      "text/plain": [
       "Index(['Working_Year', 'Designation', 'Experience', 'Employment_Status',\n",
       "       'Employee_Location', 'Company_Size', 'Remote_Working_Ratio',\n",
       "       'Salary_USD'],\n",
       "      dtype='object')"
      ]
     },
     "execution_count": 31,
     "metadata": {},
     "output_type": "execute_result"
    }
   ],
   "source": [
    "cols_to_drop = salaries.columns[salaries.isna().sum() <= threshold]\n",
    "cols_to_drop"
   ]
  },
  {
   "cell_type": "markdown",
   "id": "dea971de",
   "metadata": {},
   "source": [
    "#### Drop columns with .dropna(cols)"
   ]
  },
  {
   "cell_type": "code",
   "execution_count": 32,
   "id": "7a371c93",
   "metadata": {},
   "outputs": [
    {
     "data": {
      "text/html": [
       "<div>\n",
       "<style scoped>\n",
       "    .dataframe tbody tr th:only-of-type {\n",
       "        vertical-align: middle;\n",
       "    }\n",
       "\n",
       "    .dataframe tbody tr th {\n",
       "        vertical-align: top;\n",
       "    }\n",
       "\n",
       "    .dataframe thead th {\n",
       "        text-align: right;\n",
       "    }\n",
       "</style>\n",
       "<table border=\"1\" class=\"dataframe\">\n",
       "  <thead>\n",
       "    <tr style=\"text-align: right;\">\n",
       "      <th></th>\n",
       "      <th>Working_Year</th>\n",
       "      <th>Designation</th>\n",
       "      <th>Experience</th>\n",
       "      <th>Employment_Status</th>\n",
       "      <th>Employee_Location</th>\n",
       "      <th>Company_Size</th>\n",
       "      <th>Remote_Working_Ratio</th>\n",
       "      <th>Salary_USD</th>\n",
       "    </tr>\n",
       "  </thead>\n",
       "  <tbody>\n",
       "    <tr>\n",
       "      <th>0</th>\n",
       "      <td>2020</td>\n",
       "      <td>Data Scientist</td>\n",
       "      <td>Mid</td>\n",
       "      <td>FT</td>\n",
       "      <td>DE</td>\n",
       "      <td>L</td>\n",
       "      <td>0</td>\n",
       "      <td>76227.0</td>\n",
       "    </tr>\n",
       "    <tr>\n",
       "      <th>1</th>\n",
       "      <td>2020</td>\n",
       "      <td>Machine Learning Scientist</td>\n",
       "      <td>Senior</td>\n",
       "      <td>FT</td>\n",
       "      <td>JP</td>\n",
       "      <td>S</td>\n",
       "      <td>0</td>\n",
       "      <td>248257.0</td>\n",
       "    </tr>\n",
       "    <tr>\n",
       "      <th>2</th>\n",
       "      <td>2020</td>\n",
       "      <td>Big Data Engineer</td>\n",
       "      <td>Senior</td>\n",
       "      <td>FT</td>\n",
       "      <td>GB</td>\n",
       "      <td>M</td>\n",
       "      <td>50</td>\n",
       "      <td>104100.0</td>\n",
       "    </tr>\n",
       "    <tr>\n",
       "      <th>3</th>\n",
       "      <td>2020</td>\n",
       "      <td>Product Data Analyst</td>\n",
       "      <td>Mid</td>\n",
       "      <td>FT</td>\n",
       "      <td>HN</td>\n",
       "      <td>S</td>\n",
       "      <td>0</td>\n",
       "      <td>19097.0</td>\n",
       "    </tr>\n",
       "    <tr>\n",
       "      <th>4</th>\n",
       "      <td>2020</td>\n",
       "      <td>Machine Learning Engineer</td>\n",
       "      <td>Senior</td>\n",
       "      <td>FT</td>\n",
       "      <td>US</td>\n",
       "      <td>L</td>\n",
       "      <td>50</td>\n",
       "      <td>143225.0</td>\n",
       "    </tr>\n",
       "  </tbody>\n",
       "</table>\n",
       "</div>"
      ],
      "text/plain": [
       "   Working_Year                 Designation Experience Employment_Status  \\\n",
       "0          2020              Data Scientist        Mid                FT   \n",
       "1          2020  Machine Learning Scientist     Senior                FT   \n",
       "2          2020           Big Data Engineer     Senior                FT   \n",
       "3          2020        Product Data Analyst        Mid                FT   \n",
       "4          2020   Machine Learning Engineer     Senior                FT   \n",
       "\n",
       "  Employee_Location Company_Size  Remote_Working_Ratio  Salary_USD  \n",
       "0                DE            L                     0     76227.0  \n",
       "1                JP            S                     0    248257.0  \n",
       "2                GB            M                    50    104100.0  \n",
       "3                HN            S                     0     19097.0  \n",
       "4                US            L                    50    143225.0  "
      ]
     },
     "execution_count": 32,
     "metadata": {},
     "output_type": "execute_result"
    }
   ],
   "source": [
    "salaries.dropna(subset=cols_to_drop, inplace=True)\n",
    "salaries.head()"
   ]
  },
  {
   "cell_type": "markdown",
   "id": "f1e7d722",
   "metadata": {},
   "source": [
    "#### Filtering to impute summary statistics:"
   ]
  },
  {
   "cell_type": "code",
   "execution_count": 93,
   "id": "31c19899",
   "metadata": {},
   "outputs": [
    {
     "data": {
      "text/plain": [
       "Index([], dtype='object')"
      ]
     },
     "execution_count": 93,
     "metadata": {},
     "output_type": "execute_result"
    }
   ],
   "source": [
    "cols_with_missing_values = salaries.columns[salaries.isna().sum()>0]\n",
    "cols_with_missing_values"
   ]
  },
  {
   "cell_type": "markdown",
   "id": "cf2f9ef8",
   "metadata": {},
   "source": [
    "#### Imputing mode to missing values."
   ]
  },
  {
   "cell_type": "code",
   "execution_count": 94,
   "id": "79686231",
   "metadata": {},
   "outputs": [],
   "source": [
    "for col in cols_with_missing_values[:-1]:\n",
    "    salaries[col].fillna(salaries[col].mode()[0])"
   ]
  },
  {
   "cell_type": "markdown",
   "id": "d135570b",
   "metadata": {},
   "source": [
    "#### Imputing by sub-group with median:"
   ]
  },
  {
   "cell_type": "code",
   "execution_count": 96,
   "id": "498bb1cd",
   "metadata": {},
   "outputs": [
    {
     "data": {
      "text/plain": [
       "{'Entry': 53948.0, 'Executive': 163694.5, 'Mid': 73465.0, 'Senior': 129380.0}"
      ]
     },
     "execution_count": 96,
     "metadata": {},
     "output_type": "execute_result"
    }
   ],
   "source": [
    "salaries_dict = salaries.groupby('Experience')['Salary_USD'].median().to_dict()\n"
   ]
  },
  {
   "cell_type": "code",
   "execution_count": 97,
   "id": "c6431d0e",
   "metadata": {},
   "outputs": [],
   "source": [
    "salaries['Salary_USD'] = salaries['Salary_USD'].fillna(salaries['Experience'].map(salaries_dict))"
   ]
  },
  {
   "cell_type": "code",
   "execution_count": 98,
   "id": "b5165a89",
   "metadata": {},
   "outputs": [
    {
     "data": {
      "text/html": [
       "<div>\n",
       "<style scoped>\n",
       "    .dataframe tbody tr th:only-of-type {\n",
       "        vertical-align: middle;\n",
       "    }\n",
       "\n",
       "    .dataframe tbody tr th {\n",
       "        vertical-align: top;\n",
       "    }\n",
       "\n",
       "    .dataframe thead th {\n",
       "        text-align: right;\n",
       "    }\n",
       "</style>\n",
       "<table border=\"1\" class=\"dataframe\">\n",
       "  <thead>\n",
       "    <tr style=\"text-align: right;\">\n",
       "      <th></th>\n",
       "      <th>Working_Year</th>\n",
       "      <th>Designation</th>\n",
       "      <th>Experience</th>\n",
       "      <th>Employment_Status</th>\n",
       "      <th>Employee_Location</th>\n",
       "      <th>Company_Size</th>\n",
       "      <th>Remote_Working_Ratio</th>\n",
       "      <th>Salary_USD</th>\n",
       "    </tr>\n",
       "  </thead>\n",
       "  <tbody>\n",
       "    <tr>\n",
       "      <th>0</th>\n",
       "      <td>2020</td>\n",
       "      <td>Data Scientist</td>\n",
       "      <td>Mid</td>\n",
       "      <td>FT</td>\n",
       "      <td>DE</td>\n",
       "      <td>L</td>\n",
       "      <td>0</td>\n",
       "      <td>76227.0</td>\n",
       "    </tr>\n",
       "    <tr>\n",
       "      <th>1</th>\n",
       "      <td>2020</td>\n",
       "      <td>Machine Learning Scientist</td>\n",
       "      <td>Senior</td>\n",
       "      <td>FT</td>\n",
       "      <td>JP</td>\n",
       "      <td>S</td>\n",
       "      <td>0</td>\n",
       "      <td>248257.0</td>\n",
       "    </tr>\n",
       "    <tr>\n",
       "      <th>2</th>\n",
       "      <td>2020</td>\n",
       "      <td>Big Data Engineer</td>\n",
       "      <td>Senior</td>\n",
       "      <td>FT</td>\n",
       "      <td>GB</td>\n",
       "      <td>M</td>\n",
       "      <td>50</td>\n",
       "      <td>104100.0</td>\n",
       "    </tr>\n",
       "    <tr>\n",
       "      <th>3</th>\n",
       "      <td>2020</td>\n",
       "      <td>Product Data Analyst</td>\n",
       "      <td>Mid</td>\n",
       "      <td>FT</td>\n",
       "      <td>HN</td>\n",
       "      <td>S</td>\n",
       "      <td>0</td>\n",
       "      <td>19097.0</td>\n",
       "    </tr>\n",
       "    <tr>\n",
       "      <th>4</th>\n",
       "      <td>2020</td>\n",
       "      <td>Machine Learning Engineer</td>\n",
       "      <td>Senior</td>\n",
       "      <td>FT</td>\n",
       "      <td>US</td>\n",
       "      <td>L</td>\n",
       "      <td>50</td>\n",
       "      <td>143225.0</td>\n",
       "    </tr>\n",
       "    <tr>\n",
       "      <th>...</th>\n",
       "      <td>...</td>\n",
       "      <td>...</td>\n",
       "      <td>...</td>\n",
       "      <td>...</td>\n",
       "      <td>...</td>\n",
       "      <td>...</td>\n",
       "      <td>...</td>\n",
       "      <td>...</td>\n",
       "    </tr>\n",
       "    <tr>\n",
       "      <th>602</th>\n",
       "      <td>2022</td>\n",
       "      <td>Data Engineer</td>\n",
       "      <td>Senior</td>\n",
       "      <td>FT</td>\n",
       "      <td>US</td>\n",
       "      <td>M</td>\n",
       "      <td>100</td>\n",
       "      <td>147044.0</td>\n",
       "    </tr>\n",
       "    <tr>\n",
       "      <th>603</th>\n",
       "      <td>2022</td>\n",
       "      <td>Data Engineer</td>\n",
       "      <td>Senior</td>\n",
       "      <td>FT</td>\n",
       "      <td>US</td>\n",
       "      <td>M</td>\n",
       "      <td>100</td>\n",
       "      <td>120309.0</td>\n",
       "    </tr>\n",
       "    <tr>\n",
       "      <th>604</th>\n",
       "      <td>2022</td>\n",
       "      <td>Data Analyst</td>\n",
       "      <td>Senior</td>\n",
       "      <td>FT</td>\n",
       "      <td>US</td>\n",
       "      <td>M</td>\n",
       "      <td>0</td>\n",
       "      <td>123174.0</td>\n",
       "    </tr>\n",
       "    <tr>\n",
       "      <th>605</th>\n",
       "      <td>2022</td>\n",
       "      <td>Data Analyst</td>\n",
       "      <td>Senior</td>\n",
       "      <td>FT</td>\n",
       "      <td>US</td>\n",
       "      <td>M</td>\n",
       "      <td>100</td>\n",
       "      <td>143225.0</td>\n",
       "    </tr>\n",
       "    <tr>\n",
       "      <th>606</th>\n",
       "      <td>2022</td>\n",
       "      <td>AI Scientist</td>\n",
       "      <td>Mid</td>\n",
       "      <td>FT</td>\n",
       "      <td>IN</td>\n",
       "      <td>L</td>\n",
       "      <td>100</td>\n",
       "      <td>190967.0</td>\n",
       "    </tr>\n",
       "  </tbody>\n",
       "</table>\n",
       "<p>607 rows × 8 columns</p>\n",
       "</div>"
      ],
      "text/plain": [
       "     Working_Year                 Designation Experience Employment_Status  \\\n",
       "0            2020              Data Scientist        Mid                FT   \n",
       "1            2020  Machine Learning Scientist     Senior                FT   \n",
       "2            2020           Big Data Engineer     Senior                FT   \n",
       "3            2020        Product Data Analyst        Mid                FT   \n",
       "4            2020   Machine Learning Engineer     Senior                FT   \n",
       "..            ...                         ...        ...               ...   \n",
       "602          2022               Data Engineer     Senior                FT   \n",
       "603          2022               Data Engineer     Senior                FT   \n",
       "604          2022                Data Analyst     Senior                FT   \n",
       "605          2022                Data Analyst     Senior                FT   \n",
       "606          2022                AI Scientist        Mid                FT   \n",
       "\n",
       "    Employee_Location Company_Size  Remote_Working_Ratio  Salary_USD  \n",
       "0                  DE            L                     0     76227.0  \n",
       "1                  JP            S                     0    248257.0  \n",
       "2                  GB            M                    50    104100.0  \n",
       "3                  HN            S                     0     19097.0  \n",
       "4                  US            L                    50    143225.0  \n",
       "..                ...          ...                   ...         ...  \n",
       "602                US            M                   100    147044.0  \n",
       "603                US            M                   100    120309.0  \n",
       "604                US            M                     0    123174.0  \n",
       "605                US            M                   100    143225.0  \n",
       "606                IN            L                   100    190967.0  \n",
       "\n",
       "[607 rows x 8 columns]"
      ]
     },
     "execution_count": 98,
     "metadata": {},
     "output_type": "execute_result"
    }
   ],
   "source": [
    "salaries"
   ]
  },
  {
   "cell_type": "markdown",
   "id": "232ce3b5",
   "metadata": {},
   "source": [
    "## Converting and Analyzing Categorical Data"
   ]
  },
  {
   "cell_type": "markdown",
   "id": "bc34fee8",
   "metadata": {},
   "source": [
    "#### Using select_dtypes to filter any non-numeric data for a preview"
   ]
  },
  {
   "cell_type": "code",
   "execution_count": 36,
   "id": "890a17a0",
   "metadata": {},
   "outputs": [
    {
     "data": {
      "text/html": [
       "<div>\n",
       "<style scoped>\n",
       "    .dataframe tbody tr th:only-of-type {\n",
       "        vertical-align: middle;\n",
       "    }\n",
       "\n",
       "    .dataframe tbody tr th {\n",
       "        vertical-align: top;\n",
       "    }\n",
       "\n",
       "    .dataframe thead th {\n",
       "        text-align: right;\n",
       "    }\n",
       "</style>\n",
       "<table border=\"1\" class=\"dataframe\">\n",
       "  <thead>\n",
       "    <tr style=\"text-align: right;\">\n",
       "      <th></th>\n",
       "      <th>Designation</th>\n",
       "      <th>Experience</th>\n",
       "      <th>Employment_Status</th>\n",
       "      <th>Employee_Location</th>\n",
       "      <th>Company_Size</th>\n",
       "    </tr>\n",
       "  </thead>\n",
       "  <tbody>\n",
       "    <tr>\n",
       "      <th>0</th>\n",
       "      <td>Data Scientist</td>\n",
       "      <td>Mid</td>\n",
       "      <td>FT</td>\n",
       "      <td>DE</td>\n",
       "      <td>L</td>\n",
       "    </tr>\n",
       "    <tr>\n",
       "      <th>1</th>\n",
       "      <td>Machine Learning Scientist</td>\n",
       "      <td>Senior</td>\n",
       "      <td>FT</td>\n",
       "      <td>JP</td>\n",
       "      <td>S</td>\n",
       "    </tr>\n",
       "    <tr>\n",
       "      <th>2</th>\n",
       "      <td>Big Data Engineer</td>\n",
       "      <td>Senior</td>\n",
       "      <td>FT</td>\n",
       "      <td>GB</td>\n",
       "      <td>M</td>\n",
       "    </tr>\n",
       "    <tr>\n",
       "      <th>3</th>\n",
       "      <td>Product Data Analyst</td>\n",
       "      <td>Mid</td>\n",
       "      <td>FT</td>\n",
       "      <td>HN</td>\n",
       "      <td>S</td>\n",
       "    </tr>\n",
       "    <tr>\n",
       "      <th>4</th>\n",
       "      <td>Machine Learning Engineer</td>\n",
       "      <td>Senior</td>\n",
       "      <td>FT</td>\n",
       "      <td>US</td>\n",
       "      <td>L</td>\n",
       "    </tr>\n",
       "  </tbody>\n",
       "</table>\n",
       "</div>"
      ],
      "text/plain": [
       "                  Designation Experience Employment_Status Employee_Location  \\\n",
       "0              Data Scientist        Mid                FT                DE   \n",
       "1  Machine Learning Scientist     Senior                FT                JP   \n",
       "2           Big Data Engineer     Senior                FT                GB   \n",
       "3        Product Data Analyst        Mid                FT                HN   \n",
       "4   Machine Learning Engineer     Senior                FT                US   \n",
       "\n",
       "  Company_Size  \n",
       "0            L  \n",
       "1            S  \n",
       "2            M  \n",
       "3            S  \n",
       "4            L  "
      ]
     },
     "execution_count": 36,
     "metadata": {},
     "output_type": "execute_result"
    }
   ],
   "source": [
    "salaries.select_dtypes('object').head()"
   ]
  },
  {
   "cell_type": "markdown",
   "id": "4c3a6137",
   "metadata": {},
   "source": [
    "#### Viewing frequency values in a specific column"
   ]
  },
  {
   "cell_type": "code",
   "execution_count": 40,
   "id": "c62f62ce",
   "metadata": {},
   "outputs": [
    {
     "data": {
      "text/plain": [
       "Data Scientist               143\n",
       "Data Engineer                132\n",
       "Data Analyst                  97\n",
       "Machine Learning Engineer     41\n",
       "Research Scientist            16\n",
       "Name: Designation, dtype: int64"
      ]
     },
     "execution_count": 40,
     "metadata": {},
     "output_type": "execute_result"
    }
   ],
   "source": [
    "salaries[\"Designation\"].value_counts().head()"
   ]
  },
  {
   "cell_type": "markdown",
   "id": "f89b09bf",
   "metadata": {},
   "source": [
    "#### Counting number of unique categories"
   ]
  },
  {
   "cell_type": "code",
   "execution_count": 42,
   "id": "728faaee",
   "metadata": {},
   "outputs": [
    {
     "data": {
      "text/plain": [
       "50"
      ]
     },
     "execution_count": 42,
     "metadata": {},
     "output_type": "execute_result"
    }
   ],
   "source": [
    "salaries[\"Designation\"].nunique()"
   ]
  },
  {
   "cell_type": "markdown",
   "id": "cdf66e35",
   "metadata": {},
   "source": [
    "#### pandas.Series.str.contains() is used to search a column for a specific string or multiple strings"
   ]
  },
  {
   "cell_type": "code",
   "execution_count": 44,
   "id": "cd6e4655",
   "metadata": {},
   "outputs": [
    {
     "data": {
      "text/plain": [
       "0       True\n",
       "1       True\n",
       "2      False\n",
       "3      False\n",
       "4      False\n",
       "       ...  \n",
       "602    False\n",
       "603    False\n",
       "604    False\n",
       "605    False\n",
       "606     True\n",
       "Name: Designation, Length: 607, dtype: bool"
      ]
     },
     "execution_count": 44,
     "metadata": {},
     "output_type": "execute_result"
    }
   ],
   "source": [
    "salaries['Designation'].str.contains('Scientist')"
   ]
  },
  {
   "cell_type": "code",
   "execution_count": 45,
   "id": "79003aca",
   "metadata": {},
   "outputs": [
    {
     "data": {
      "text/plain": [
       "0      False\n",
       "1       True\n",
       "2      False\n",
       "3      False\n",
       "4       True\n",
       "       ...  \n",
       "602    False\n",
       "603    False\n",
       "604    False\n",
       "605    False\n",
       "606     True\n",
       "Name: Designation, Length: 607, dtype: bool"
      ]
     },
     "execution_count": 45,
     "metadata": {},
     "output_type": "execute_result"
    }
   ],
   "source": [
    "salaries['Designation'].str.contains('Machine Learning|AI')"
   ]
  },
  {
   "cell_type": "markdown",
   "id": "5e97b8d4",
   "metadata": {},
   "source": [
    "#### Creating a new column of categories by using multiple phrases in a search string."
   ]
  },
  {
   "cell_type": "code",
   "execution_count": 52,
   "id": "9ef4a0c8",
   "metadata": {},
   "outputs": [],
   "source": [
    "# Create list of differenct categories which will be the values of the new column\n",
    "job_categories = [\n",
    "    'Data Science',\n",
    "    'Data Analytics',\n",
    "    'Data Engineering',\n",
    "    'Machine Learning',\n",
    "    'Managerial',\n",
    "    'Consultant'\n",
    "]"
   ]
  },
  {
   "cell_type": "code",
   "execution_count": 53,
   "id": "88b529a0",
   "metadata": {},
   "outputs": [],
   "source": [
    "# Create variables containing our filters to search\n",
    "data_science = 'Data Scientist|NLP'\n",
    "data_analyst = 'Analyst|Analytics'\n",
    "data_engineer = 'Data Engineer|ETL|Architect|Infrastructure'\n",
    "ml_engineer = 'Machine Learning|ML|Big Data|AI'\n",
    "manager = 'Manager|Head|Director|Lead|Principal|Staff'\n",
    "consultant = 'Consultant|Freelance'"
   ]
  },
  {
   "cell_type": "code",
   "execution_count": 54,
   "id": "88146d25",
   "metadata": {},
   "outputs": [],
   "source": [
    "# Create a list with range of conditions for the .contains method\n",
    "conditions = [\n",
    "    (salaries['Designation'].str.contains(data_science)),\n",
    "    (salaries['Designation'].str.contains(data_analyst)),\n",
    "    (salaries['Designation'].str.contains(data_engineer)),\n",
    "    (salaries['Designation'].str.contains(ml_engineer)),\n",
    "    (salaries['Designation'].str.contains(manager)),\n",
    "    (salaries['Designation'].str.contains(consultant))\n",
    "]"
   ]
  },
  {
   "cell_type": "code",
   "execution_count": 55,
   "id": "52263a3d",
   "metadata": {},
   "outputs": [],
   "source": [
    "# Creating the new column:\n",
    "salaries['Job_Category'] = np.select(conditions,\n",
    "                                     job_categories,\n",
    "                                     default='Other')"
   ]
  },
  {
   "cell_type": "code",
   "execution_count": 61,
   "id": "aba5b69c",
   "metadata": {},
   "outputs": [
    {
     "data": {
      "text/html": [
       "<div>\n",
       "<style scoped>\n",
       "    .dataframe tbody tr th:only-of-type {\n",
       "        vertical-align: middle;\n",
       "    }\n",
       "\n",
       "    .dataframe tbody tr th {\n",
       "        vertical-align: top;\n",
       "    }\n",
       "\n",
       "    .dataframe thead th {\n",
       "        text-align: right;\n",
       "    }\n",
       "</style>\n",
       "<table border=\"1\" class=\"dataframe\">\n",
       "  <thead>\n",
       "    <tr style=\"text-align: right;\">\n",
       "      <th></th>\n",
       "      <th>Designation</th>\n",
       "      <th>Job_Category</th>\n",
       "    </tr>\n",
       "  </thead>\n",
       "  <tbody>\n",
       "    <tr>\n",
       "      <th>0</th>\n",
       "      <td>Data Scientist</td>\n",
       "      <td>Data Science</td>\n",
       "    </tr>\n",
       "    <tr>\n",
       "      <th>1</th>\n",
       "      <td>Machine Learning Scientist</td>\n",
       "      <td>Machine Learning</td>\n",
       "    </tr>\n",
       "    <tr>\n",
       "      <th>2</th>\n",
       "      <td>Big Data Engineer</td>\n",
       "      <td>Data Engineering</td>\n",
       "    </tr>\n",
       "    <tr>\n",
       "      <th>3</th>\n",
       "      <td>Product Data Analyst</td>\n",
       "      <td>Data Analytics</td>\n",
       "    </tr>\n",
       "    <tr>\n",
       "      <th>4</th>\n",
       "      <td>Machine Learning Engineer</td>\n",
       "      <td>Machine Learning</td>\n",
       "    </tr>\n",
       "  </tbody>\n",
       "</table>\n",
       "</div>"
      ],
      "text/plain": [
       "                  Designation      Job_Category\n",
       "0              Data Scientist      Data Science\n",
       "1  Machine Learning Scientist  Machine Learning\n",
       "2           Big Data Engineer  Data Engineering\n",
       "3        Product Data Analyst    Data Analytics\n",
       "4   Machine Learning Engineer  Machine Learning"
      ]
     },
     "execution_count": 61,
     "metadata": {},
     "output_type": "execute_result"
    }
   ],
   "source": [
    "# Preview new column\n",
    "salaries[['Designation', 'Job_Category']].head()"
   ]
  },
  {
   "cell_type": "markdown",
   "id": "97e8d998",
   "metadata": {},
   "source": [
    "#### Example of  Seaborn's  countplot"
   ]
  },
  {
   "cell_type": "code",
   "execution_count": 67,
   "id": "7ad39f87",
   "metadata": {},
   "outputs": [
    {
     "data": {
      "image/png": "[encoded data removed]",
      "text/plain": [
       "<Figure size 640x480 with 1 Axes>"
      ]
     },
     "metadata": {},
     "output_type": "display_data"
    }
   ],
   "source": [
    "sns.countplot(data=salaries, x='Job_Category')\n",
    "plt.show()"
   ]
  },
  {
   "cell_type": "markdown",
   "id": "439eb0b6",
   "metadata": {},
   "source": [
    "## Working with Numeric Data"
   ]
  },
  {
   "cell_type": "markdown",
   "id": "4e9aded6",
   "metadata": {},
   "source": [
    "#### Converting strings to numbers\n",
    "\n",
    "\n",
    "Use `pd.Series.str.replace('[characters to remove]', '[characters to replace with]')`\n",
    "\n",
    "\n",
    "Since data set is cleaned following code will not work, but the syntax is as follows: `salaries['Salary_In_Rupees'] = salaries['Salary_In_Rupees'].str.replace(',', '')`\n",
    "\n",
    "To convert string to number:\n",
    "`salaries['Salary_In_Rupees'] = salaries['Salary_In_Rupees'].astype(float)`"
   ]
  },
  {
   "cell_type": "markdown",
   "id": "d70aab1e",
   "metadata": {},
   "source": [
    "#### Adding summary statistics directly into a DataFrame:\n",
    "\n",
    "`salaries['std_dev'] = salaries.groupby('Experience')['Salary_USD'.transform(lambda x: x.std())`\n",
    "\n",
    "`salaries['std_dev'] = salaries.groupby('Company_Size')['Salary_USD'.transform(lambda x: x.median())`"
   ]
  },
  {
   "cell_type": "code",
   "execution_count": null,
   "id": "dc2c746e",
   "metadata": {},
   "outputs": [],
   "source": []
  }
 ],
 "metadata": {
  "kernelspec": {
   "display_name": "Python 3 (ipykernel)",
   "language": "python",
   "name": "python3"
  },
  "language_info": {
   "codemirror_mode": {
    "name": "ipython",
    "version": 3
   },
   "file_extension": ".py",
   "mimetype": "text/x-python",
   "name": "python",
   "nbconvert_exporter": "python",
   "pygments_lexer": "ipython3",
   "version": "3.9.13"
  }
 },
 "nbformat": 4,
 "nbformat_minor": 5
}
